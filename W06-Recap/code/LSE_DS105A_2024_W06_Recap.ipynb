{
 "cells": [
  {
   "cell_type": "markdown",
   "metadata": {},
   "source": [
    "**OBJECTIVE:** To demonstrate Python and Pandas concepts\n",
    "\n",
    "**LAST UPDATED:** 4 November 2024\n",
    "\n",
    "**AUTHOR:** Jon Cardoso-Silva"
   ]
  },
  {
   "cell_type": "code",
   "execution_count": 1,
   "metadata": {},
   "outputs": [
    {
     "data": {
      "text/html": [
       "\n",
       "            <div id=\"JTUStb\"></div>\n",
       "            <script type=\"text/javascript\" data-lets-plot-script=\"library\">\n",
       "                if(!window.letsPlotCallQueue) {\n",
       "                    window.letsPlotCallQueue = [];\n",
       "                }; \n",
       "                window.letsPlotCall = function(f) {\n",
       "                    window.letsPlotCallQueue.push(f);\n",
       "                };\n",
       "                (function() {\n",
       "                    var script = document.createElement(\"script\");\n",
       "                    script.type = \"text/javascript\";\n",
       "                    script.src = \"https://cdn.jsdelivr.net/gh/JetBrains/lets-plot@v4.3.3/js-package/distr/lets-plot.min.js\";\n",
       "                    script.onload = function() {\n",
       "                        window.letsPlotCall = function(f) {f();};\n",
       "                        window.letsPlotCallQueue.forEach(function(f) {f();});\n",
       "                        window.letsPlotCallQueue = [];\n",
       "                        \n",
       "                    };\n",
       "                    script.onerror = function(event) {\n",
       "                        window.letsPlotCall = function(f) {};    // noop\n",
       "                        window.letsPlotCallQueue = [];\n",
       "                        var div = document.createElement(\"div\");\n",
       "                        div.style.color = 'darkred';\n",
       "                        div.textContent = 'Error loading Lets-Plot JS';\n",
       "                        document.getElementById(\"JTUStb\").appendChild(div);\n",
       "                    };\n",
       "                    var e = document.getElementById(\"JTUStb\");\n",
       "                    e.appendChild(script);\n",
       "                })()\n",
       "            </script>\n",
       "            "
      ]
     },
     "metadata": {},
     "output_type": "display_data"
    }
   ],
   "source": [
    "# Add imports here later\n",
    "\n",
    "# I can import it straightaway\n",
    "import requests\n",
    "\n",
    "# by convention, we use a shorterner - call it pd\n",
    "import pandas as pd\n",
    "\n",
    "from datetime import date, timedelta\n",
    "\n",
    "# Because lets_plot has way too many functions, it's preferrable to import all of them at once\n",
    "from lets_plot import *\n",
    "LetsPlot.setup_html()"
   ]
  },
  {
   "cell_type": "markdown",
   "metadata": {},
   "source": [
    "# 1. Why Python\n",
    "\n",
    "- Think of programming as a way to express your thoughts in a way the machine understands (remember: computers speak only 0s & 1s)\n",
    "    - BUT: to code is also to learn how to _think_ like a programmer (or in a language that your computer understands)\n",
    "\n",
    "- Python is one of the most popular programming languages for data science.\n",
    "\n",
    "- Python is a **high-level programming** language, which means we specify things closer to how we would in English.\n",
    "\n",
    "## Must know:\n",
    "\n",
    "- We store data in **variables** (you can choose the name you give to the variables )"
   ]
  },
  {
   "cell_type": "code",
   "execution_count": 2,
   "metadata": {},
   "outputs": [],
   "source": [
    "# This is a variable\n",
    "# instructor = \"Jon\""
   ]
  },
  {
   "cell_type": "code",
   "execution_count": 3,
   "metadata": {},
   "outputs": [],
   "source": [
    "# print(\"The instructor is \" + instructor)"
   ]
  },
  {
   "cell_type": "markdown",
   "metadata": {},
   "source": [
    "**A note on variable names**:\n",
    "\n",
    "- It's more 'Pythonic' to have variable names that are all lower case and if they have multiple words, they are separate by underscores.\n",
    "- Prefer expressive names (but also shorter). Aim for a balance.\n",
    "\n",
    "For example: `instructor` (good) vs `inst` (bad -- too short and too ambiguous) vs\n",
    "`ds105_main_instructor_of_the_day` (awful)\n",
    "\n",
    "If needed: `lecture_instructor` (good - use underscores when using multiple words) vs `dmiotd` (bad -- cryptic, only you know what it means)"
   ]
  },
  {
   "cell_type": "markdown",
   "metadata": {},
   "source": [
    "- Indentation\n",
    "\n",
    "In a lot of scenarios you need to keep track of the vertical order of the elements inside a block of text. This is the case for `if`, `elif`, `else` blocks, and also for `for` and `while` loops. It's also true for functions."
   ]
  },
  {
   "cell_type": "code",
   "execution_count": 4,
   "metadata": {},
   "outputs": [],
   "source": [
    "# if instructor == \"Riya\":\n",
    "#   print(\"Riya is teaching today\")\n",
    "# elif instructor == \"Alex\":\n",
    "#   print(\"Alex is the one teaching today\")\n",
    "# else:\n",
    "#   print(\"My if-elif failed, so I give up. The instructor is \" + instructor)"
   ]
  },
  {
   "cell_type": "markdown",
   "metadata": {},
   "source": [
    "- **Built-in functions**: things like `range()` and `print()`"
   ]
  },
  {
   "cell_type": "code",
   "execution_count": 5,
   "metadata": {},
   "outputs": [
    {
     "name": "stdout",
     "output_type": "stream",
     "text": [
      "On line 2 of this cell, I set will_it_rain_today: False\n",
      "On line 2 of this cell, I set will_it_rain_today: True\n",
      "True\n"
     ]
    }
   ],
   "source": [
    "will_it_rain_today = False\n",
    "# print() is useful for debugging. \n",
    "# That is, to print out the state of variables at particular lines\n",
    "# We NEED to convert everything to a string when printing them\n",
    "print(\"On line 2 of this cell, I set will_it_rain_today: \" + str(will_it_rain_today))\n",
    "\n",
    "will_it_rain_today = True\n",
    "\n",
    "# Here's another way to do that, with f-strings\n",
    "print(f\"On line 2 of this cell, I set will_it_rain_today: {will_it_rain_today}\")\n",
    "\n",
    "is_it_overcast_today = True\n",
    "print(is_it_overcast_today)"
   ]
  },
  {
   "cell_type": "markdown",
   "metadata": {},
   "source": [
    "# 2. Data Types in Python\n",
    "\n",
    "- [Introduction to Python for Data Science - Dataquest](https://moodle.lse.ac.uk/course/view.php?id=7881){style=\"color:#e26a4f;font-weight:bold\"} <br>(**you can always revisit this self-paced pre-sessional course)**\n",
    "\n",
    "- ⭐️ [Python W3 School Tutorial](https://www.w3schools.com/python/){style=\"color:#e26a4f;font-weight:bold\"} --> a great reference guide\n",
    "\n",
    "- [Primitive Data Types & Collections](https://moodle.lse.ac.uk/mod/page/view.php?id=1537152){style=\"color:#e26a4f;font-weight:bold\"}\n",
    "\n",
    "Most used in data science:\n",
    "\n",
    "- logical/boolean (`bool`) -> to represent binary ideas\n",
    "- numerical (`int`, `float`) -> to represent quantities, prices, measures\n",
    "- text (`str`)\n",
    "- collections (`list`, `dict`)"
   ]
  },
  {
   "cell_type": "markdown",
   "metadata": {},
   "source": [
    "# 3. Python Packages\n",
    "\n",
    "- If you are using code that people from the Internet wrote (not the Python developers), you need to **install it**, then **import it** to your Python script/notebooks.\n",
    "\n",
    "(See the top of the notebook)"
   ]
  },
  {
   "cell_type": "markdown",
   "metadata": {},
   "source": [
    "# 4. Collect data with `requests`"
   ]
  },
  {
   "cell_type": "code",
   "execution_count": null,
   "metadata": {},
   "outputs": [],
   "source": [
    "response = requests.get('http://bbc.co.uk')\n",
    "\n",
    "# This URL returns just a bunch of code that is meant to be\n",
    "# used by browsers - not by data scientists.\n",
    "print(response.text)"
   ]
  },
  {
   "cell_type": "markdown",
   "metadata": {},
   "source": [
    "Some website maintainers will give you direct access to their data via their APIs. API stands for Application Programming Interface. Such is the case of OpenMeteo.\n",
    "\n",
    "They have several **endpoints**. For example:\n",
    "\n",
    "- https://api.open-meteo.com/v1/forecast: the endpoint for forecast\n",
    "- https://historical-forecast-api.open-meteo.com/v1/forecast: the endpoint for historical forecast (not weather data)\n",
    "- https://archive-api.open-meteo.com/v1/archive: the endpoint for historical weather\n",
    "\n"
   ]
  },
  {
   "cell_type": "code",
   "execution_count": 7,
   "metadata": {},
   "outputs": [
    {
     "data": {
      "text/plain": [
       "200"
      ]
     },
     "execution_count": 7,
     "metadata": {},
     "output_type": "execute_result"
    }
   ],
   "source": [
    "response = requests.get('https://api.open-meteo.com/v1/forecast?latitude=51.5085&longitude=-0.1257&hourly=temperature_2m,weather_code&start_date=2024-11-05&end_date=2024-11-05')\n",
    "\n",
    "response.status_code"
   ]
  },
  {
   "cell_type": "code",
   "execution_count": 8,
   "metadata": {},
   "outputs": [
    {
     "name": "stdout",
     "output_type": "stream",
     "text": [
      "{\"latitude\":51.5,\"longitude\":-0.120000124,\"generationtime_ms\":0.02205371856689453,\"utc_offset_seconds\":0,\"timezone\":\"GMT\",\"timezone_abbreviation\":\"GMT\",\"elevation\":23.0,\"hourly_units\":{\"time\":\"iso8601\",\"temperature_2m\":\"°C\",\"weather_code\":\"wmo code\"},\"hourly\":{\"time\":[\"2024-11-05T00:00\",\"2024-11-05T01:00\",\"2024-11-05T02:00\",\"2024-11-05T03:00\",\"2024-11-05T04:00\",\"2024-11-05T05:00\",\"2024-11-05T06:00\",\"2024-11-05T07:00\",\"2024-11-05T08:00\",\"2024-11-05T09:00\",\"2024-11-05T10:00\",\"2024-11-05T11:00\",\"2024-11-05T12:00\",\"2024-11-05T13:00\",\"2024-11-05T14:00\",\"2024-11-05T15:00\",\"2024-11-05T16:00\",\"2024-11-05T17:00\",\"2024-11-05T18:00\",\"2024-11-05T19:00\",\"2024-11-05T20:00\",\"2024-11-05T21:00\",\"2024-11-05T22:00\",\"2024-11-05T23:00\"],\"temperature_2m\":[9.0,8.9,8.9,8.9,8.8,8.7,8.7,8.8,8.9,9.3,9.9,10.3,10.8,11.6,12.2,12.4,12.2,11.6,10.8,10.2,9.8,9.5,9.2,9.1],\"weather_code\":[3,45,3,3,3,3,3,3,45,3,3,3,3,2,1,1,0,0,1,0,0,2,2,0]}}\n"
     ]
    }
   ],
   "source": [
    "print(response.text)"
   ]
  },
  {
   "cell_type": "code",
   "execution_count": 9,
   "metadata": {},
   "outputs": [
    {
     "data": {
      "text/plain": [
       "str"
      ]
     },
     "execution_count": 9,
     "metadata": {},
     "output_type": "execute_result"
    }
   ],
   "source": [
    "# What is the data type of response.text\n",
    "type(response.text)"
   ]
  },
  {
   "cell_type": "markdown",
   "metadata": {},
   "source": [
    "Thankfully, the requests package developers created a `.json()` function for us:"
   ]
  },
  {
   "cell_type": "code",
   "execution_count": 10,
   "metadata": {},
   "outputs": [
    {
     "data": {
      "text/plain": [
       "dict"
      ]
     },
     "execution_count": 10,
     "metadata": {},
     "output_type": "execute_result"
    }
   ],
   "source": [
    "type(response.json())"
   ]
  },
  {
   "cell_type": "markdown",
   "metadata": {},
   "source": [
    "**response.json() will NOT always return a dictionary at the top. It can also be a list.**"
   ]
  },
  {
   "cell_type": "code",
   "execution_count": 11,
   "metadata": {},
   "outputs": [
    {
     "data": {
      "text/plain": [
       "list"
      ]
     },
     "execution_count": 11,
     "metadata": {},
     "output_type": "execute_result"
    }
   ],
   "source": [
    "# OpenMeteo allows you to specify multiple locations at once\n",
    "# In this case, the data is NOT a dictionary, but a list\n",
    "response = requests.get('https://api.open-meteo.com/v1/forecast?latitude=51.5085,48.8534&longitude=-0.1257,2.3488&hourly=temperature_2m,weather_code&start_date=2024-11-05&end_date=2024-11-05')\n",
    "\n",
    "type(response.json())"
   ]
  },
  {
   "cell_type": "markdown",
   "metadata": {},
   "source": [
    "# 5. Use custom functions to automate repeated tasks"
   ]
  },
  {
   "cell_type": "code",
   "execution_count": 17,
   "metadata": {},
   "outputs": [],
   "source": [
    "def get_tomorrows_forecast():\n",
    "    # Get today's date\n",
    "    today = date.today()\n",
    "    # print(f\"Today's date is: {today}\")\n",
    "\n",
    "    # DO NOT USE VARIABLES THAT ARE OUTSIDE OF THIS FUNCTION\n",
    "    # For example, do not use the instructor object we created outside.\n",
    "    # If you do need something that was created outside the function\n",
    "    # Add it as a parameter\n",
    "\n",
    "    # Calculate tomorrow's date in the format YYYY-MM-DD\n",
    "    tomorrow = today + timedelta(days=1) \n",
    "    # print(f\"Tomorrow's date is: {tomorrow}\")\n",
    "\n",
    "    # Build the URL with the date\n",
    "    endpoint    = 'https://api.open-meteo.com/v1/forecast?'\n",
    "    geo_params  = 'latitude=51.5085,48.8534&longitude=-0.1257,2.3488'\n",
    "    variables   = '&hourly=temperature_2m,weather_code'\n",
    "    dates       = f'&start_date={tomorrow}&end_date={tomorrow}'\n",
    "    url = endpoint + geo_params + variables + dates\n",
    "    # print(\"The final URL then is:\")\n",
    "    # print(url)\n",
    "\n",
    "    # Send the request\n",
    "    response = requests.get(url)\n",
    "\n",
    "    if response.status_code == 200:\n",
    "        # Success\n",
    "        data = response.json()\n",
    "    else:\n",
    "        print(\"SOMETHING WENT WRONG!\")\n",
    "\n",
    "    # Return the data\n",
    "    return data\n",
    "\n",
    "data = get_tomorrows_forecast()"
   ]
  },
  {
   "cell_type": "code",
   "execution_count": 63,
   "metadata": {},
   "outputs": [
    {
     "data": {
      "text/plain": [
       "list"
      ]
     },
     "execution_count": 63,
     "metadata": {},
     "output_type": "execute_result"
    }
   ],
   "source": [
    "type(data)"
   ]
  },
  {
   "cell_type": "code",
   "execution_count": 64,
   "metadata": {},
   "outputs": [
    {
     "data": {
      "text/plain": [
       "2"
      ]
     },
     "execution_count": 64,
     "metadata": {},
     "output_type": "execute_result"
    }
   ],
   "source": [
    "len(data)"
   ]
  },
  {
   "cell_type": "code",
   "execution_count": 66,
   "metadata": {},
   "outputs": [
    {
     "data": {
      "text/plain": [
       "dict"
      ]
     },
     "execution_count": 66,
     "metadata": {},
     "output_type": "execute_result"
    }
   ],
   "source": [
    "type(data[0])"
   ]
  },
  {
   "cell_type": "code",
   "execution_count": 67,
   "metadata": {},
   "outputs": [
    {
     "data": {
      "text/plain": [
       "dict_keys(['latitude', 'longitude', 'generationtime_ms', 'utc_offset_seconds', 'timezone', 'timezone_abbreviation', 'elevation', 'hourly_units', 'hourly'])"
      ]
     },
     "execution_count": 67,
     "metadata": {},
     "output_type": "execute_result"
    }
   ],
   "source": [
    "data[0].keys()"
   ]
  },
  {
   "cell_type": "code",
   "execution_count": 69,
   "metadata": {},
   "outputs": [
    {
     "data": {
      "text/plain": [
       "dict_keys(['time', 'temperature_2m', 'weather_code'])"
      ]
     },
     "execution_count": 69,
     "metadata": {},
     "output_type": "execute_result"
    }
   ],
   "source": [
    "data[0]['hourly'].keys()"
   ]
  },
  {
   "cell_type": "markdown",
   "metadata": {},
   "source": [
    "# 6. Pandas DataFrames"
   ]
  },
  {
   "cell_type": "code",
   "execution_count": 20,
   "metadata": {},
   "outputs": [],
   "source": [
    "# If your data is already saved as a CSV, it is very easy to convert it to a pandas DataFrame\n",
    "df_world_cities = pd.read_csv('../../W03-Lab-Solutions/data/world_cities.csv')"
   ]
  },
  {
   "cell_type": "code",
   "execution_count": 23,
   "metadata": {},
   "outputs": [
    {
     "data": {
      "text/plain": [
       "pandas.core.frame.DataFrame"
      ]
     },
     "execution_count": 23,
     "metadata": {},
     "output_type": "execute_result"
    }
   ],
   "source": [
    "# A dataframe (a spreadsheet-like object is the main type of collection in Pandas)\n",
    "type(df_world_cities)"
   ]
  },
  {
   "cell_type": "code",
   "execution_count": 25,
   "metadata": {},
   "outputs": [
    {
     "data": {
      "text/html": [
       "<div>\n",
       "<style scoped>\n",
       "    .dataframe tbody tr th:only-of-type {\n",
       "        vertical-align: middle;\n",
       "    }\n",
       "\n",
       "    .dataframe tbody tr th {\n",
       "        vertical-align: top;\n",
       "    }\n",
       "\n",
       "    .dataframe thead th {\n",
       "        text-align: right;\n",
       "    }\n",
       "</style>\n",
       "<table border=\"1\" class=\"dataframe\">\n",
       "  <thead>\n",
       "    <tr style=\"text-align: right;\">\n",
       "      <th></th>\n",
       "      <th>country</th>\n",
       "      <th>name</th>\n",
       "      <th>lat</th>\n",
       "      <th>lng</th>\n",
       "    </tr>\n",
       "  </thead>\n",
       "  <tbody>\n",
       "    <tr>\n",
       "      <th>0</th>\n",
       "      <td>AD</td>\n",
       "      <td>El Tarter</td>\n",
       "      <td>42.57952</td>\n",
       "      <td>1.65362</td>\n",
       "    </tr>\n",
       "    <tr>\n",
       "      <th>1</th>\n",
       "      <td>AD</td>\n",
       "      <td>Sant Julià de Lòria</td>\n",
       "      <td>42.46372</td>\n",
       "      <td>1.49129</td>\n",
       "    </tr>\n",
       "    <tr>\n",
       "      <th>2</th>\n",
       "      <td>AD</td>\n",
       "      <td>Pas de la Casa</td>\n",
       "      <td>42.54277</td>\n",
       "      <td>1.73361</td>\n",
       "    </tr>\n",
       "    <tr>\n",
       "      <th>3</th>\n",
       "      <td>AD</td>\n",
       "      <td>Ordino</td>\n",
       "      <td>42.55623</td>\n",
       "      <td>1.53319</td>\n",
       "    </tr>\n",
       "    <tr>\n",
       "      <th>4</th>\n",
       "      <td>AD</td>\n",
       "      <td>les Escaldes</td>\n",
       "      <td>42.50729</td>\n",
       "      <td>1.53414</td>\n",
       "    </tr>\n",
       "    <tr>\n",
       "      <th>...</th>\n",
       "      <td>...</td>\n",
       "      <td>...</td>\n",
       "      <td>...</td>\n",
       "      <td>...</td>\n",
       "    </tr>\n",
       "    <tr>\n",
       "      <th>149832</th>\n",
       "      <td>ZW</td>\n",
       "      <td>Beitbridge</td>\n",
       "      <td>-22.21667</td>\n",
       "      <td>30.00000</td>\n",
       "    </tr>\n",
       "    <tr>\n",
       "      <th>149833</th>\n",
       "      <td>ZW</td>\n",
       "      <td>Beatrice</td>\n",
       "      <td>-18.25283</td>\n",
       "      <td>30.84730</td>\n",
       "    </tr>\n",
       "    <tr>\n",
       "      <th>149834</th>\n",
       "      <td>ZW</td>\n",
       "      <td>Banket</td>\n",
       "      <td>-17.38333</td>\n",
       "      <td>30.40000</td>\n",
       "    </tr>\n",
       "    <tr>\n",
       "      <th>149835</th>\n",
       "      <td>ZW</td>\n",
       "      <td>Epworth</td>\n",
       "      <td>-17.89000</td>\n",
       "      <td>31.14750</td>\n",
       "    </tr>\n",
       "    <tr>\n",
       "      <th>149836</th>\n",
       "      <td>ZW</td>\n",
       "      <td>Chitungwiza</td>\n",
       "      <td>-18.01274</td>\n",
       "      <td>31.07555</td>\n",
       "    </tr>\n",
       "  </tbody>\n",
       "</table>\n",
       "<p>149837 rows × 4 columns</p>\n",
       "</div>"
      ],
      "text/plain": [
       "       country                 name       lat       lng\n",
       "0           AD            El Tarter  42.57952   1.65362\n",
       "1           AD  Sant Julià de Lòria  42.46372   1.49129\n",
       "2           AD       Pas de la Casa  42.54277   1.73361\n",
       "3           AD               Ordino  42.55623   1.53319\n",
       "4           AD         les Escaldes  42.50729   1.53414\n",
       "...        ...                  ...       ...       ...\n",
       "149832      ZW           Beitbridge -22.21667  30.00000\n",
       "149833      ZW             Beatrice -18.25283  30.84730\n",
       "149834      ZW               Banket -17.38333  30.40000\n",
       "149835      ZW              Epworth -17.89000  31.14750\n",
       "149836      ZW          Chitungwiza -18.01274  31.07555\n",
       "\n",
       "[149837 rows x 4 columns]"
      ]
     },
     "execution_count": 25,
     "metadata": {},
     "output_type": "execute_result"
    }
   ],
   "source": [
    "df_world_cities"
   ]
  },
  {
   "cell_type": "code",
   "execution_count": 26,
   "metadata": {},
   "outputs": [
    {
     "data": {
      "text/plain": [
       "Index(['country', 'name', 'lat', 'lng'], dtype='object')"
      ]
     },
     "execution_count": 26,
     "metadata": {},
     "output_type": "execute_result"
    }
   ],
   "source": [
    "df_world_cities.columns"
   ]
  },
  {
   "cell_type": "code",
   "execution_count": 27,
   "metadata": {},
   "outputs": [
    {
     "data": {
      "text/plain": [
       "0         AD\n",
       "1         AD\n",
       "2         AD\n",
       "3         AD\n",
       "4         AD\n",
       "          ..\n",
       "149832    ZW\n",
       "149833    ZW\n",
       "149834    ZW\n",
       "149835    ZW\n",
       "149836    ZW\n",
       "Name: country, Length: 149837, dtype: object"
      ]
     },
     "execution_count": 27,
     "metadata": {},
     "output_type": "execute_result"
    }
   ],
   "source": [
    "# Individual columns are Series\n",
    "df_world_cities['country']"
   ]
  },
  {
   "cell_type": "code",
   "execution_count": 28,
   "metadata": {},
   "outputs": [
    {
     "data": {
      "text/plain": [
       "country           AD\n",
       "name       El Tarter\n",
       "lat         42.57952\n",
       "lng          1.65362\n",
       "Name: 0, dtype: object"
      ]
     },
     "execution_count": 28,
     "metadata": {},
     "output_type": "execute_result"
    }
   ],
   "source": [
    "# A row is also a Series\n",
    "df_world_cities.iloc[0]"
   ]
  },
  {
   "cell_type": "markdown",
   "metadata": {},
   "source": [
    "## Slice it"
   ]
  },
  {
   "cell_type": "code",
   "execution_count": 39,
   "metadata": {},
   "outputs": [
    {
     "data": {
      "text/html": [
       "<div>\n",
       "<style scoped>\n",
       "    .dataframe tbody tr th:only-of-type {\n",
       "        vertical-align: middle;\n",
       "    }\n",
       "\n",
       "    .dataframe tbody tr th {\n",
       "        vertical-align: top;\n",
       "    }\n",
       "\n",
       "    .dataframe thead th {\n",
       "        text-align: right;\n",
       "    }\n",
       "</style>\n",
       "<table border=\"1\" class=\"dataframe\">\n",
       "  <thead>\n",
       "    <tr style=\"text-align: right;\">\n",
       "      <th></th>\n",
       "      <th>country</th>\n",
       "      <th>name</th>\n",
       "      <th>lat</th>\n",
       "      <th>lng</th>\n",
       "    </tr>\n",
       "  </thead>\n",
       "  <tbody>\n",
       "    <tr>\n",
       "      <th>14829</th>\n",
       "      <td>CA</td>\n",
       "      <td>London</td>\n",
       "      <td>42.98339</td>\n",
       "      <td>-81.23304</td>\n",
       "    </tr>\n",
       "    <tr>\n",
       "      <th>56726</th>\n",
       "      <td>GB</td>\n",
       "      <td>London</td>\n",
       "      <td>51.50853</td>\n",
       "      <td>-0.12574</td>\n",
       "    </tr>\n",
       "    <tr>\n",
       "      <th>130864</th>\n",
       "      <td>US</td>\n",
       "      <td>London</td>\n",
       "      <td>35.32897</td>\n",
       "      <td>-93.25296</td>\n",
       "    </tr>\n",
       "    <tr>\n",
       "      <th>132805</th>\n",
       "      <td>US</td>\n",
       "      <td>London</td>\n",
       "      <td>37.12898</td>\n",
       "      <td>-84.08326</td>\n",
       "    </tr>\n",
       "    <tr>\n",
       "      <th>134850</th>\n",
       "      <td>US</td>\n",
       "      <td>London</td>\n",
       "      <td>39.88645</td>\n",
       "      <td>-83.44825</td>\n",
       "    </tr>\n",
       "    <tr>\n",
       "      <th>144220</th>\n",
       "      <td>US</td>\n",
       "      <td>London</td>\n",
       "      <td>36.47606</td>\n",
       "      <td>-119.44318</td>\n",
       "    </tr>\n",
       "  </tbody>\n",
       "</table>\n",
       "</div>"
      ],
      "text/plain": [
       "       country    name       lat        lng\n",
       "14829       CA  London  42.98339  -81.23304\n",
       "56726       GB  London  51.50853   -0.12574\n",
       "130864      US  London  35.32897  -93.25296\n",
       "132805      US  London  37.12898  -84.08326\n",
       "134850      US  London  39.88645  -83.44825\n",
       "144220      US  London  36.47606 -119.44318"
      ]
     },
     "execution_count": 39,
     "metadata": {},
     "output_type": "execute_result"
    }
   ],
   "source": [
    "# Get a list of matches (True vs False)\n",
    "london_matches = df_world_cities['name'] == 'London'\n",
    "\n",
    "# I can slice a dataframe\n",
    "df_world_cities[london_matches]"
   ]
  },
  {
   "cell_type": "markdown",
   "metadata": {},
   "source": [
    "I can join multiple logical conditions with the logical operators:\n",
    "\n",
    "- & -> AND (idea:this thing AND that other thing)\n",
    "- | -> OR (idea: EITHER this thing OR that other thing)\n",
    "- ~ -> NOT (idea: NOT this condition)"
   ]
  },
  {
   "cell_type": "code",
   "execution_count": 40,
   "metadata": {},
   "outputs": [
    {
     "data": {
      "text/html": [
       "<div>\n",
       "<style scoped>\n",
       "    .dataframe tbody tr th:only-of-type {\n",
       "        vertical-align: middle;\n",
       "    }\n",
       "\n",
       "    .dataframe tbody tr th {\n",
       "        vertical-align: top;\n",
       "    }\n",
       "\n",
       "    .dataframe thead th {\n",
       "        text-align: right;\n",
       "    }\n",
       "</style>\n",
       "<table border=\"1\" class=\"dataframe\">\n",
       "  <thead>\n",
       "    <tr style=\"text-align: right;\">\n",
       "      <th></th>\n",
       "      <th>country</th>\n",
       "      <th>name</th>\n",
       "      <th>lat</th>\n",
       "      <th>lng</th>\n",
       "    </tr>\n",
       "  </thead>\n",
       "  <tbody>\n",
       "    <tr>\n",
       "      <th>0</th>\n",
       "      <td>AD</td>\n",
       "      <td>El Tarter</td>\n",
       "      <td>42.57952</td>\n",
       "      <td>1.65362</td>\n",
       "    </tr>\n",
       "    <tr>\n",
       "      <th>1</th>\n",
       "      <td>AD</td>\n",
       "      <td>Sant Julià de Lòria</td>\n",
       "      <td>42.46372</td>\n",
       "      <td>1.49129</td>\n",
       "    </tr>\n",
       "    <tr>\n",
       "      <th>2</th>\n",
       "      <td>AD</td>\n",
       "      <td>Pas de la Casa</td>\n",
       "      <td>42.54277</td>\n",
       "      <td>1.73361</td>\n",
       "    </tr>\n",
       "    <tr>\n",
       "      <th>3</th>\n",
       "      <td>AD</td>\n",
       "      <td>Ordino</td>\n",
       "      <td>42.55623</td>\n",
       "      <td>1.53319</td>\n",
       "    </tr>\n",
       "    <tr>\n",
       "      <th>4</th>\n",
       "      <td>AD</td>\n",
       "      <td>les Escaldes</td>\n",
       "      <td>42.50729</td>\n",
       "      <td>1.53414</td>\n",
       "    </tr>\n",
       "    <tr>\n",
       "      <th>...</th>\n",
       "      <td>...</td>\n",
       "      <td>...</td>\n",
       "      <td>...</td>\n",
       "      <td>...</td>\n",
       "    </tr>\n",
       "    <tr>\n",
       "      <th>149832</th>\n",
       "      <td>ZW</td>\n",
       "      <td>Beitbridge</td>\n",
       "      <td>-22.21667</td>\n",
       "      <td>30.00000</td>\n",
       "    </tr>\n",
       "    <tr>\n",
       "      <th>149833</th>\n",
       "      <td>ZW</td>\n",
       "      <td>Beatrice</td>\n",
       "      <td>-18.25283</td>\n",
       "      <td>30.84730</td>\n",
       "    </tr>\n",
       "    <tr>\n",
       "      <th>149834</th>\n",
       "      <td>ZW</td>\n",
       "      <td>Banket</td>\n",
       "      <td>-17.38333</td>\n",
       "      <td>30.40000</td>\n",
       "    </tr>\n",
       "    <tr>\n",
       "      <th>149835</th>\n",
       "      <td>ZW</td>\n",
       "      <td>Epworth</td>\n",
       "      <td>-17.89000</td>\n",
       "      <td>31.14750</td>\n",
       "    </tr>\n",
       "    <tr>\n",
       "      <th>149836</th>\n",
       "      <td>ZW</td>\n",
       "      <td>Chitungwiza</td>\n",
       "      <td>-18.01274</td>\n",
       "      <td>31.07555</td>\n",
       "    </tr>\n",
       "  </tbody>\n",
       "</table>\n",
       "<p>149831 rows × 4 columns</p>\n",
       "</div>"
      ],
      "text/plain": [
       "       country                 name       lat       lng\n",
       "0           AD            El Tarter  42.57952   1.65362\n",
       "1           AD  Sant Julià de Lòria  42.46372   1.49129\n",
       "2           AD       Pas de la Casa  42.54277   1.73361\n",
       "3           AD               Ordino  42.55623   1.53319\n",
       "4           AD         les Escaldes  42.50729   1.53414\n",
       "...        ...                  ...       ...       ...\n",
       "149832      ZW           Beitbridge -22.21667  30.00000\n",
       "149833      ZW             Beatrice -18.25283  30.84730\n",
       "149834      ZW               Banket -17.38333  30.40000\n",
       "149835      ZW              Epworth -17.89000  31.14750\n",
       "149836      ZW          Chitungwiza -18.01274  31.07555\n",
       "\n",
       "[149831 rows x 4 columns]"
      ]
     },
     "execution_count": 40,
     "metadata": {},
     "output_type": "execute_result"
    }
   ],
   "source": [
    "# Example of NOT\n",
    "df_world_cities[~london_matches]"
   ]
  },
  {
   "cell_type": "code",
   "execution_count": 41,
   "metadata": {},
   "outputs": [
    {
     "data": {
      "text/html": [
       "<div>\n",
       "<style scoped>\n",
       "    .dataframe tbody tr th:only-of-type {\n",
       "        vertical-align: middle;\n",
       "    }\n",
       "\n",
       "    .dataframe tbody tr th {\n",
       "        vertical-align: top;\n",
       "    }\n",
       "\n",
       "    .dataframe thead th {\n",
       "        text-align: right;\n",
       "    }\n",
       "</style>\n",
       "<table border=\"1\" class=\"dataframe\">\n",
       "  <thead>\n",
       "    <tr style=\"text-align: right;\">\n",
       "      <th></th>\n",
       "      <th>country</th>\n",
       "      <th>name</th>\n",
       "      <th>lat</th>\n",
       "      <th>lng</th>\n",
       "    </tr>\n",
       "  </thead>\n",
       "  <tbody>\n",
       "    <tr>\n",
       "      <th>56726</th>\n",
       "      <td>GB</td>\n",
       "      <td>London</td>\n",
       "      <td>51.50853</td>\n",
       "      <td>-0.12574</td>\n",
       "    </tr>\n",
       "  </tbody>\n",
       "</table>\n",
       "</div>"
      ],
      "text/plain": [
       "      country    name       lat      lng\n",
       "56726      GB  London  51.50853 -0.12574"
      ]
     },
     "execution_count": 41,
     "metadata": {},
     "output_type": "execute_result"
    }
   ],
   "source": [
    "# How do I extract the row that matches London GB\n",
    "london_match = (df_world_cities['name'] == 'London') & (df_world_cities['country'] == 'GB')\n",
    "\n",
    "df_world_cities[london_match]"
   ]
  },
  {
   "cell_type": "code",
   "execution_count": 43,
   "metadata": {},
   "outputs": [
    {
     "data": {
      "text/html": [
       "<div>\n",
       "<style scoped>\n",
       "    .dataframe tbody tr th:only-of-type {\n",
       "        vertical-align: middle;\n",
       "    }\n",
       "\n",
       "    .dataframe tbody tr th {\n",
       "        vertical-align: top;\n",
       "    }\n",
       "\n",
       "    .dataframe thead th {\n",
       "        text-align: right;\n",
       "    }\n",
       "</style>\n",
       "<table border=\"1\" class=\"dataframe\">\n",
       "  <thead>\n",
       "    <tr style=\"text-align: right;\">\n",
       "      <th></th>\n",
       "      <th>country</th>\n",
       "      <th>name</th>\n",
       "      <th>lat</th>\n",
       "      <th>lng</th>\n",
       "    </tr>\n",
       "  </thead>\n",
       "  <tbody>\n",
       "    <tr>\n",
       "      <th>49226</th>\n",
       "      <td>FR</td>\n",
       "      <td>Paris</td>\n",
       "      <td>48.85341</td>\n",
       "      <td>2.34880</td>\n",
       "    </tr>\n",
       "    <tr>\n",
       "      <th>56726</th>\n",
       "      <td>GB</td>\n",
       "      <td>London</td>\n",
       "      <td>51.50853</td>\n",
       "      <td>-0.12574</td>\n",
       "    </tr>\n",
       "  </tbody>\n",
       "</table>\n",
       "</div>"
      ],
      "text/plain": [
       "      country    name       lat      lng\n",
       "49226      FR   Paris  48.85341  2.34880\n",
       "56726      GB  London  51.50853 -0.12574"
      ]
     },
     "execution_count": 43,
     "metadata": {},
     "output_type": "execute_result"
    }
   ],
   "source": [
    "selected_cities = (\n",
    "   (df_world_cities['name'] == 'London') & (df_world_cities['country'] == 'GB') |\n",
    "   (df_world_cities['name'] == 'Paris') & (df_world_cities['country'] == 'FR')\n",
    ")\n",
    "\n",
    "df_selected = df_world_cities[selected_cities]\n",
    "df_selected"
   ]
  },
  {
   "cell_type": "code",
   "execution_count": 59,
   "metadata": {},
   "outputs": [],
   "source": [
    "list_of_latitudes  = \",\".join(df_selected['lat'].astype(str))\n",
    "list_of_longitudes = \",\".join(df_selected['lng'].astype(str))"
   ]
  },
  {
   "cell_type": "markdown",
   "metadata": {},
   "source": [
    "Let's rewrite the function above:"
   ]
  },
  {
   "cell_type": "code",
   "execution_count": 50,
   "metadata": {},
   "outputs": [],
   "source": [
    "def get_tomorrows_forecast(list_latitudes, list_longitudes):\n",
    "    # Get today's date\n",
    "    today = date.today()\n",
    "    print(f\"Today's date is: {today}\")\n",
    "\n",
    "    # Calculate tomorrow's date in the format YYYY-MM-DD\n",
    "    tomorrow = today + timedelta(days=1) \n",
    "    print(f\"Tomorrow's date is: {tomorrow}\")\n",
    "\n",
    "    print(f\"List of latitudes : {list_latitudes}\")\n",
    "    print(f\"List of longitudes: {list_longitudes}\")\n",
    "\n",
    "    # Build the URL with the date\n",
    "    endpoint    = 'https://api.open-meteo.com/v1/forecast?'\n",
    "    geo_params  = f'latitude={list_latitudes}&longitude={list_longitudes}'\n",
    "    variables   = '&hourly=temperature_2m,weather_code'\n",
    "    dates       = f'&start_date={tomorrow}&end_date={tomorrow}'\n",
    "    url = endpoint + geo_params + variables + dates\n",
    "    print(\"The final URL then is:\")\n",
    "    print(url)\n",
    "\n",
    "    # Send the request\n",
    "    response = requests.get(url)\n",
    "\n",
    "    if response.status_code == 200:\n",
    "        # Success\n",
    "        data = response.json()\n",
    "    else:\n",
    "        print(\"SOMETHING WENT WRONG!\")\n",
    "\n",
    "    # Return the data\n",
    "    return data"
   ]
  },
  {
   "cell_type": "code",
   "execution_count": 62,
   "metadata": {},
   "outputs": [
    {
     "name": "stdout",
     "output_type": "stream",
     "text": [
      "Today's date is: 2024-11-04\n",
      "Tomorrow's date is: 2024-11-05\n",
      "List of latitudes : 48.85341,51.50853\n",
      "List of longitudes: 2.3488,-0.12574\n",
      "The final URL then is:\n",
      "https://api.open-meteo.com/v1/forecast?latitude=48.85341,51.50853&longitude=2.3488,-0.12574&hourly=temperature_2m,weather_code&start_date=2024-11-05&end_date=2024-11-05\n"
     ]
    }
   ],
   "source": [
    "data = get_tomorrows_forecast(list_of_latitudes, list_of_longitudes)"
   ]
  },
  {
   "cell_type": "markdown",
   "metadata": {},
   "source": [
    "Perhaps better:"
   ]
  },
  {
   "cell_type": "code",
   "execution_count": 65,
   "metadata": {},
   "outputs": [],
   "source": [
    "def get_tomorrows_forecast(df_filtered):\n",
    "    # Get today's date\n",
    "    today = date.today()\n",
    "    # print(f\"Today's date is: {today}\")\n",
    "\n",
    "    # Calculate tomorrow's date in the format YYYY-MM-DD\n",
    "    tomorrow = today + timedelta(days=1) \n",
    "    # print(f\"Tomorrow's date is: {tomorrow}\")\n",
    "\n",
    "    list_latitudes  = \",\".join(df_filtered['lat'].astype(str))\n",
    "    list_longitudes = \",\".join(df_filtered['lng'].astype(str))\n",
    "\n",
    "    # print(f\"List of latitudes : {list_latitudes}\")\n",
    "    # print(f\"List of longitudes: {list_longitudes}\")\n",
    "\n",
    "    # Build the URL with the date\n",
    "    endpoint    = 'https://api.open-meteo.com/v1/forecast?'\n",
    "    geo_params  = f'latitude={list_latitudes}&longitude={list_longitudes}'\n",
    "    variables   = '&hourly=temperature_2m,weather_code'\n",
    "    dates       = f'&start_date={tomorrow}&end_date={tomorrow}'\n",
    "    url = endpoint + geo_params + variables + dates\n",
    "    # print(\"The final URL then is:\")\n",
    "    # print(url)\n",
    "\n",
    "    # Send the request\n",
    "    response = requests.get(url)\n",
    "\n",
    "    if response.status_code == 200:\n",
    "        # Success\n",
    "        data = response.json()\n",
    "    else:\n",
    "        print(\"SOMETHING WENT WRONG!\")\n",
    "\n",
    "    # Return the data\n",
    "    return data"
   ]
  },
  {
   "cell_type": "markdown",
   "metadata": {},
   "source": [
    "# 7. Convert JSON data to pandas"
   ]
  },
  {
   "cell_type": "code",
   "execution_count": 68,
   "metadata": {},
   "outputs": [],
   "source": [
    "# This function returns a list of dictionaries\n",
    "data = get_tomorrows_forecast(df_selected)"
   ]
  },
  {
   "cell_type": "code",
   "execution_count": 77,
   "metadata": {},
   "outputs": [],
   "source": [
    "# Paris DataFrame\n",
    "df_paris = pd.DataFrame(data[0]['hourly'])\n",
    "# Create a new column in Pandas\n",
    "df_paris['city'] = 'Paris'\n",
    "\n",
    "# The London DataFrame can be obtained by selecting the second element of the list\n",
    "df_london = pd.DataFrame(data[1]['hourly'])\n",
    "df_london['city'] = 'London'"
   ]
  },
  {
   "cell_type": "markdown",
   "metadata": {},
   "source": [
    "Putting this together:"
   ]
  },
  {
   "cell_type": "code",
   "execution_count": 79,
   "metadata": {},
   "outputs": [],
   "source": [
    "df_final = pd.concat([df_paris, df_london])"
   ]
  },
  {
   "cell_type": "markdown",
   "metadata": {},
   "source": [
    "# 8. Plotting with grammar of graphics"
   ]
  },
  {
   "cell_type": "code",
   "execution_count": 80,
   "metadata": {},
   "outputs": [
    {
     "data": {
      "text/html": [
       "<div>\n",
       "<style scoped>\n",
       "    .dataframe tbody tr th:only-of-type {\n",
       "        vertical-align: middle;\n",
       "    }\n",
       "\n",
       "    .dataframe tbody tr th {\n",
       "        vertical-align: top;\n",
       "    }\n",
       "\n",
       "    .dataframe thead th {\n",
       "        text-align: right;\n",
       "    }\n",
       "</style>\n",
       "<table border=\"1\" class=\"dataframe\">\n",
       "  <thead>\n",
       "    <tr style=\"text-align: right;\">\n",
       "      <th></th>\n",
       "      <th>time</th>\n",
       "      <th>temperature_2m</th>\n",
       "      <th>weather_code</th>\n",
       "      <th>city</th>\n",
       "    </tr>\n",
       "  </thead>\n",
       "  <tbody>\n",
       "    <tr>\n",
       "      <th>0</th>\n",
       "      <td>2024-11-05T00:00</td>\n",
       "      <td>8.0</td>\n",
       "      <td>1</td>\n",
       "      <td>Paris</td>\n",
       "    </tr>\n",
       "    <tr>\n",
       "      <th>1</th>\n",
       "      <td>2024-11-05T01:00</td>\n",
       "      <td>7.8</td>\n",
       "      <td>1</td>\n",
       "      <td>Paris</td>\n",
       "    </tr>\n",
       "    <tr>\n",
       "      <th>2</th>\n",
       "      <td>2024-11-05T02:00</td>\n",
       "      <td>7.6</td>\n",
       "      <td>3</td>\n",
       "      <td>Paris</td>\n",
       "    </tr>\n",
       "    <tr>\n",
       "      <th>3</th>\n",
       "      <td>2024-11-05T03:00</td>\n",
       "      <td>7.2</td>\n",
       "      <td>45</td>\n",
       "      <td>Paris</td>\n",
       "    </tr>\n",
       "    <tr>\n",
       "      <th>4</th>\n",
       "      <td>2024-11-05T04:00</td>\n",
       "      <td>7.0</td>\n",
       "      <td>45</td>\n",
       "      <td>Paris</td>\n",
       "    </tr>\n",
       "  </tbody>\n",
       "</table>\n",
       "</div>"
      ],
      "text/plain": [
       "               time  temperature_2m  weather_code   city\n",
       "0  2024-11-05T00:00             8.0             1  Paris\n",
       "1  2024-11-05T01:00             7.8             1  Paris\n",
       "2  2024-11-05T02:00             7.6             3  Paris\n",
       "3  2024-11-05T03:00             7.2            45  Paris\n",
       "4  2024-11-05T04:00             7.0            45  Paris"
      ]
     },
     "execution_count": 80,
     "metadata": {},
     "output_type": "execute_result"
    }
   ],
   "source": [
    "df_final.head()"
   ]
  },
  {
   "cell_type": "code",
   "execution_count": 81,
   "metadata": {},
   "outputs": [
    {
     "name": "stdout",
     "output_type": "stream",
     "text": [
      "<class 'pandas.core.frame.DataFrame'>\n",
      "Index: 48 entries, 0 to 23\n",
      "Data columns (total 4 columns):\n",
      " #   Column          Non-Null Count  Dtype  \n",
      "---  ------          --------------  -----  \n",
      " 0   time            48 non-null     object \n",
      " 1   temperature_2m  48 non-null     float64\n",
      " 2   weather_code    48 non-null     int64  \n",
      " 3   city            48 non-null     object \n",
      "dtypes: float64(1), int64(1), object(2)\n",
      "memory usage: 1.9+ KB\n"
     ]
    }
   ],
   "source": [
    "df_final.info()"
   ]
  },
  {
   "cell_type": "code",
   "execution_count": 82,
   "metadata": {},
   "outputs": [],
   "source": [
    "df_final['time'] = pd.to_datetime(df_final['time'])"
   ]
  },
  {
   "cell_type": "code",
   "execution_count": 83,
   "metadata": {},
   "outputs": [
    {
     "name": "stdout",
     "output_type": "stream",
     "text": [
      "<class 'pandas.core.frame.DataFrame'>\n",
      "Index: 48 entries, 0 to 23\n",
      "Data columns (total 4 columns):\n",
      " #   Column          Non-Null Count  Dtype         \n",
      "---  ------          --------------  -----         \n",
      " 0   time            48 non-null     datetime64[ns]\n",
      " 1   temperature_2m  48 non-null     float64       \n",
      " 2   weather_code    48 non-null     int64         \n",
      " 3   city            48 non-null     object        \n",
      "dtypes: datetime64[ns](1), float64(1), int64(1), object(1)\n",
      "memory usage: 1.9+ KB\n"
     ]
    }
   ],
   "source": [
    "df_final.info()"
   ]
  },
  {
   "cell_type": "markdown",
   "metadata": {},
   "source": [
    "**Curiosity-driven analysis**\n",
    "\n",
    "Q: How is the temperature in London compared to Paris tomorrow? "
   ]
  },
  {
   "cell_type": "code",
   "execution_count": 93,
   "metadata": {},
   "outputs": [
    {
     "data": {
      "text/html": [
       "   <div id=\"vCVJ7Z\"></div>\n",
       "   <script type=\"text/javascript\" data-lets-plot-script=\"plot\">\n",
       "       (function() {\n",
       "           var plotSpec={\n",
       "\"data\":{\n",
       "\"time\":[1.7307648E12,1.7307684E12,1.730772E12,1.7307756E12,1.7307792E12,1.7307828E12,1.7307864E12,1.73079E12,1.7307936E12,1.7307972E12,1.7308008E12,1.7308044E12,1.730808E12,1.7308116E12,1.7308152E12,1.7308188E12,1.7308224E12,1.730826E12,1.7308296E12,1.7308332E12,1.7308368E12,1.7308404E12,1.730844E12,1.7308476E12,1.7307648E12,1.7307684E12,1.730772E12,1.7307756E12,1.7307792E12,1.7307828E12,1.7307864E12,1.73079E12,1.7307936E12,1.7307972E12,1.7308008E12,1.7308044E12,1.730808E12,1.7308116E12,1.7308152E12,1.7308188E12,1.7308224E12,1.730826E12,1.7308296E12,1.7308332E12,1.7308368E12,1.7308404E12,1.730844E12,1.7308476E12],\n",
       "\"temperature_2m\":[8.0,7.8,7.6,7.2,7.0,6.8,6.7,6.7,7.3,8.4,9.4,10.2,11.1,12.9,13.5,13.6,13.2,12.6,12.2,11.9,11.5,11.2,10.8,10.8,9.0,8.9,8.9,8.9,8.8,8.7,8.7,8.8,8.9,9.3,9.9,10.3,10.8,11.6,12.2,12.4,12.2,11.6,10.8,10.2,9.8,9.5,9.2,9.1],\n",
       "\"city\":[\"Paris\",\"Paris\",\"Paris\",\"Paris\",\"Paris\",\"Paris\",\"Paris\",\"Paris\",\"Paris\",\"Paris\",\"Paris\",\"Paris\",\"Paris\",\"Paris\",\"Paris\",\"Paris\",\"Paris\",\"Paris\",\"Paris\",\"Paris\",\"Paris\",\"Paris\",\"Paris\",\"Paris\",\"London\",\"London\",\"London\",\"London\",\"London\",\"London\",\"London\",\"London\",\"London\",\"London\",\"London\",\"London\",\"London\",\"London\",\"London\",\"London\",\"London\",\"London\",\"London\",\"London\",\"London\",\"London\",\"London\",\"London\"]\n",
       "},\n",
       "\"mapping\":{\n",
       "\"x\":\"time\",\n",
       "\"y\":\"temperature_2m\",\n",
       "\"color\":\"city\"\n",
       "},\n",
       "\"data_meta\":{\n",
       "\"series_annotations\":[{\n",
       "\"column\":\"time\",\n",
       "\"type\":\"datetime\"\n",
       "}]\n",
       "},\n",
       "\"ggtitle\":{\n",
       "\"text\":\"It will be colder tomorrow in Paris overnight, but warmer in the afternoon\",\n",
       "\"subtitle\":\"Data collected from OpenMeteo for 05/Nov/2024\"\n",
       "},\n",
       "\"ggsize\":{\n",
       "\"width\":800.0,\n",
       "\"height\":300.0\n",
       "},\n",
       "\"kind\":\"plot\",\n",
       "\"scales\":[{\n",
       "\"aesthetic\":\"x\",\n",
       "\"datetime\":true\n",
       "},{\n",
       "\"name\":\"Time of day\",\n",
       "\"aesthetic\":\"x\"\n",
       "},{\n",
       "\"name\":\"Temperature (C)\",\n",
       "\"aesthetic\":\"y\"\n",
       "}],\n",
       "\"layers\":[{\n",
       "\"geom\":\"line\",\n",
       "\"mapping\":{\n",
       "},\n",
       "\"data_meta\":{\n",
       "},\n",
       "\"data\":{\n",
       "}\n",
       "},{\n",
       "\"geom\":\"point\",\n",
       "\"mapping\":{\n",
       "},\n",
       "\"data_meta\":{\n",
       "},\n",
       "\"data\":{\n",
       "}\n",
       "}],\n",
       "\"metainfo_list\":[]\n",
       "};\n",
       "           var plotContainer = document.getElementById(\"vCVJ7Z\");\n",
       "           window.letsPlotCall(function() {{\n",
       "               LetsPlot.buildPlotFromProcessedSpecs(plotSpec, -1, -1, plotContainer);\n",
       "           }});\n",
       "       })();\n",
       "   </script>"
      ],
      "text/plain": [
       "<lets_plot.plot.core.PlotSpec at 0x371183ec0>"
      ]
     },
     "execution_count": 93,
     "metadata": {},
     "output_type": "execute_result"
    }
   ],
   "source": [
    "plot = (\n",
    "    ggplot(data=df_final, \n",
    "           mapping=aes(x='time', y='temperature_2m', color='city')) \n",
    "    + geom_line()\n",
    "    + geom_point()\n",
    "    + scale_x_datetime()\n",
    "    + labs(x=\"Time of day\", y=\"Temperature (C)\", \n",
    "           title=\"It will be colder tomorrow in Paris overnight, but warmer in the afternoon\",\n",
    "           subtitle=\"Data collected from OpenMeteo for 05/Nov/2024\")\n",
    "    + ggsize(800, 300)\n",
    ")\n",
    "\n",
    "plot"
   ]
  }
 ],
 "metadata": {
  "kernelspec": {
   "display_name": "base",
   "language": "python",
   "name": "python3"
  },
  "language_info": {
   "codemirror_mode": {
    "name": "ipython",
    "version": 3
   },
   "file_extension": ".py",
   "mimetype": "text/x-python",
   "name": "python",
   "nbconvert_exporter": "python",
   "pygments_lexer": "ipython3",
   "version": "3.12.2"
  }
 },
 "nbformat": 4,
 "nbformat_minor": 2
}

{
 "cells": [
  {
   "cell_type": "markdown",
   "metadata": {},
   "source": [
    "<font style='font-size:1.5em'>**💻 Week 03 Lab (✅ Solutions)** </font>\n",
    "\n",
    "<font style='font-size:1.2em'>LSE DS105A – Data for Data Science (2024/25)</font>\n",
    "\n",
    "**DATE:** 21 October 2024\n",
    "\n",
    "**AUTHORS:**  \n",
    "\n",
    "- Jon\n",
    "\n",
    "**OBJECTIVE**: Provide a possible solution to the Week 03 Lab using lots of Python functions.\n",
    "\n",
    "\n",
    "<div style=\"background-color: #fff; margin-top:1em;border-radius: 10px; box-shadow: 0 4px 8px rgba(0, 0, 0, 0.1); padding: 0.75em; flex: 1 1 calc(45% - 20px);align-items:middle;box-sizing: border-box;font-size:0.9em;width:300px\">\n",
    "\n",
    "📝 **Note:** there won't be any solutions for the Bonus Task or Challenge Task. \n",
    "\n",
    "But we will be more than happy to assist you in solving those. Just post your questions to Slack or attend a support session.\n",
    "</div>\n",
    "\n",
    "---"
   ]
  },
  {
   "cell_type": "code",
   "execution_count": 6,
   "metadata": {},
   "outputs": [],
   "source": [
    "import json\n",
    "\n",
    "import pandas as pd"
   ]
  },
  {
   "cell_type": "markdown",
   "metadata": {},
   "source": [
    "# 1. Reading Data\n",
    "\n",
    "I have already collected the data I need for my analysis in NB01. I will just read it here:"
   ]
  },
  {
   "cell_type": "code",
   "execution_count": 5,
   "metadata": {},
   "outputs": [
    {
     "data": {
      "text/plain": [
       "dict_keys(['country', 'city', 'date', 'min_temp', 'max_temp'])"
      ]
     },
     "execution_count": 5,
     "metadata": {},
     "output_type": "execute_result"
    }
   ],
   "source": [
    "with open('../data/daily_temp.json', 'r') as file:\n",
    "    data = json.load(file)\n",
    "\n",
    "data.keys()"
   ]
  },
  {
   "cell_type": "markdown",
   "metadata": {},
   "source": [
    "# 2. Convert data to a table\n",
    "\n"
   ]
  },
  {
   "cell_type": "code",
   "execution_count": 7,
   "metadata": {},
   "outputs": [
    {
     "data": {
      "text/html": [
       "<div>\n",
       "<style scoped>\n",
       "    .dataframe tbody tr th:only-of-type {\n",
       "        vertical-align: middle;\n",
       "    }\n",
       "\n",
       "    .dataframe tbody tr th {\n",
       "        vertical-align: top;\n",
       "    }\n",
       "\n",
       "    .dataframe thead th {\n",
       "        text-align: right;\n",
       "    }\n",
       "</style>\n",
       "<table border=\"1\" class=\"dataframe\">\n",
       "  <thead>\n",
       "    <tr style=\"text-align: right;\">\n",
       "      <th></th>\n",
       "      <th>country</th>\n",
       "      <th>city</th>\n",
       "      <th>date</th>\n",
       "      <th>min_temp</th>\n",
       "      <th>max_temp</th>\n",
       "    </tr>\n",
       "  </thead>\n",
       "  <tbody>\n",
       "    <tr>\n",
       "      <th>0</th>\n",
       "      <td>GB</td>\n",
       "      <td>London</td>\n",
       "      <td>2023-01-01</td>\n",
       "      <td>8.7</td>\n",
       "      <td>12.1</td>\n",
       "    </tr>\n",
       "    <tr>\n",
       "      <th>1</th>\n",
       "      <td>GB</td>\n",
       "      <td>London</td>\n",
       "      <td>2023-01-02</td>\n",
       "      <td>1.0</td>\n",
       "      <td>8.5</td>\n",
       "    </tr>\n",
       "    <tr>\n",
       "      <th>2</th>\n",
       "      <td>GB</td>\n",
       "      <td>London</td>\n",
       "      <td>2023-01-03</td>\n",
       "      <td>1.3</td>\n",
       "      <td>12.3</td>\n",
       "    </tr>\n",
       "    <tr>\n",
       "      <th>3</th>\n",
       "      <td>GB</td>\n",
       "      <td>London</td>\n",
       "      <td>2023-01-04</td>\n",
       "      <td>9.9</td>\n",
       "      <td>13.1</td>\n",
       "    </tr>\n",
       "    <tr>\n",
       "      <th>4</th>\n",
       "      <td>GB</td>\n",
       "      <td>London</td>\n",
       "      <td>2023-01-05</td>\n",
       "      <td>7.8</td>\n",
       "      <td>12.9</td>\n",
       "    </tr>\n",
       "  </tbody>\n",
       "</table>\n",
       "</div>"
      ],
      "text/plain": [
       "  country    city        date  min_temp  max_temp\n",
       "0      GB  London  2023-01-01       8.7      12.1\n",
       "1      GB  London  2023-01-02       1.0       8.5\n",
       "2      GB  London  2023-01-03       1.3      12.3\n",
       "3      GB  London  2023-01-04       9.9      13.1\n",
       "4      GB  London  2023-01-05       7.8      12.9"
      ]
     },
     "execution_count": 7,
     "metadata": {},
     "output_type": "execute_result"
    }
   ],
   "source": [
    "df = pd.DataFrame(data)\n",
    "\n",
    "# How does the data look like?\n",
    "df.head()"
   ]
  },
  {
   "cell_type": "markdown",
   "metadata": {},
   "source": [
    "<div style=\"margin-left:2.5em\">\n",
    "\n",
    "☝️\n",
    "\n",
    "It's nice to see that the `country` and `city` variables got replicated to all lines. That's neat.\n",
    "\n",
    "</div>\n"
   ]
  },
  {
   "cell_type": "code",
   "execution_count": 9,
   "metadata": {},
   "outputs": [
    {
     "data": {
      "text/html": [
       "<div>\n",
       "<style scoped>\n",
       "    .dataframe tbody tr th:only-of-type {\n",
       "        vertical-align: middle;\n",
       "    }\n",
       "\n",
       "    .dataframe tbody tr th {\n",
       "        vertical-align: top;\n",
       "    }\n",
       "\n",
       "    .dataframe thead th {\n",
       "        text-align: right;\n",
       "    }\n",
       "</style>\n",
       "<table border=\"1\" class=\"dataframe\">\n",
       "  <thead>\n",
       "    <tr style=\"text-align: right;\">\n",
       "      <th></th>\n",
       "      <th>country</th>\n",
       "      <th>city</th>\n",
       "      <th>date</th>\n",
       "      <th>min_temp</th>\n",
       "      <th>max_temp</th>\n",
       "    </tr>\n",
       "  </thead>\n",
       "  <tbody>\n",
       "    <tr>\n",
       "      <th>360</th>\n",
       "      <td>GB</td>\n",
       "      <td>London</td>\n",
       "      <td>2023-12-27</td>\n",
       "      <td>6.2</td>\n",
       "      <td>12.0</td>\n",
       "    </tr>\n",
       "    <tr>\n",
       "      <th>361</th>\n",
       "      <td>GB</td>\n",
       "      <td>London</td>\n",
       "      <td>2023-12-28</td>\n",
       "      <td>9.1</td>\n",
       "      <td>11.7</td>\n",
       "    </tr>\n",
       "    <tr>\n",
       "      <th>362</th>\n",
       "      <td>GB</td>\n",
       "      <td>London</td>\n",
       "      <td>2023-12-29</td>\n",
       "      <td>6.2</td>\n",
       "      <td>10.6</td>\n",
       "    </tr>\n",
       "    <tr>\n",
       "      <th>363</th>\n",
       "      <td>GB</td>\n",
       "      <td>London</td>\n",
       "      <td>2023-12-30</td>\n",
       "      <td>5.1</td>\n",
       "      <td>11.5</td>\n",
       "    </tr>\n",
       "    <tr>\n",
       "      <th>364</th>\n",
       "      <td>GB</td>\n",
       "      <td>London</td>\n",
       "      <td>2023-12-31</td>\n",
       "      <td>6.4</td>\n",
       "      <td>10.5</td>\n",
       "    </tr>\n",
       "  </tbody>\n",
       "</table>\n",
       "</div>"
      ],
      "text/plain": [
       "    country    city        date  min_temp  max_temp\n",
       "360      GB  London  2023-12-27       6.2      12.0\n",
       "361      GB  London  2023-12-28       9.1      11.7\n",
       "362      GB  London  2023-12-29       6.2      10.6\n",
       "363      GB  London  2023-12-30       5.1      11.5\n",
       "364      GB  London  2023-12-31       6.4      10.5"
      ]
     },
     "execution_count": 9,
     "metadata": {},
     "output_type": "execute_result"
    }
   ],
   "source": [
    "# This confirms that I have 365 distinct elements\n",
    "# and that the final date is 12 Dec 2023, just what I expected\n",
    "df.tail()"
   ]
  },
  {
   "cell_type": "code",
   "execution_count": 12,
   "metadata": {},
   "outputs": [
    {
     "data": {
      "text/plain": [
       "<Axes: xlabel='date'>"
      ]
     },
     "execution_count": 12,
     "metadata": {},
     "output_type": "execute_result"
    },
    {
     "data": {
      "image/png": "[encoded data removed]",
      "text/plain": [
       "<Figure size 1200x400 with 1 Axes>"
      ]
     },
     "metadata": {},
     "output_type": "display_data"
    }
   ],
   "source": [
    "# I wonder if I can change the way the dates are written on this plot\n",
    "df.plot(x='date', y=['min_temp', 'max_temp'], figsize=(12, 4))"
   ]
  },
  {
   "cell_type": "markdown",
   "metadata": {},
   "source": [
    "# 3. Investigating min and max temperatures"
   ]
  },
  {
   "cell_type": "code",
   "execution_count": 15,
   "metadata": {},
   "outputs": [
    {
     "name": "stdout",
     "output_type": "stream",
     "text": [
      "The minimum temperature last year was: -4.7\n",
      "The maximum temperature last year was: 31.4\n"
     ]
    }
   ],
   "source": [
    "print(f\"The minimum temperature last year was: {df['min_temp'].min()}\")\n",
    "print(f\"The maximum temperature last year was: {df['max_temp'].max()}\")"
   ]
  },
  {
   "cell_type": "markdown",
   "metadata": {},
   "source": [
    "### The pure Python way of doing this\n",
    "\n",
    "I know that I can get an entire column of the Data Frame (the `df` table) as a list. \n",
    "\n",
    "I know how to work with lists!"
   ]
  },
  {
   "cell_type": "code",
   "execution_count": 16,
   "metadata": {},
   "outputs": [
    {
     "data": {
      "text/plain": [
       "365"
      ]
     },
     "execution_count": 16,
     "metadata": {},
     "output_type": "execute_result"
    }
   ],
   "source": [
    "min_temps = df['min_temp'].tolist()\n",
    "len(min_temps)"
   ]
  },
  {
   "cell_type": "markdown",
   "metadata": {},
   "source": [
    "To keep track of _when_ the minimum temperature happened, I will:\n",
    "\n",
    "- Initialise a variable `year_min_temp` with an absurdly super huge value at first\n",
    "\n",
    "- Then, I will do a `for` loop over the `min_temps` lists and every time I find a smaller temperature, I will update the `year_min_temp`\n",
    "\n",
    "- Whenever I update the `year_min_temp`, I will also update a variable called `year_min_index` so that I know when in the year I saw the year's minimum temperature"
   ]
  },
  {
   "cell_type": "code",
   "execution_count": 33,
   "metadata": {},
   "outputs": [
    {
     "name": "stdout",
     "output_type": "stream",
     "text": [
      "Temperature at index 0 is: +8.7, which is smaller than 10000. Updating `year_min_temp` variable\n",
      "Temperature at index 1 is: +1.0, which is smaller than 8.7. Updating `year_min_temp` variable\n",
      "Temperature at index 15 is: -4.0, which is smaller than 1.0. Updating `year_min_temp` variable\n",
      "Temperature at index 16 is: -4.7, which is smaller than -4.0. Updating `year_min_temp` variable\n",
      "The minimum temperature of 2023 (-4.7), happened on index 16\n"
     ]
    }
   ],
   "source": [
    "year_min_temp = 10000\n",
    "year_min_index = None\n",
    "current_index = 0\n",
    "\n",
    "for min_temp in min_temps:\n",
    "    if min_temp < year_min_temp:\n",
    "        print(f\"Temperature at index {current_index} is: {min_temp:+02.1f}, which is smaller than {year_min_temp}. Updating `year_min_temp` variable\")\n",
    "        year_min_temp = min_temp\n",
    "        year_min_index = current_index\n",
    "\n",
    "    # No matter what happens, add one to the current_index\n",
    "    current_index = current_index + 1\n",
    "\n",
    "# After the loop, print:\n",
    "print(f\"The minimum temperature of 2023 ({year_min_temp}), happened on index {year_min_index}\")"
   ]
  },
  {
   "cell_type": "markdown",
   "metadata": {},
   "source": [
    "Equipped with the knowledge of when the date is, we can look at the `df['date']` list to print out the exact date this index represents:"
   ]
  },
  {
   "cell_type": "code",
   "execution_count": 34,
   "metadata": {},
   "outputs": [
    {
     "data": {
      "text/plain": [
       "'2023-01-17'"
      ]
     },
     "execution_count": 34,
     "metadata": {},
     "output_type": "execute_result"
    }
   ],
   "source": [
    "df['date'][year_min_index]"
   ]
  },
  {
   "cell_type": "markdown",
   "metadata": {},
   "source": [
    "The logic would be very similar to find the maximum temperature of 2023."
   ]
  },
  {
   "cell_type": "markdown",
   "metadata": {},
   "source": [
    "**Alternative 2:**\n",
    "\n",
    "Here's an alternative way using the `range()` function in Python.\n",
    "\n",
    "With `range()` I don't need to keep incrementing the `current_index` variable 'manually':"
   ]
  },
  {
   "cell_type": "code",
   "execution_count": 35,
   "metadata": {},
   "outputs": [
    {
     "name": "stdout",
     "output_type": "stream",
     "text": [
      "Temperature at index 0 is: +8.7, which is smaller than 10000. Updating `year_min_temp` variable\n",
      "Temperature at index 1 is: +1.0, which is smaller than 8.7. Updating `year_min_temp` variable\n",
      "Temperature at index 15 is: -4.0, which is smaller than 1.0. Updating `year_min_temp` variable\n",
      "Temperature at index 16 is: -4.7, which is smaller than -4.0. Updating `year_min_temp` variable\n",
      "The minimum temperature of 2023 (-4.7), happened on 2023-01-17\n"
     ]
    }
   ],
   "source": [
    "year_min_temp = 10000\n",
    "year_min_index = None\n",
    "\n",
    "for current_index in range(len(min_temps)):\n",
    "\n",
    "    # Get the temperature that is at this position\n",
    "    min_temp = min_temps[current_index]\n",
    "\n",
    "    if min_temp < year_min_temp:\n",
    "        print(f\"Temperature at index {current_index} is: {min_temp:+02.1f}, which is smaller than {year_min_temp}. Updating `year_min_temp` variable\")\n",
    "        year_min_temp = min_temp\n",
    "        year_min_index = current_index\n",
    "\n",
    "# After the loop, print:\n",
    "print(f\"The minimum temperature of 2023 ({year_min_temp}), happened on {df['date'][year_min_index]}\")"
   ]
  },
  {
   "cell_type": "markdown",
   "metadata": {},
   "source": [
    "**Alternative 3:**\n",
    "\n",
    "Another helpful function to use with `for` loops is `enumerate()`. It returns the current index and the current value for me: "
   ]
  },
  {
   "cell_type": "code",
   "execution_count": 36,
   "metadata": {},
   "outputs": [
    {
     "name": "stdout",
     "output_type": "stream",
     "text": [
      "Temperature at index 0 is: +8.7, which is smaller than 10000. Updating `year_min_temp` variable\n",
      "Temperature at index 1 is: +1.0, which is smaller than 8.7. Updating `year_min_temp` variable\n",
      "Temperature at index 15 is: -4.0, which is smaller than 1.0. Updating `year_min_temp` variable\n",
      "Temperature at index 16 is: -4.7, which is smaller than -4.0. Updating `year_min_temp` variable\n",
      "The minimum temperature of 2023 (-4.7), happened on 2023-01-17\n"
     ]
    }
   ],
   "source": [
    "year_min_temp = 10000\n",
    "year_min_index = None\n",
    "\n",
    "for current_index, min_temp in enumerate(min_temps):\n",
    "\n",
    "    if min_temp < year_min_temp:\n",
    "        print(f\"Temperature at index {current_index} is: {min_temp:+02.1f}, which is smaller than {year_min_temp}. Updating `year_min_temp` variable\")\n",
    "        year_min_temp = min_temp\n",
    "        year_min_index = current_index\n",
    "\n",
    "# After the loop, print:\n",
    "print(f\"The minimum temperature of 2023 ({year_min_temp}), happened on {df['date'][year_min_index]}\")"
   ]
  },
  {
   "cell_type": "markdown",
   "metadata": {},
   "source": [
    "### The pandas way of doing things\n",
    "\n",
    "Pandas is a powerful tool for data analysis. This library was built to simplify common tasks one has to perform when working with data.\n",
    "\n",
    "We can discover the `year_min_index` a lot simpler with pandas. We just need to use the `.idxmin()` method:"
   ]
  },
  {
   "cell_type": "code",
   "execution_count": 32,
   "metadata": {},
   "outputs": [
    {
     "data": {
      "text/plain": [
       "16"
      ]
     },
     "execution_count": 32,
     "metadata": {},
     "output_type": "execute_result"
    }
   ],
   "source": [
    "df['min_temp'].idxmin()"
   ]
  },
  {
   "cell_type": "markdown",
   "metadata": {},
   "source": [
    "Therefore, a full pandas-powered solution would look like this:"
   ]
  },
  {
   "cell_type": "code",
   "execution_count": 40,
   "metadata": {},
   "outputs": [
    {
     "name": "stdout",
     "output_type": "stream",
     "text": [
      "The minimum temperature happened on 2023-01-17 and it was -4.7\n",
      "The maximum temperature happened on 2023-09-09 and it was 31.4\n"
     ]
    }
   ],
   "source": [
    "year_min_index = df['min_temp'].idxmin()\n",
    "year_min_temp  = df['min_temp'][year_min_index]\n",
    "year_min_date  = df['date'][year_min_index]\n",
    "\n",
    "year_max_index = df['max_temp'].idxmax()\n",
    "year_max_temp  = df['max_temp'][year_max_index]\n",
    "year_max_date  = df['date'][year_max_index]\n",
    "\n",
    "print(f\"The minimum temperature happened on {year_min_date} and it was {year_min_temp}\")\n",
    "print(f\"The maximum temperature happened on {year_max_date} and it was {year_max_temp}\")"
   ]
  },
  {
   "cell_type": "markdown",
   "metadata": {},
   "source": [
    "----\n",
    "\n",
    "I wonder what else can pandas simplify for me"
   ]
  }
 ],
 "metadata": {
  "kernelspec": {
   "display_name": "base",
   "language": "python",
   "name": "python3"
  },
  "language_info": {
   "codemirror_mode": {
    "name": "ipython",
    "version": 3
   },
   "file_extension": ".py",
   "mimetype": "text/x-python",
   "name": "python",
   "nbconvert_exporter": "python",
   "pygments_lexer": "ipython3",
   "version": "3.12.2"
  }
 },
 "nbformat": 4,
 "nbformat_minor": 2
}

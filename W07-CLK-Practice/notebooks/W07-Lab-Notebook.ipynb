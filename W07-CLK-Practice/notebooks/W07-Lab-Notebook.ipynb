{
 "cells": [
  {
   "cell_type": "markdown",
   "metadata": {},
   "source": [
    "<font style='font-size:1.5em'>**💻 W07 Lab Notebook**</font><br>\n",
    "<font style='font-size:1.3em;color:#888888'>Normalising JSON + the Groupby -> Apply -> Combine Strategy </font>\n",
    "\n",
    "<font style='font-size:1.2em'>LSE [DS105A](https://lse-dsi.github.io/DS105/autumn-term/index.html){style=\"color:#e26a4f;font-weight:bold\"} – Data for Data Science (2024/25) </font>\n",
    "\n",
    "\n",
    "\n",
    "<div style=\"color: #333333; background-color:rgba(226, 106, 79, 0.075); border-radius: 10px; box-shadow: 0 4px 8px rgba(0, 0, 0, 0.1); padding: 20px 0 20px 10px; margin: 10px 0 10px 0; flex: 1 1 calc(45% - 20px);min-width: 250px;max-width: 350px;align-items:top;min-height: calc(45% - 20px); box-sizing: border-box;font-size:0.9em;\">\n",
    "\n",
    "🗓️ **DATE:** 15 November 2024 \n",
    "</div>\n",
    "\n",
    "\n",
    "**CREATORS:**  \n",
    "\n",
    "- [Alex Soldatkin](https://github.com/alex-soldatkin) provided the dataset, the use case and a starting code\n",
    "- Dr. [Jon Cardoso-Silva](https://jonjoncardoso.github.io) adjusted the content to meet the lecture more closely\n",
    "\n",
    "**DEPARTMENT:** [LSE Data Science Institute](https://lse.ac.uk/dsi)\n",
    "\n",
    "**OBJECTIVE**: Practice normalising JSON data and using the groupby -> apply -> combine strategy to aggregate data.\n",
    "\n",
    "**REFERENCES:**\n",
    "\n",
    "- The [`pd.json_normalize()` function](https://pandas.pydata.org/pandas-docs/stable/reference/api/pandas.json_normalize.html) to convert JSON data more easily into tabular format\n",
    "\n",
    "- The [DataFrame.explode()](https://pandas.pydata.org/pandas-docs/stable/reference/api/pandas.DataFrame.explode.html) function to handle cases when columns are made out of lists\n",
    "\n",
    "In the labs later (second notebook), we will also cover:\n",
    "\n",
    "- The [DataFrame.groupby()](https://pandas.pydata.org/pandas-docs/stable/reference/groupby.html) function, combined with apply() and agg() to aggregate data \n",
    "\n",
    "---\n",
    "\n",
    "<div style=\"background-color:white;padding:0.5em;margin-left:2em;margin-bottom:1em;border-radius:0.5em;font-family: monospace;border: 1px solid #eda291;font-size:1.05em;width:500px\">\n",
    "\n",
    "💽 **DATA SPECIFICATION CARD:**\n",
    "\n",
    "<font style=\"font-size:0.8em\">We're going to use data from the [OpenSanctions](https://www.opensanctions.org/) project. This dataset includes information about individuals and entities that governments and international organizations have sanctioned worldwide. OpenSanctions is operated by a German company, [OpenSanctions Datenbanken GmbH](https://www.opensanctions.org/docs/about/), and has received funding from the German Federal Ministry for Education and Research. They offer a paid API for accessing the data, but you can also download the [data in bulk](https://www.opensanctions.org/datasets/sanctions/) for free, for academic and research purposes.</font>\n",
    "\n",
    "A few things to know about the dataset:\n",
    "\n",
    "- **We are focusing on Targets.** These are the individuals and entities that have been sanctioned. This dataset includes information about the name, country, and other 'properties' of the targets.\n",
    "\n",
    "- **We have filtered for Russian Targets.** This in part because Alex, who provided us with the data sample for this lab, is doing a PhD where he focuses on studying Russia, and also because the dataset is large and we want to make it more manageable for this lab.\n",
    "\n",
    "- **We are using a small random sample.** Again, this is to make the dataset more manageable for this lab. The full dataset is much larger. \n",
    "\n",
    "</div>"
   ]
  },
  {
   "cell_type": "code",
   "execution_count": 1,
   "metadata": {},
   "outputs": [],
   "source": [
    "# To convert files to a suitable Python format (list or dictionary)\n",
    "import json\n",
    "\n",
    "import numpy as np\n",
    "import pandas as pd\n",
    "\n",
    "from IPython.display import Image"
   ]
  },
  {
   "cell_type": "markdown",
   "metadata": {},
   "source": [
    "# 1. Let's normalise the JSON data\n",
    "\n",
    "- You can work alone or in small groups for this. \n",
    "\n",
    "- If you want, feel free to play a game of <span style=\"display: inline-block; padding: 0 7.5px; font-size: 12px; font-weight: bold; line-height: 18px; white-space: nowrap; border: 1px solid rgba(20, 18, 11, 0.75); border-radius: 0.5em; color: rgb(20, 18, 11); background-color: rgba(255, 255, 255, 0.75); vertical-align: top; box-shadow: 0 4px 8px rgba(0, 0, 0, 0.1)\"> 🧑‍✈️ Pilot</span> and <span style=\"display: inline-block; padding: 0 7.5px; font-size: 12px; font-weight: bold; line-height: 18px; white-space: nowrap; border: 1px solid rgba(20, 18, 11, 0.75); border-radius: 0.5em; color: #ac831d; background-color: rgba(255, 255, 255, 0.75); vertical-align: top; box-shadow: 0 4px 8px rgba(0, 0, 0, 0.1)\">🙋 Copilot (s)</span> like we've done in the past.\n",
    "\n",
    "Treat everything that comes below as 🎯 **ACTION POINTS:**\n"
   ]
  },
  {
   "cell_type": "markdown",
   "metadata": {},
   "source": [
    "## 1.1 Read JSON data into a Python object\n",
    "\n",
    "We have a JSON file called `data/sample_single_target.json` that contains information about a single target of sanctions.\n",
    "\n",
    "Run the code below that reads the data from the file into a suitable Python object (either list or dictionary):"
   ]
  },
  {
   "cell_type": "code",
   "execution_count": 3,
   "metadata": {},
   "outputs": [
    {
     "name": "stdout",
     "output_type": "stream",
     "text": [
      "c:\\Users\\KEARNEY2\\Dropbox\\Github\\DS105a_v2\\ds105a-2024\\W07-CLK-Practice\\notebooks\n"
     ]
    }
   ],
   "source": [
    "import os\n",
    "# Get the current working directory\n",
    "current_directory = os.getcwd()\n",
    "print(current_directory)"
   ]
  },
  {
   "cell_type": "code",
   "execution_count": 4,
   "metadata": {},
   "outputs": [],
   "source": [
    "with open('../data/opensanctions/sample_single_target.json', mode='r') as file:\n",
    "    sample_target = json.load(file)"
   ]
  },
  {
   "cell_type": "markdown",
   "metadata": {},
   "source": [
    "## 1.2 Explore the JSON data:\n",
    "\n",
    "Either browse the file or print the object you read the JSON data into to understand its structure.\n",
    "\n",
    "**Questions:**\n",
    "\n",
    "1. What is the type of the object that you read the JSON data into?\n",
    "\n",
    "    My answer: \n",
    "\n",
    "    > `dict`\n",
    "\n",
    "2. Is this a flat or nested JSON object?\n",
    "\n",
    "    My answer: \n",
    "\n",
    "    > Nested, the values associated with some of the keys are themselves dictionaries.\n",
    "\n",
    "3. Can this object be converted into a DataFrame directly (with `pd.DataFrame()`), or do we need to do some pre-processing first?\n",
    "\n",
    "    My answer: \n",
    "\n",
    "    > We get an error, the arrays are not of the same length"
   ]
  },
  {
   "cell_type": "code",
   "execution_count": 7,
   "metadata": {},
   "outputs": [
    {
     "name": "stdout",
     "output_type": "stream",
     "text": [
      "<class 'dict'>\n",
      "dict_keys(['id', 'caption', 'schema', 'properties', 'referents', 'datasets', 'first_seen', 'last_seen', 'last_change', 'target'])\n",
      "{'id': 'Q61116762', 'caption': 'Aleksey Mikhailovich SALYAEV', 'schema': 'Person', 'properties': {'alias': ['САЛЯЕВ Алексей Михайлович', 'Alexei Mikhailovich SALYAYEV', 'Alekseii Mikhailovich Saliaiev', 'Aleksey Mikhailovich Saliaiev', 'Alexei Mikhailovich Saliaiev', 'Oleksii SALYAYEV', 'Aleksey Mikhailovich SALYAYEV', 'Oleksii Mykhailovych SALYAYEV', 'Salyayev Aleksey Mikhailovich', 'SALIAIEV', 'Саляєв Олексій Михайлович', 'Saliaiev Oleksii', 'Alexei Mikhailovich Salyaev', 'Oleksii Mykhailovych Salyaev', 'Саляев Алексей Михайлович', 'Aleksey Mikhailovich Salyaev', 'Aleksei'], 'name': ['Alexei Mikhailovich SALYAYEV', 'Aleksey Mikhailovich Saliaiev', 'Aleksey Mikhailovich Salyaev', 'Saliaiev Oleksii Mykhailovych', 'Oleksii Mykhailovych SALYAYEV', 'Aleksey Mikhailovich SALYAYEV', 'Саляєв Олексій Михайлович', 'Alexei Mikhailovich Salyaev', 'Aleksey Mikhailovich SALYAEV', 'Salyaev Aleksey Mikhailovich', 'Alexei Mikhailovich Saliaiev', 'Алексей Михайлович САЛЯЕВ', 'Oleksii Mykhailovych Salyaev', 'Oleksii Mykhailovych Saliaiev'], 'birthDate': ['1975-12-04', '1985', '1978-08-22'], 'firstName': ['Aleksey Mikhailovich', 'Oleksii', 'Alexei', 'Алексей', 'Aleksey'], 'lastName': ['Salyaev', 'Salyayev', 'САЛЯЕВ', 'SALYAEV', 'SALYAYEV', 'Saliaiev'], 'gender': ['male'], 'topics': ['sanction'], 'modifiedAt': ['2023'], 'secondName': ['Mykhailovych', 'Mikhailovich'], 'notes': ['Commanding officer of the border patrol boat “Don” (side markings 353) of the Border Guard Service of the Federal Security Service of the Russian Federation. He was in command of the vessel that actively participated in actions of the Russian Federation against Ukrainian vessels and their crew on 25 Nov 2018, and conducted ramming of the estuary tug, “Yany Kapu”, of the Ukrainian Navy. Those actions prevented access by Ukrainian vessels to their coast on the Sea of Azov, thereby undermining the territorial integrity and sovereignty of Ukraine and undermining the security of Ukraine through the disruption of the movements and operability of Ukrainian naval vessels. Those actions also supported the consolidation of the illegal annexation of the Crimean peninsula into the Russian Federation.', \"Commandant du navire de patrouille frontalière “Don” (numéro d'immatriculation 353) du service des garde‐frontières du Service fédéral de sécurité de la Fédération de Russie. Il commandait le navire qui a activement participé à l'intervention de la Fédération de Russie contre les navires ukrainiens et leurs équipages le 25 novembre 2018 et il a dirigé l'éperonnage du remorqueur “Yany Kapu” de la marine ukrainienne. Cette intervention a empêché l'accès des navires ukrainiens à leur côte de la mer d'Azov, ce qui a compromis l'intégrité territoriale et la souveraineté de l'Ukraine et compromis la sécurité de l'Ukraine en perturbant les mouvements et l'opérabilité des navires militaires ukrainiens. Cette intervention a également contribué à consolider l'annexion illégale de la péninsule de Crimée à la Fédération de Russie.\"], 'address': ['АР Крим, м. Сімферополь, вул. Федотова, 27', 'Україна, Автономна Республіка Крим, м. Сімферополь, вул. Федотова, буд. 27', 'Російської Федерації'], 'position': ['командир прикордонного сторожового корабля «Дон» Прикордонного управління ФСБ РФ по «РК»', \"Commandant du navire de patrouille frontalière “Don” (numéro d'immatriculation 353) du service des garde‐frontières du Service fédéral de sécurité de la Fédération de Russie.\", 'Commanding officer of the border patrol boat “Don” (side markings 353) of the Border Guard Service of the Federal Security Service of the Russian Federation.', 'Commander of the Border Patrol Boat ‘Don’'], 'nationality': ['ru'], 'sourceUrl': ['https://gels-avoirs.dgtresor.gouv.fr/Gels/RegistreDetail?idRegistre=1243'], 'fatherName': ['Mikhailovich', 'Михайлович'], 'birthCountry': ['ua'], 'birthPlace': ['The Autonomous Republic of Crimea and the city of Sevastopol\\nUkraine', 'The Autonomous Republic of Crimea and the city of Sevastopol'], 'createdAt': ['2019-03-16'], 'country': ['ru'], 'sanctions': [{'id': 'au-dfat-b9ca38783b02c98ff4860e31b0f9c80056c953c0', 'caption': 'Autonomous (Ukraine)', 'schema': 'Sanction', 'properties': {'entity': ['Q61116762'], 'sourceUrl': ['https://www.dfat.gov.au/international-relations/security/sanctions/Pages/sanctions'], 'program': ['Autonomous (Ukraine)'], 'startDate': ['2019-03-16'], 'country': ['au'], 'summary': ['Listed on: 16 Mar. 2019'], 'authority': ['Department of Foreign Affairs and Trade']}, 'referents': [], 'datasets': ['au_dfat_sanctions'], 'first_seen': '2023-04-20T12:10:15', 'last_seen': '2024-09-30T06:02:03', 'last_change': '2024-06-23T20:02:02', 'target': False}, {'id': 'be-fod-b614c4124050ffc8026f33e047687fb32fbc4981', 'caption': 'UKR', 'schema': 'Sanction', 'properties': {'program': ['UKR'], 'authority': ['Federal Public Service Finance'], 'reason': ['2020/1267 (OJ L298)'], 'country': ['be'], 'authorityId': ['EU.5064.30'], 'startDate': ['2020-09-12'], 'sourceUrl': ['https://eur-lex.europa.eu/legal-content/EN/TXT/?uri=uriserv:OJ.L_.2020.298.01.0001.01.ENG&toc=OJ:L:2020:298:TOC'], 'listingDate': ['2020-09-11'], 'entity': ['Q61116762']}, 'referents': [], 'datasets': ['be_fod_sanctions'], 'first_seen': '2023-04-20T12:13:17', 'last_seen': '2024-09-30T06:17:02', 'last_change': '2023-04-20T12:13:17', 'target': False}, {'id': 'ca-sema-8159ef9b659e50844d6dfc202ddb41c8bbe63d42', 'caption': 'Russia / Russie', 'schema': 'Sanction', 'properties': {'program': ['Russia / Russie'], 'entity': ['Q61116762'], 'country': ['ca'], 'authorityId': ['112'], 'sourceUrl': ['https://www.international.gc.ca/world-monde/international_relations-relations_internationales/sanctions/consolidated-consolide.aspx?lang=eng'], 'reason': ['1, Part 1'], 'authority': ['Global Affairs Canada']}, 'referents': [], 'datasets': ['ca_dfatd_sema_sanctions'], 'first_seen': '2024-08-06T09:43:02', 'last_seen': '2024-09-30T06:43:02', 'last_change': '2024-08-06T09:43:02', 'target': False}, {'id': 'ch-seco-ed9c37948250b396934fcad975f8891ceae4bfbd', 'caption': 'Ordinance of 4 March 2022 on measures related to the situation in Ukraine (RS 946.231.176.72), annexes 2, 8, 9, 10, 11, 12,13, 14, 14a, 15, 15a, 15b, 25 and 33', 'schema': 'Sanction', 'properties': {'startDate': ['2020-04-02', '2019-04-02', '2020-09-29'], 'listingDate': ['2020-04-02', '2019-04-02', '2020-09-29'], 'program': ['Ordinance of 4 March 2022 on measures related to the situation in Ukraine (RS 946.231.176.72), annexes 2, 8, 9, 10, 11, 12,13, 14, 14a, 15, 15a, 15b, 25 and 33'], 'authority': ['State Secretariat for Economic Affairs'], 'authorityId': ['40229'], 'entity': ['Q61116762'], 'sourceUrl': ['https://www.seco.admin.ch/seco/en/home/Aussenwirtschaftspolitik_Wirtschaftliche_Zusammenarbeit/Wirtschaftsbeziehungen/exportkontrollen-und-sanktionen/sanktionen-embargos.html'], 'country': ['ch']}, 'referents': [], 'datasets': ['ch_seco_sanctions'], 'first_seen': '2023-04-20T12:16:14', 'last_seen': '2024-09-24T00:00:00', 'last_change': '2024-08-16T00:00:00', 'target': False}, {'id': 'eu-fsf-dcda1f3baa54269ca6de446ddde0b5b798fdadb6', 'caption': 'UKR', 'schema': 'Sanction', 'properties': {'sourceUrl': ['https://eur-lex.europa.eu/legal-content/EN/TXT/?uri=uriserv:OJ.L_.2020.298.01.0001.01.ENG&toc=OJ:L:2020:298:TOC'], 'country': ['eu'], 'startDate': ['2020-09-12'], 'reason': ['2020/1267 (OJ L298)'], 'entity': ['Q61116762'], 'listingDate': ['2020-09-11'], 'authorityId': ['EU.5064.30'], 'authority': ['Directorate‑General for Financial Stability, Financial Services and Capital Markets Union'], 'program': ['UKR']}, 'referents': [], 'datasets': ['eu_fsf'], 'first_seen': '2023-04-20T18:00:25', 'last_seen': '2024-09-30T06:57:03', 'last_change': '2024-08-08T16:57:03', 'target': False}, {'id': 'eu-tb-af54460497b44ac7ffd29c9cdfc9e805aa3a53fd', 'caption': 'Sanction', 'schema': 'Sanction', 'properties': {'sourceUrl': ['https://eur-lex.europa.eu/legal-content/EN/TXT/?uri=CELEX%3A02014D0145-20240103'], 'authority': ['Council of the European Union'], 'entity': ['Q61116762'], 'reason': ['Council Decision concerning restrictive measures in respect of actions undermining or threatening the territorial integrity, sovereignty and independence of Ukraine'], 'country': ['eu']}, 'referents': [], 'datasets': ['eu_travel_bans'], 'first_seen': '2024-02-23T15:37:01', 'last_seen': '2024-09-30T06:37:02', 'last_change': '2024-06-23T21:37:02', 'target': False}, {'id': 'eu-tb-d9fc7a31d1f34e72e5effefbcefa6b78b8481d1b', 'caption': 'Sanction', 'schema': 'Sanction', 'properties': {'entity': ['Q61116762'], 'country': ['eu'], 'reason': ['Council Decision concerning restrictive measures in respect of actions undermining or threatening the territorial integrity, sovereignty and independence of Ukraine'], 'authority': ['Council of the European Union'], 'sourceUrl': ['https://eur-lex.europa.eu/legal-content/EN/TXT/?uri=OJ:L_202400747']}, 'referents': [], 'datasets': ['eu_travel_bans'], 'first_seen': '2024-02-26T18:37:01', 'last_seen': '2024-09-30T06:37:02', 'last_change': '2024-06-23T21:37:02', 'target': False}, {'id': 'fr-ga-69da9f08fe7cbbb366f62d65ed8d5c092ee52123', 'caption': '(UE) 2019/409 du 14/03/2019 (UE Ukraine intégrité territoriale - R (UE) 269/2014)', 'schema': 'Sanction', 'properties': {'reason': [\"Commandant du navire de patrouille frontalière “Don” (numéro d'immatriculation 353) du service des garde‐frontières du Service fédéral de sécurité de la Fédération de Russie. Il commandait le navire qui a activement participé à l'intervention de la Fédération de Russie contre les navires ukrainiens et leurs équipages le 25 novembre 2018 et il a dirigé l'éperonnage du remorqueur “Yany Kapu” de la marine ukrainienne. Cette intervention a empêché l'accès des navires ukrainiens à leur côte de la mer d'Azov, ce qui a compromis l'intégrité territoriale et la souveraineté de l'Ukraine et compromis la sécurité de l'Ukraine en perturbant les mouvements et l'opérabilité des navires militaires ukrainiens. Cette intervention a également contribué à consolider l'annexion illégale de la péninsule de Crimée à la Fédération de Russie.\"], 'country': ['fr'], 'sourceUrl': ['https://gels-avoirs.dgtresor.gouv.fr/'], 'program': ['(UE) 2020/1267 du 10/09/2020 (UE Ukraine intégrité territoriale - R (UE) 269/2014)', '(UE) 2019/409 du 14/03/2019 (UE Ukraine intégrité territoriale - R (UE) 269/2014)', '(UE) 2020/398 du 13/03/2020 (UE Ukraine intégrité territoriale - R (UE) 269/2014)'], 'authority': ['Direction Générale du Trésor'], 'entity': ['Q61116762']}, 'referents': [], 'datasets': ['fr_tresor_gels_avoir'], 'first_seen': '2023-04-20T10:12:18', 'last_seen': '2024-09-30T06:58:02', 'last_change': '2024-06-23T21:58:02', 'target': False}, {'id': 'gb-fcdo-e05a6ff863d7ab10f453ad909dddf44f6d126485', 'caption': 'The Russia (Sanctions) (EU Exit) Regulations 2019', 'schema': 'Sanction', 'properties': {'authority': ['Foreign, Commonwealth & Development Office', 'UK'], 'provisions': ['Asset freeze', 'Travel Ban', 'Trust Services Sanctions'], 'entity': ['Q61116762'], 'startDate': ['2020-12-31'], 'sourceUrl': ['https://www.gov.uk/government/publications/the-uk-sanctions-list'], 'reason': ['Commanding officer of the border patrol boat “Don” (side markings 353) of the Border Guard Service of the Federal Security Service of the Russian Federation, 2nd rank captain. He was in command of the vessel that actively participated in actions of the Russian Federation against Ukrainian vessels and their crew on 25 November 2018 and conducted ramming of the estuary tug, “Yany Kapu”, of the Ukrainian Navy and thus actively contributed to the consolidation of the illegal annexation of the Crimean peninsula into the Russian Federation, which in turn further undermines the territorial integrity of Ukraine. The trust services sanctions were imposed on 21/03/2023.'], 'program': ['The Russia (Sanctions) (EU Exit) Regulations 2019'], 'authorityId': ['RUS0208'], 'country': ['gb'], 'modifiedAt': ['2023-03-20']}, 'referents': [], 'datasets': ['gb_fcdo_sanctions'], 'first_seen': '2024-05-09T21:39:15', 'last_seen': '2024-09-30T06:40:02', 'last_change': '2024-06-23T20:40:03', 'target': False}, {'id': 'gb-hmt-10625340ba89ed2059109526fad8f0e032a2764a', 'caption': 'Russia', 'schema': 'Sanction', 'properties': {'modifiedAt': ['2023-03-21'], 'authorityId': ['RUS0208'], 'sourceUrl': ['https://www.gov.uk/government/publications/financial-sanctions-consolidated-list-of-targets'], 'entity': ['Q61116762'], 'authority': ['Office of Financial Sanctions Implementation', 'UK'], 'country': ['gb'], 'summary': ['Trust services'], 'startDate': ['2020'], 'listingDate': ['2019'], 'provisions': ['Asset freeze'], 'status': ['Asset Freeze Targets'], 'reason': ['Commanding officer of the border patrol boat “Don” (side markings 353) of the Border Guard Service of the Federal Security Service of the Russian Federation, 2nd rank captain. He was in command of the vessel that actively participated in actions of the Russian Federation against Ukrainian vessels and their crew on 25 November 2018 and conducted ramming of the estuary tug, “Yany Kapu”, of the Ukrainian Navy and thus actively contributed to the consolidation of the illegal annexation of the Crimean peninsula into the Russian Federation, which in turn further undermines the territorial integrity of Ukraine.'], 'program': ['Russia']}, 'referents': [], 'datasets': ['gb_hmt_sanctions'], 'first_seen': '2023-04-20T10:42:49', 'last_seen': '2024-09-30T06:14:02', 'last_change': '2023-10-17T12:01:46', 'target': False}, {'id': 'ua-nsdc-b23fc267e2218316a3524797ed356879bb298ee1', 'caption': '726/2022', 'schema': 'Sanction', 'properties': {'endDate': ['2027-10-19'], 'duration': [\"П'ять років\"], 'entity': ['Q61116762'], 'program': ['726/2022'], 'status': ['active'], 'provisions': ['запобігання виведенню капіталів за межі України', 'інші санкції, що відповідають принципам їх застосування, встановленим цим Законом'], 'sourceUrl': ['https://drs.nsdc.gov.ua/', 'https://www.president.gov.ua/documents/7262022-44481'], 'startDate': ['2022-10-19'], 'authority': ['National Security and Defense Council'], 'country': ['ua']}, 'referents': [], 'datasets': ['ua_nsdc_sanctions'], 'first_seen': '2024-03-06T18:31:06', 'last_seen': '2024-09-30T06:22:04', 'last_change': '2024-03-06T18:31:06', 'target': False}, {'id': 'ua-nsdc-ca37f28c706151b368fc68780f1500de55280d23', 'caption': '82/2019', 'schema': 'Sanction', 'properties': {'program': ['82/2019'], 'provisions': ['інші санкції, що відповідають принципам їх застосування, встановленим цим Законом', 'блокування активів - тимчасове обмеження права особи користуватися та розпоряджатися належним їй майном', 'запобігання виведенню капіталів за межі України'], 'authority': ['National Security and Defense Council'], 'sourceUrl': ['https://www.president.gov.ua/documents/822019-26290', 'https://drs.nsdc.gov.ua/'], 'entity': ['Q61116762'], 'status': ['expired'], 'country': ['ua'], 'startDate': ['2019-03-19'], 'endDate': ['2022-03-19'], 'duration': ['Три роки']}, 'referents': [], 'datasets': ['ua_nsdc_sanctions'], 'first_seen': '2024-03-06T18:31:06', 'last_seen': '2024-09-30T06:22:04', 'last_change': '2024-03-06T18:31:06', 'target': False}]}, 'referents': ['gb-fcdo-rus0208', 'au-dfat-3611-oleksii-mykhailovych-saliaiev', 'ca-sema-1-part-1-112-ru-aleksey-mikhailovich-salyaev', 'ca-sema-russia-1-112', 'eu-fsf-eu-5064-30', 'ua-nazk-person-4605', 'NK-EGxH2sF2GFdCPFS2GqSzW3', 'gb-hmt-13780', 'NK-kwXW75EBfD4rdwkRYPXvLL', 'ua-nabc-person-4605-salyaev-aleksey-mikhailovich', 'NK-YZifrgPQTVS3P8nPrQTtQZ', 'ca-sema-bdea52bca800306e1dccf2fa4993021ff72730db', 'fr-ga-1243', 'ua-nsdc-person-82-2019-1740', 'eu-tb-logical-119637', 'ch-seco-40229', 'ua-nsdc-13561-salaev-oleksij-mihajlovic', 'ca-sema-1-112-ru-aleksey-mikhailovich-salyaev'], 'datasets': ['eu_fsf', 'au_dfat_sanctions', 'ua_nsdc_sanctions', 'gb_fcdo_sanctions', 'gb_hmt_sanctions', 'fr_tresor_gels_avoir', 'ca_dfatd_sema_sanctions', 'be_fod_sanctions', 'ch_seco_sanctions', 'eu_travel_bans'], 'first_seen': '2022-04-27T18:12:14', 'last_seen': '2024-09-30T06:58:02', 'last_change': '2024-08-23T00:00:00', 'target': True}\n"
     ]
    }
   ],
   "source": [
    "print(type(sample_target))\n",
    "print(sample_target.keys())\n",
    "print(sample_target)"
   ]
  },
  {
   "cell_type": "code",
   "execution_count": 9,
   "metadata": {},
   "outputs": [
    {
     "name": "stdout",
     "output_type": "stream",
     "text": [
      "Key: id, Value type: <class 'str'>\n",
      "Key: caption, Value type: <class 'str'>\n",
      "Key: schema, Value type: <class 'str'>\n",
      "Key: properties, Value type: <class 'dict'>\n",
      "Key: referents, Value type: <class 'list'>\n",
      "Key: datasets, Value type: <class 'list'>\n",
      "Key: first_seen, Value type: <class 'str'>\n",
      "Key: last_seen, Value type: <class 'str'>\n",
      "Key: last_change, Value type: <class 'str'>\n",
      "Key: target, Value type: <class 'bool'>\n"
     ]
    }
   ],
   "source": [
    "# enumerate the keys and values in the sample_target dictionary\n",
    "for key, value in sample_target.items():\n",
    "    print(f\"Key: {key}, Value type: {type(value)}\")"
   ]
  },
  {
   "cell_type": "code",
   "execution_count": 11,
   "metadata": {},
   "outputs": [
    {
     "ename": "ValueError",
     "evalue": "All arrays must be of the same length",
     "output_type": "error",
     "traceback": [
      "\u001b[1;31m---------------------------------------------------------------------------\u001b[0m",
      "\u001b[1;31mValueError\u001b[0m                                Traceback (most recent call last)",
      "Cell \u001b[1;32mIn[11], line 3\u001b[0m\n\u001b[0;32m      1\u001b[0m \u001b[38;5;66;03m# Attempt to convert the sample_target dictionary to a DataFrame\u001b[39;00m\n\u001b[0;32m      2\u001b[0m \u001b[38;5;66;03m# This will likely fail if the dictionary is nested\u001b[39;00m\n\u001b[1;32m----> 3\u001b[0m df \u001b[38;5;241m=\u001b[39m \u001b[43mpd\u001b[49m\u001b[38;5;241;43m.\u001b[39;49m\u001b[43mDataFrame\u001b[49m\u001b[43m(\u001b[49m\u001b[43msample_target\u001b[49m\u001b[43m)\u001b[49m\n",
      "File \u001b[1;32mc:\\Users\\KEARNEY2\\AppData\\Local\\anaconda3\\Lib\\site-packages\\pandas\\core\\frame.py:778\u001b[0m, in \u001b[0;36mDataFrame.__init__\u001b[1;34m(self, data, index, columns, dtype, copy)\u001b[0m\n\u001b[0;32m    772\u001b[0m     mgr \u001b[38;5;241m=\u001b[39m \u001b[38;5;28mself\u001b[39m\u001b[38;5;241m.\u001b[39m_init_mgr(\n\u001b[0;32m    773\u001b[0m         data, axes\u001b[38;5;241m=\u001b[39m{\u001b[38;5;124m\"\u001b[39m\u001b[38;5;124mindex\u001b[39m\u001b[38;5;124m\"\u001b[39m: index, \u001b[38;5;124m\"\u001b[39m\u001b[38;5;124mcolumns\u001b[39m\u001b[38;5;124m\"\u001b[39m: columns}, dtype\u001b[38;5;241m=\u001b[39mdtype, copy\u001b[38;5;241m=\u001b[39mcopy\n\u001b[0;32m    774\u001b[0m     )\n\u001b[0;32m    776\u001b[0m \u001b[38;5;28;01melif\u001b[39;00m \u001b[38;5;28misinstance\u001b[39m(data, \u001b[38;5;28mdict\u001b[39m):\n\u001b[0;32m    777\u001b[0m     \u001b[38;5;66;03m# GH#38939 de facto copy defaults to False only in non-dict cases\u001b[39;00m\n\u001b[1;32m--> 778\u001b[0m     mgr \u001b[38;5;241m=\u001b[39m \u001b[43mdict_to_mgr\u001b[49m\u001b[43m(\u001b[49m\u001b[43mdata\u001b[49m\u001b[43m,\u001b[49m\u001b[43m \u001b[49m\u001b[43mindex\u001b[49m\u001b[43m,\u001b[49m\u001b[43m \u001b[49m\u001b[43mcolumns\u001b[49m\u001b[43m,\u001b[49m\u001b[43m \u001b[49m\u001b[43mdtype\u001b[49m\u001b[38;5;241;43m=\u001b[39;49m\u001b[43mdtype\u001b[49m\u001b[43m,\u001b[49m\u001b[43m \u001b[49m\u001b[43mcopy\u001b[49m\u001b[38;5;241;43m=\u001b[39;49m\u001b[43mcopy\u001b[49m\u001b[43m,\u001b[49m\u001b[43m \u001b[49m\u001b[43mtyp\u001b[49m\u001b[38;5;241;43m=\u001b[39;49m\u001b[43mmanager\u001b[49m\u001b[43m)\u001b[49m\n\u001b[0;32m    779\u001b[0m \u001b[38;5;28;01melif\u001b[39;00m \u001b[38;5;28misinstance\u001b[39m(data, ma\u001b[38;5;241m.\u001b[39mMaskedArray):\n\u001b[0;32m    780\u001b[0m     \u001b[38;5;28;01mfrom\u001b[39;00m \u001b[38;5;21;01mnumpy\u001b[39;00m\u001b[38;5;21;01m.\u001b[39;00m\u001b[38;5;21;01mma\u001b[39;00m \u001b[38;5;28;01mimport\u001b[39;00m mrecords\n",
      "File \u001b[1;32mc:\\Users\\KEARNEY2\\AppData\\Local\\anaconda3\\Lib\\site-packages\\pandas\\core\\internals\\construction.py:503\u001b[0m, in \u001b[0;36mdict_to_mgr\u001b[1;34m(data, index, columns, dtype, typ, copy)\u001b[0m\n\u001b[0;32m    499\u001b[0m     \u001b[38;5;28;01melse\u001b[39;00m:\n\u001b[0;32m    500\u001b[0m         \u001b[38;5;66;03m# dtype check to exclude e.g. range objects, scalars\u001b[39;00m\n\u001b[0;32m    501\u001b[0m         arrays \u001b[38;5;241m=\u001b[39m [x\u001b[38;5;241m.\u001b[39mcopy() \u001b[38;5;28;01mif\u001b[39;00m \u001b[38;5;28mhasattr\u001b[39m(x, \u001b[38;5;124m\"\u001b[39m\u001b[38;5;124mdtype\u001b[39m\u001b[38;5;124m\"\u001b[39m) \u001b[38;5;28;01melse\u001b[39;00m x \u001b[38;5;28;01mfor\u001b[39;00m x \u001b[38;5;129;01min\u001b[39;00m arrays]\n\u001b[1;32m--> 503\u001b[0m \u001b[38;5;28;01mreturn\u001b[39;00m \u001b[43marrays_to_mgr\u001b[49m\u001b[43m(\u001b[49m\u001b[43marrays\u001b[49m\u001b[43m,\u001b[49m\u001b[43m \u001b[49m\u001b[43mcolumns\u001b[49m\u001b[43m,\u001b[49m\u001b[43m \u001b[49m\u001b[43mindex\u001b[49m\u001b[43m,\u001b[49m\u001b[43m \u001b[49m\u001b[43mdtype\u001b[49m\u001b[38;5;241;43m=\u001b[39;49m\u001b[43mdtype\u001b[49m\u001b[43m,\u001b[49m\u001b[43m \u001b[49m\u001b[43mtyp\u001b[49m\u001b[38;5;241;43m=\u001b[39;49m\u001b[43mtyp\u001b[49m\u001b[43m,\u001b[49m\u001b[43m \u001b[49m\u001b[43mconsolidate\u001b[49m\u001b[38;5;241;43m=\u001b[39;49m\u001b[43mcopy\u001b[49m\u001b[43m)\u001b[49m\n",
      "File \u001b[1;32mc:\\Users\\KEARNEY2\\AppData\\Local\\anaconda3\\Lib\\site-packages\\pandas\\core\\internals\\construction.py:114\u001b[0m, in \u001b[0;36marrays_to_mgr\u001b[1;34m(arrays, columns, index, dtype, verify_integrity, typ, consolidate)\u001b[0m\n\u001b[0;32m    111\u001b[0m \u001b[38;5;28;01mif\u001b[39;00m verify_integrity:\n\u001b[0;32m    112\u001b[0m     \u001b[38;5;66;03m# figure out the index, if necessary\u001b[39;00m\n\u001b[0;32m    113\u001b[0m     \u001b[38;5;28;01mif\u001b[39;00m index \u001b[38;5;129;01mis\u001b[39;00m \u001b[38;5;28;01mNone\u001b[39;00m:\n\u001b[1;32m--> 114\u001b[0m         index \u001b[38;5;241m=\u001b[39m \u001b[43m_extract_index\u001b[49m\u001b[43m(\u001b[49m\u001b[43marrays\u001b[49m\u001b[43m)\u001b[49m\n\u001b[0;32m    115\u001b[0m     \u001b[38;5;28;01melse\u001b[39;00m:\n\u001b[0;32m    116\u001b[0m         index \u001b[38;5;241m=\u001b[39m ensure_index(index)\n",
      "File \u001b[1;32mc:\\Users\\KEARNEY2\\AppData\\Local\\anaconda3\\Lib\\site-packages\\pandas\\core\\internals\\construction.py:677\u001b[0m, in \u001b[0;36m_extract_index\u001b[1;34m(data)\u001b[0m\n\u001b[0;32m    675\u001b[0m lengths \u001b[38;5;241m=\u001b[39m \u001b[38;5;28mlist\u001b[39m(\u001b[38;5;28mset\u001b[39m(raw_lengths))\n\u001b[0;32m    676\u001b[0m \u001b[38;5;28;01mif\u001b[39;00m \u001b[38;5;28mlen\u001b[39m(lengths) \u001b[38;5;241m>\u001b[39m \u001b[38;5;241m1\u001b[39m:\n\u001b[1;32m--> 677\u001b[0m     \u001b[38;5;28;01mraise\u001b[39;00m \u001b[38;5;167;01mValueError\u001b[39;00m(\u001b[38;5;124m\"\u001b[39m\u001b[38;5;124mAll arrays must be of the same length\u001b[39m\u001b[38;5;124m\"\u001b[39m)\n\u001b[0;32m    679\u001b[0m \u001b[38;5;28;01mif\u001b[39;00m have_dicts:\n\u001b[0;32m    680\u001b[0m     \u001b[38;5;28;01mraise\u001b[39;00m \u001b[38;5;167;01mValueError\u001b[39;00m(\n\u001b[0;32m    681\u001b[0m         \u001b[38;5;124m\"\u001b[39m\u001b[38;5;124mMixing dicts with non-Series may lead to ambiguous ordering.\u001b[39m\u001b[38;5;124m\"\u001b[39m\n\u001b[0;32m    682\u001b[0m     )\n",
      "\u001b[1;31mValueError\u001b[0m: All arrays must be of the same length"
     ]
    }
   ],
   "source": [
    "# Attempt to convert the sample_target dictionary to a DataFrame\n",
    "# This will likely fail if the dictionary is nested\n",
    "df = pd.DataFrame(sample_target)\n"
   ]
  },
  {
   "cell_type": "markdown",
   "metadata": {},
   "source": [
    "## 1.3 Normalise the JSON data\n",
    "\n",
    "- Convert the JSON data into a DataFrame using the `pd.json_normalize()` function.\n",
    "\n",
    "- Store the resulting DataFrame in a variable called `df_sample`.\n",
    "\n",
    "You should see something like this:"
   ]
  },
  {
   "cell_type": "code",
   "execution_count": null,
   "metadata": {},
   "outputs": [],
   "source": [
    "# Your code here\n",
    "df_sample = pd.json_normalize(sample_target)"
   ]
  },
  {
   "cell_type": "code",
   "execution_count": 12,
   "metadata": {},
   "outputs": [
    {
     "data": {
      "image/png": "[encoded data removed]",
      "text/plain": [
       "<IPython.core.display.Image object>"
      ]
     },
     "execution_count": 12,
     "metadata": {},
     "output_type": "execute_result"
    }
   ],
   "source": [
    "# Uncomment the cell below to see what your DataFrame should look like\n",
    "Image(\"../figures/opensanctions/df_sample_v1.png\")"
   ]
  },
  {
   "cell_type": "markdown",
   "metadata": {},
   "source": [
    "## 1.4 Subset for the most interesting `properties` columns\n",
    "\n",
    "We want to focus on the following properties:\n",
    "\n",
    "| Property                  | Description                                                                                     | Type   |\n",
    "|---------------------------|-------------------------------------------------------------------------------------------------|--------|\n",
    "| `properties.alias`        | The different names that the target is known by.                                                | List   |\n",
    "| `properties.nationality`  | The nationality(ies) of the target.                                                             | List   |\n",
    "| `properties.birthCountry` | The country where the target was born. This is stored as a list but should have only one element.| List   |\n",
    "| `properties.sourceUrl`    | The URL where the information about the target was sourced from. This is stored as a list but should have only one element. | List   |\n",
    "| `properties.sanctions`    | The sanctions that the target is subject to.                                                    | List   |\n",
    "\n",
    "\n",
    "- Save the names of the columns above to a list called `interesting_columns`.\n",
    "\n",
    "- Subset the DataFrame to keep only the columns listed above.\n",
    "\n",
    "- Replace the `df_sample` variable with the new DataFrame that contains only the interesting columns.\n",
    "\n",
    "💡 **TIP:** If you have GitHub Copilot installed on your machine, try adding the instructions above to the AI and see if it produces the output you want."
   ]
  },
  {
   "cell_type": "code",
   "execution_count": 5,
   "metadata": {},
   "outputs": [],
   "source": [
    "# Uncomment the cell below to see what your DataFrame should look like\n",
    "# Image(\"../figures/opensanctions/df_sample_v2.png\")"
   ]
  },
  {
   "cell_type": "code",
   "execution_count": 6,
   "metadata": {},
   "outputs": [],
   "source": [
    "# Your code here"
   ]
  },
  {
   "cell_type": "markdown",
   "metadata": {},
   "source": [
    "## 1.5 Rename the columns\n",
    "\n",
    "Let's get rid of the `properties.` prefix in the column names.\n",
    "\n",
    "If you created the `interesting_columns` list and the `df_sample` correctly, you can run the code below to rename the columns. \n",
    "\n",
    "Cut this piece of code and paste it in the cell below:\n",
    "\n",
    "```python\n",
    "new_column_names = [col.split('.')[1] for col in interesting_properties]\n",
    "\n",
    "# Here's a new way to rename columns\n",
    "df_sample.columns = new_column_names\n",
    "```"
   ]
  },
  {
   "cell_type": "code",
   "execution_count": 7,
   "metadata": {},
   "outputs": [],
   "source": [
    "# Your code here"
   ]
  },
  {
   "cell_type": "markdown",
   "metadata": {},
   "source": [
    "## 🏆 1.6 String Manipulation (Don't explode anything just yet)\n",
    "\n",
    "We are interested in understanding which countries/entities have imposed sanctions on the target. This means the only column we want to explode is the `properties.sanctions` column. \n",
    "\n",
    "All the other columns, despite being lists, should not be exploded. It makes a lot more sense to just convert them to meaningful strings.\n",
    "\n",
    "We can use the `apply()` function on each of these columns to convert the lists into strings.\n",
    "\n",
    "Here's, for example, how I would convert the `birth_country` column from a list to a string:\n",
    "\n",
    "```python\n",
    "# Because I know the `birthCountry` column is a list that has just a single element, \n",
    "# I can extract it directly like this.\n",
    "# Run it and check the result before assigning it back to the column\n",
    "df_sample['birthCountry'].apply(lambda x: x[0])\n",
    "\n",
    "# To make this change permanent, assign it back to the column\n",
    "df_sample['birthCountry'] = df_sample['birthCountry'].apply(lambda x: x[0])\n",
    "\n",
    "```\n"
   ]
  },
  {
   "cell_type": "code",
   "execution_count": 8,
   "metadata": {},
   "outputs": [],
   "source": [
    "# TODO: Convert the birthCountry column to a single string"
   ]
  },
  {
   "cell_type": "code",
   "execution_count": 9,
   "metadata": {},
   "outputs": [],
   "source": [
    "#TODO: Similarly, grab just the first name from the alias list"
   ]
  },
  {
   "cell_type": "code",
   "execution_count": 10,
   "metadata": {},
   "outputs": [],
   "source": [
    "#TODO: Similarly, grab just the first URL from the sourceUrl list"
   ]
  },
  {
   "cell_type": "code",
   "execution_count": 11,
   "metadata": {},
   "outputs": [],
   "source": [
    "#TODO: Use the \", \".join() function to convert the list of nationalities to a single string that separates all the nationalities with a comma and a space\n"
   ]
  },
  {
   "cell_type": "code",
   "execution_count": 12,
   "metadata": {},
   "outputs": [],
   "source": [
    "# Uncomment the cell below to see what your DataFrame should look like\n",
    "# Image(\"../figures/opensanctions/df_sample_v3.png\")"
   ]
  },
  {
   "cell_type": "markdown",
   "metadata": {},
   "source": [
    "## 1.7 Explode the columns\n",
    "\n",
    "- Use the [DataFrame.explode()](https://pandas.pydata.org/pandas-docs/stable/reference/api/pandas.DataFrame.explode.html) function to explode the `sanctions` column."
   ]
  },
  {
   "cell_type": "code",
   "execution_count": 13,
   "metadata": {},
   "outputs": [],
   "source": [
    "# Uncomment the cell below to see what your DataFrame should look like\n",
    "# Image(\"../figures/opensanctions/df_sample_v4.png\")"
   ]
  },
  {
   "cell_type": "code",
   "execution_count": 14,
   "metadata": {},
   "outputs": [],
   "source": [
    "# Your code here"
   ]
  },
  {
   "cell_type": "markdown",
   "metadata": {},
   "source": [
    "# 1.8. See the solution\n",
    "\n",
    "Putting it all together, here's what the solution would look like if you were to use method-chaining:\n",
    "\n",
    "<details><summary>Click HERE for the solution</summary>\n",
    "\n",
    "```python\n",
    "interesting_columns = ['properties.alias', \n",
    "                       'properties.nationality', \n",
    "                       'properties.birthCountry', \n",
    "                       'properties.sourceUrl', \n",
    "                       'properties.sanctions']\n",
    "\n",
    "with open('../data/opensanctions/sample_single_target.json', mode='r') as file:\n",
    "    sample_target = json.load(file)\n",
    "\n",
    "df_sample = (\n",
    "    pd.json_normalize(sample_target)\n",
    "    [interesting_columns]\n",
    "    .rename(columns={\n",
    "        'properties.alias': 'alias',\n",
    "        'properties.nationality': 'nationality',\n",
    "        'properties.birthCountry': 'birthCountry',\n",
    "        'properties.sourceUrl': 'sourceUrl',\n",
    "        'properties.sanctions': 'sanctions'\n",
    "    })\n",
    "    .assign(\n",
    "        alias=lambda x: x['alias'].apply(lambda x: x[0]),\n",
    "        sourceUrl=lambda x: x['sourceUrl'].apply(lambda x: x[0]),\n",
    "        nationality=lambda x: x['nationality'].apply(lambda x: \", \".join(x)),\n",
    "        birthCountry=lambda x: x['birthCountry'].apply(lambda x: x[0])\n",
    "    )\n",
    "    .explode('sanctions')\n",
    ")\n",
    "\n",
    "df_sample\n",
    "```"
   ]
  },
  {
   "cell_type": "markdown",
   "metadata": {},
   "source": [
    "# 2. Unnest the `sanctions` column\n",
    "\n",
    "We have a lot of stuff but our `sanctions` column is still nested.\n",
    "\n",
    "We can't explode it, as the data inside is not a list, but a dictionary.\n",
    "\n",
    "Give it a go:\n",
    "\n",
    "```python\n",
    "# This won't work. Explode only works with lists\n",
    "df_sample.explode('sanctions')\n",
    "```\n",
    "\n",
    "We need to:\n",
    "\n",
    "- Keep the other columns as they are\n",
    "- Work separately on the `sanctions` column, using the `pd.json_normalize()` function to normalise the data inside it.\n",
    "- Concatenate the resulting DataFrame with the original one, keeping the index aligned."
   ]
  },
  {
   "cell_type": "markdown",
   "metadata": {},
   "source": [
    "## 2.1 Convert the entire `sanctions` column into a DataFrame of its own\n",
    "\n",
    "For this to work, we first need to convert the 'sanctions' column back to a 'pure Python' list of dictionaries\n",
    "\n",
    "```python\n",
    "# You can normalise a pandas column when they are lists of dictionaries\n",
    "# json_normalise is not just for 'pure Python' lists of dictionaries\n",
    "pd.json_normalize(df_sample['sanctions'])\n",
    "```\n",
    "\n",
    "Copy the code above and paste it in the cell below to observe the output."
   ]
  },
  {
   "cell_type": "code",
   "execution_count": 15,
   "metadata": {},
   "outputs": [],
   "source": [
    "# Your code here"
   ]
  },
  {
   "cell_type": "markdown",
   "metadata": {},
   "source": [
    "From the resulting DataFrame above, we definitely want the `properties.country` (renamed to just `sanction_country`), but we want it as a string, not as a list.\n",
    "\n",
    "Figure out how to create this column and add it to the DataFrame."
   ]
  },
  {
   "cell_type": "code",
   "execution_count": 16,
   "metadata": {},
   "outputs": [],
   "source": [
    "# TODO: Write some code until I can add a df_sample['sanction_country'] column to the DataFrame"
   ]
  },
  {
   "cell_type": "code",
   "execution_count": 17,
   "metadata": {},
   "outputs": [],
   "source": [
    "## Uncomment the cell below to see what your DataFrame should look like\n",
    "# Image(\"../figures/opensanctions/df_sample_v5.png\")"
   ]
  },
  {
   "cell_type": "markdown",
   "metadata": {},
   "source": [
    "# 3. A larger dataset\n",
    "\n",
    "Let's use a much larger dataset now. Small tweaks to the code are necessary, as some of the data is missing plus we have more than one target."
   ]
  },
  {
   "cell_type": "code",
   "execution_count": 18,
   "metadata": {},
   "outputs": [
    {
     "data": {
      "text/html": [
       "<div>\n",
       "<style scoped>\n",
       "    .dataframe tbody tr th:only-of-type {\n",
       "        vertical-align: middle;\n",
       "    }\n",
       "\n",
       "    .dataframe tbody tr th {\n",
       "        vertical-align: top;\n",
       "    }\n",
       "\n",
       "    .dataframe thead th {\n",
       "        text-align: right;\n",
       "    }\n",
       "</style>\n",
       "<table border=\"1\" class=\"dataframe\">\n",
       "  <thead>\n",
       "    <tr style=\"text-align: right;\">\n",
       "      <th></th>\n",
       "      <th>id</th>\n",
       "      <th>caption</th>\n",
       "      <th>schema</th>\n",
       "      <th>properties</th>\n",
       "      <th>referents</th>\n",
       "      <th>datasets</th>\n",
       "      <th>first_seen</th>\n",
       "      <th>last_seen</th>\n",
       "      <th>last_change</th>\n",
       "      <th>target</th>\n",
       "    </tr>\n",
       "  </thead>\n",
       "  <tbody>\n",
       "    <tr>\n",
       "      <th>0</th>\n",
       "      <td>NK-YPMWhnEtqnRViPgZx2ET7N</td>\n",
       "      <td>Tovarystvo z obmezhenoiu vidpovidalnistiu \"Tek...</td>\n",
       "      <td>Organization</td>\n",
       "      <td>{'innCode': ['5904094273'], 'jurisdiction': ['...</td>\n",
       "      <td>[ua-nsdc-24776-tovaristvo-z-obmezenou-vidpovid...</td>\n",
       "      <td>[ua_nsdc_sanctions]</td>\n",
       "      <td>2023-05-25T20:13:16</td>\n",
       "      <td>2024-09-30T06:22:04</td>\n",
       "      <td>2024-03-06T18:31:06</td>\n",
       "      <td>True</td>\n",
       "    </tr>\n",
       "    <tr>\n",
       "      <th>1</th>\n",
       "      <td>ua-nsdc-15471-dovtaev-alihan-isajovic</td>\n",
       "      <td>Dovtaiev Alikhan Isaiovych</td>\n",
       "      <td>Person</td>\n",
       "      <td>{'alias': ['Довтаєв Аліхан Ісайович', 'DOVTAIE...</td>\n",
       "      <td>[]</td>\n",
       "      <td>[ua_nsdc_sanctions]</td>\n",
       "      <td>2023-04-20T10:50:14</td>\n",
       "      <td>2024-09-30T06:22:04</td>\n",
       "      <td>2024-03-06T18:31:06</td>\n",
       "      <td>True</td>\n",
       "    </tr>\n",
       "    <tr>\n",
       "      <th>2</th>\n",
       "      <td>il-nbctf-9d2131feeb8917c9f53877a5c7cf1b86f0fd8cdc</td>\n",
       "      <td>468002109</td>\n",
       "      <td>CryptoWallet</td>\n",
       "      <td>{'publicKey': ['468002109'], 'topics': ['crime...</td>\n",
       "      <td>[]</td>\n",
       "      <td>[il_mod_crypto]</td>\n",
       "      <td>2024-04-05T13:51:48</td>\n",
       "      <td>2024-09-30T06:02:03</td>\n",
       "      <td>2024-04-05T13:51:48</td>\n",
       "      <td>True</td>\n",
       "    </tr>\n",
       "    <tr>\n",
       "      <th>3</th>\n",
       "      <td>NK-djckrSBnoZYnm2PngKZRaJ</td>\n",
       "      <td>Samarchenko Svitlana Vitaliyivna</td>\n",
       "      <td>Person</td>\n",
       "      <td>{'name': ['Samarchenko Svitlana Vitaliyivna', ...</td>\n",
       "      <td>[ua-nsdc-13365-samarcenko-svitlana-vitaliivna,...</td>\n",
       "      <td>[ua_nsdc_sanctions]</td>\n",
       "      <td>2023-04-20T10:50:14</td>\n",
       "      <td>2024-09-30T06:22:04</td>\n",
       "      <td>2024-03-06T18:31:06</td>\n",
       "      <td>True</td>\n",
       "    </tr>\n",
       "    <tr>\n",
       "      <th>4</th>\n",
       "      <td>Q61116762</td>\n",
       "      <td>Aleksey Mikhailovich SALYAEV</td>\n",
       "      <td>Person</td>\n",
       "      <td>{'alias': ['САЛЯЕВ Алексей Михайлович', 'Alexe...</td>\n",
       "      <td>[gb-fcdo-rus0208, au-dfat-3611-oleksii-mykhail...</td>\n",
       "      <td>[eu_fsf, au_dfat_sanctions, ua_nsdc_sanctions,...</td>\n",
       "      <td>2022-04-27T18:12:14</td>\n",
       "      <td>2024-09-30T06:58:02</td>\n",
       "      <td>2024-08-23T00:00:00</td>\n",
       "      <td>True</td>\n",
       "    </tr>\n",
       "  </tbody>\n",
       "</table>\n",
       "</div>"
      ],
      "text/plain": [
       "                                                  id  \\\n",
       "0                          NK-YPMWhnEtqnRViPgZx2ET7N   \n",
       "1              ua-nsdc-15471-dovtaev-alihan-isajovic   \n",
       "2  il-nbctf-9d2131feeb8917c9f53877a5c7cf1b86f0fd8cdc   \n",
       "3                          NK-djckrSBnoZYnm2PngKZRaJ   \n",
       "4                                          Q61116762   \n",
       "\n",
       "                                             caption        schema  \\\n",
       "0  Tovarystvo z obmezhenoiu vidpovidalnistiu \"Tek...  Organization   \n",
       "1                         Dovtaiev Alikhan Isaiovych        Person   \n",
       "2                                          468002109  CryptoWallet   \n",
       "3                   Samarchenko Svitlana Vitaliyivna        Person   \n",
       "4                       Aleksey Mikhailovich SALYAEV        Person   \n",
       "\n",
       "                                          properties  \\\n",
       "0  {'innCode': ['5904094273'], 'jurisdiction': ['...   \n",
       "1  {'alias': ['Довтаєв Аліхан Ісайович', 'DOVTAIE...   \n",
       "2  {'publicKey': ['468002109'], 'topics': ['crime...   \n",
       "3  {'name': ['Samarchenko Svitlana Vitaliyivna', ...   \n",
       "4  {'alias': ['САЛЯЕВ Алексей Михайлович', 'Alexe...   \n",
       "\n",
       "                                           referents  \\\n",
       "0  [ua-nsdc-24776-tovaristvo-z-obmezenou-vidpovid...   \n",
       "1                                                 []   \n",
       "2                                                 []   \n",
       "3  [ua-nsdc-13365-samarcenko-svitlana-vitaliivna,...   \n",
       "4  [gb-fcdo-rus0208, au-dfat-3611-oleksii-mykhail...   \n",
       "\n",
       "                                            datasets           first_seen  \\\n",
       "0                                [ua_nsdc_sanctions]  2023-05-25T20:13:16   \n",
       "1                                [ua_nsdc_sanctions]  2023-04-20T10:50:14   \n",
       "2                                    [il_mod_crypto]  2024-04-05T13:51:48   \n",
       "3                                [ua_nsdc_sanctions]  2023-04-20T10:50:14   \n",
       "4  [eu_fsf, au_dfat_sanctions, ua_nsdc_sanctions,...  2022-04-27T18:12:14   \n",
       "\n",
       "             last_seen          last_change  target  \n",
       "0  2024-09-30T06:22:04  2024-03-06T18:31:06    True  \n",
       "1  2024-09-30T06:22:04  2024-03-06T18:31:06    True  \n",
       "2  2024-09-30T06:02:03  2024-04-05T13:51:48    True  \n",
       "3  2024-09-30T06:22:04  2024-03-06T18:31:06    True  \n",
       "4  2024-09-30T06:58:02  2024-08-23T00:00:00    True  "
      ]
     },
     "execution_count": 18,
     "metadata": {},
     "output_type": "execute_result"
    }
   ],
   "source": [
    "# This is a list of JSON objects (each element is a JSON object like the sample we've used above)\n",
    "df_targets = pd.read_json('../data/opensanctions/targets_sample_4000.jsonl', lines=True)\n",
    "df_targets.head()"
   ]
  },
  {
   "cell_type": "markdown",
   "metadata": {},
   "source": [
    "Just like before, we just care about the 'properties' columns, but this time we have a lot more data:"
   ]
  },
  {
   "cell_type": "code",
   "execution_count": 19,
   "metadata": {},
   "outputs": [
    {
     "data": {
      "text/plain": [
       "0    {'innCode': ['5904094273'], 'jurisdiction': ['...\n",
       "1    {'alias': ['Довтаєв Аліхан Ісайович', 'DOVTAIE...\n",
       "2    {'publicKey': ['468002109'], 'topics': ['crime...\n",
       "3    {'name': ['Samarchenko Svitlana Vitaliyivna', ...\n",
       "4    {'alias': ['САЛЯЕВ Алексей Михайлович', 'Alexe...\n",
       "Name: properties, dtype: object"
      ]
     },
     "execution_count": 19,
     "metadata": {},
     "output_type": "execute_result"
    }
   ],
   "source": [
    "df_targets['properties'].head()"
   ]
  },
  {
   "cell_type": "markdown",
   "metadata": {},
   "source": [
    "We can normalise the 'properties' column and work with the resulting DataFrame.\n"
   ]
  },
  {
   "cell_type": "code",
   "execution_count": 20,
   "metadata": {},
   "outputs": [
    {
     "data": {
      "text/html": [
       "<div>\n",
       "<style scoped>\n",
       "    .dataframe tbody tr th:only-of-type {\n",
       "        vertical-align: middle;\n",
       "    }\n",
       "\n",
       "    .dataframe tbody tr th {\n",
       "        vertical-align: top;\n",
       "    }\n",
       "\n",
       "    .dataframe thead th {\n",
       "        text-align: right;\n",
       "    }\n",
       "</style>\n",
       "<table border=\"1\" class=\"dataframe\">\n",
       "  <thead>\n",
       "    <tr style=\"text-align: right;\">\n",
       "      <th></th>\n",
       "      <th>alias</th>\n",
       "      <th>nationality</th>\n",
       "      <th>birthCountry</th>\n",
       "      <th>sourceUrl</th>\n",
       "      <th>sanctions</th>\n",
       "    </tr>\n",
       "  </thead>\n",
       "  <tbody>\n",
       "    <tr>\n",
       "      <th>0</th>\n",
       "      <td>[Limited Liability Company \"Composite Tech№log...</td>\n",
       "      <td>NaN</td>\n",
       "      <td>NaN</td>\n",
       "      <td>NaN</td>\n",
       "      <td>[{'id': 'ua-nsdc-1a55567bf27b82e85aaa21c74ed43...</td>\n",
       "    </tr>\n",
       "    <tr>\n",
       "      <th>1</th>\n",
       "      <td>[Довтаєв Аліхан Ісайович, DOVTAIEV ALIKHAN]</td>\n",
       "      <td>[ru]</td>\n",
       "      <td>NaN</td>\n",
       "      <td>NaN</td>\n",
       "      <td>[{'id': 'ua-nsdc-6d9d313cafb495bc2adff58623044...</td>\n",
       "    </tr>\n",
       "    <tr>\n",
       "      <th>2</th>\n",
       "      <td>NaN</td>\n",
       "      <td>NaN</td>\n",
       "      <td>NaN</td>\n",
       "      <td>NaN</td>\n",
       "      <td>NaN</td>\n",
       "    </tr>\n",
       "    <tr>\n",
       "      <th>3</th>\n",
       "      <td>[Самарченко Светлана Витальевна, Samarchenko S...</td>\n",
       "      <td>[ua]</td>\n",
       "      <td>NaN</td>\n",
       "      <td>NaN</td>\n",
       "      <td>[{'id': 'ua-nsdc-254540b0426981a248dd23ad55938...</td>\n",
       "    </tr>\n",
       "    <tr>\n",
       "      <th>4</th>\n",
       "      <td>[САЛЯЕВ Алексей Михайлович, Alexei Mikhailovic...</td>\n",
       "      <td>[ru]</td>\n",
       "      <td>[ua]</td>\n",
       "      <td>[https://gels-avoirs.dgtresor.gouv.fr/Gels/Reg...</td>\n",
       "      <td>[{'id': 'au-dfat-b9ca38783b02c98ff4860e31b0f9c...</td>\n",
       "    </tr>\n",
       "    <tr>\n",
       "      <th>...</th>\n",
       "      <td>...</td>\n",
       "      <td>...</td>\n",
       "      <td>...</td>\n",
       "      <td>...</td>\n",
       "      <td>...</td>\n",
       "    </tr>\n",
       "    <tr>\n",
       "      <th>3995</th>\n",
       "      <td>[Агафонова Наталя Миколаївна, Агафонова Наталь...</td>\n",
       "      <td>[ru]</td>\n",
       "      <td>NaN</td>\n",
       "      <td>NaN</td>\n",
       "      <td>[{'id': 'ua-nsdc-640bb3ba773bf28d09c6cfa6ff3b0...</td>\n",
       "    </tr>\n",
       "    <tr>\n",
       "      <th>3996</th>\n",
       "      <td>NaN</td>\n",
       "      <td>[ir]</td>\n",
       "      <td>NaN</td>\n",
       "      <td>[https://sanctionssearch.ofac.treas.gov/Detail...</td>\n",
       "      <td>[{'id': 'ofac-c206e06e1f947b5884af787983b6aa90...</td>\n",
       "    </tr>\n",
       "    <tr>\n",
       "      <th>3997</th>\n",
       "      <td>[Ginsburg Vladimir, Гинсбург Владимир Срульеви...</td>\n",
       "      <td>[ru]</td>\n",
       "      <td>NaN</td>\n",
       "      <td>NaN</td>\n",
       "      <td>[{'id': 'ua-nsdc-1298251b55b833bfbbe09baef1b3b...</td>\n",
       "    </tr>\n",
       "    <tr>\n",
       "      <th>3998</th>\n",
       "      <td>NaN</td>\n",
       "      <td>NaN</td>\n",
       "      <td>NaN</td>\n",
       "      <td>[https://sanctionssearch.ofac.treas.gov/Detail...</td>\n",
       "      <td>[{'id': 'ofac-16649d709282f4b69ea21d00ea9be712...</td>\n",
       "    </tr>\n",
       "    <tr>\n",
       "      <th>3999</th>\n",
       "      <td>[BABII ANNA, Бабій Анна Вікторівна, Бабий Анна...</td>\n",
       "      <td>[ua]</td>\n",
       "      <td>NaN</td>\n",
       "      <td>NaN</td>\n",
       "      <td>[{'id': 'ua-nsdc-435aa8ff25faffde4f9ac04f208fe...</td>\n",
       "    </tr>\n",
       "  </tbody>\n",
       "</table>\n",
       "<p>4000 rows × 5 columns</p>\n",
       "</div>"
      ],
      "text/plain": [
       "                                                  alias nationality  \\\n",
       "0     [Limited Liability Company \"Composite Tech№log...         NaN   \n",
       "1           [Довтаєв Аліхан Ісайович, DOVTAIEV ALIKHAN]        [ru]   \n",
       "2                                                   NaN         NaN   \n",
       "3     [Самарченко Светлана Витальевна, Samarchenko S...        [ua]   \n",
       "4     [САЛЯЕВ Алексей Михайлович, Alexei Mikhailovic...        [ru]   \n",
       "...                                                 ...         ...   \n",
       "3995  [Агафонова Наталя Миколаївна, Агафонова Наталь...        [ru]   \n",
       "3996                                                NaN        [ir]   \n",
       "3997  [Ginsburg Vladimir, Гинсбург Владимир Срульеви...        [ru]   \n",
       "3998                                                NaN         NaN   \n",
       "3999  [BABII ANNA, Бабій Анна Вікторівна, Бабий Анна...        [ua]   \n",
       "\n",
       "     birthCountry                                          sourceUrl  \\\n",
       "0             NaN                                                NaN   \n",
       "1             NaN                                                NaN   \n",
       "2             NaN                                                NaN   \n",
       "3             NaN                                                NaN   \n",
       "4            [ua]  [https://gels-avoirs.dgtresor.gouv.fr/Gels/Reg...   \n",
       "...           ...                                                ...   \n",
       "3995          NaN                                                NaN   \n",
       "3996          NaN  [https://sanctionssearch.ofac.treas.gov/Detail...   \n",
       "3997          NaN                                                NaN   \n",
       "3998          NaN  [https://sanctionssearch.ofac.treas.gov/Detail...   \n",
       "3999          NaN                                                NaN   \n",
       "\n",
       "                                              sanctions  \n",
       "0     [{'id': 'ua-nsdc-1a55567bf27b82e85aaa21c74ed43...  \n",
       "1     [{'id': 'ua-nsdc-6d9d313cafb495bc2adff58623044...  \n",
       "2                                                   NaN  \n",
       "3     [{'id': 'ua-nsdc-254540b0426981a248dd23ad55938...  \n",
       "4     [{'id': 'au-dfat-b9ca38783b02c98ff4860e31b0f9c...  \n",
       "...                                                 ...  \n",
       "3995  [{'id': 'ua-nsdc-640bb3ba773bf28d09c6cfa6ff3b0...  \n",
       "3996  [{'id': 'ofac-c206e06e1f947b5884af787983b6aa90...  \n",
       "3997  [{'id': 'ua-nsdc-1298251b55b833bfbbe09baef1b3b...  \n",
       "3998  [{'id': 'ofac-16649d709282f4b69ea21d00ea9be712...  \n",
       "3999  [{'id': 'ua-nsdc-435aa8ff25faffde4f9ac04f208fe...  \n",
       "\n",
       "[4000 rows x 5 columns]"
      ]
     },
     "execution_count": 20,
     "metadata": {},
     "output_type": "execute_result"
    }
   ],
   "source": [
    "interesting_columns = ['alias', 'nationality', 'birthCountry', 'sourceUrl', 'sanctions']\n",
    "pd.json_normalize(df_targets['properties'])[interesting_columns]"
   ]
  },
  {
   "cell_type": "markdown",
   "metadata": {},
   "source": [
    "☝️ Notice how this time around there are some NaN values in the DataFrame. This is because some of the 'properties' columns are missing in some of the rows.\n",
    "\n",
    "We need to consider this when we normalise the data!\n",
    "\n",
    "Your task now is to **understand everything the code below does** and then **run it**.\n"
   ]
  },
  {
   "cell_type": "code",
   "execution_count": 21,
   "metadata": {},
   "outputs": [
    {
     "data": {
      "text/html": [
       "<div>\n",
       "<style scoped>\n",
       "    .dataframe tbody tr th:only-of-type {\n",
       "        vertical-align: middle;\n",
       "    }\n",
       "\n",
       "    .dataframe tbody tr th {\n",
       "        vertical-align: top;\n",
       "    }\n",
       "\n",
       "    .dataframe thead th {\n",
       "        text-align: right;\n",
       "    }\n",
       "</style>\n",
       "<table border=\"1\" class=\"dataframe\">\n",
       "  <thead>\n",
       "    <tr style=\"text-align: right;\">\n",
       "      <th></th>\n",
       "      <th>alias</th>\n",
       "      <th>nationality</th>\n",
       "      <th>birthCountry</th>\n",
       "      <th>sourceUrl</th>\n",
       "      <th>sanction_country</th>\n",
       "    </tr>\n",
       "  </thead>\n",
       "  <tbody>\n",
       "    <tr>\n",
       "      <th>0</th>\n",
       "      <td>Limited Liability Company \"Composite Tech№logy\"</td>\n",
       "      <td>None</td>\n",
       "      <td>None</td>\n",
       "      <td>None</td>\n",
       "      <td>ua</td>\n",
       "    </tr>\n",
       "    <tr>\n",
       "      <th>1</th>\n",
       "      <td>Довтаєв Аліхан Ісайович</td>\n",
       "      <td>ru</td>\n",
       "      <td>None</td>\n",
       "      <td>None</td>\n",
       "      <td>ua</td>\n",
       "    </tr>\n",
       "    <tr>\n",
       "      <th>1</th>\n",
       "      <td>Довтаєв Аліхан Ісайович</td>\n",
       "      <td>ru</td>\n",
       "      <td>None</td>\n",
       "      <td>None</td>\n",
       "      <td>ua</td>\n",
       "    </tr>\n",
       "    <tr>\n",
       "      <th>2</th>\n",
       "      <td>None</td>\n",
       "      <td>None</td>\n",
       "      <td>None</td>\n",
       "      <td>None</td>\n",
       "      <td>None</td>\n",
       "    </tr>\n",
       "    <tr>\n",
       "      <th>3</th>\n",
       "      <td>Самарченко Светлана Витальевна</td>\n",
       "      <td>ua</td>\n",
       "      <td>None</td>\n",
       "      <td>None</td>\n",
       "      <td>ua</td>\n",
       "    </tr>\n",
       "    <tr>\n",
       "      <th>...</th>\n",
       "      <td>...</td>\n",
       "      <td>...</td>\n",
       "      <td>...</td>\n",
       "      <td>...</td>\n",
       "      <td>...</td>\n",
       "    </tr>\n",
       "    <tr>\n",
       "      <th>3997</th>\n",
       "      <td>Ginsburg Vladimir</td>\n",
       "      <td>ru</td>\n",
       "      <td>None</td>\n",
       "      <td>None</td>\n",
       "      <td>ua</td>\n",
       "    </tr>\n",
       "    <tr>\n",
       "      <th>3998</th>\n",
       "      <td>None</td>\n",
       "      <td>None</td>\n",
       "      <td>None</td>\n",
       "      <td>https://sanctionssearch.ofac.treas.gov/Details...</td>\n",
       "      <td>us</td>\n",
       "    </tr>\n",
       "    <tr>\n",
       "      <th>3999</th>\n",
       "      <td>BABII ANNA</td>\n",
       "      <td>ua</td>\n",
       "      <td>None</td>\n",
       "      <td>None</td>\n",
       "      <td>ua</td>\n",
       "    </tr>\n",
       "    <tr>\n",
       "      <th>3999</th>\n",
       "      <td>BABII ANNA</td>\n",
       "      <td>ua</td>\n",
       "      <td>None</td>\n",
       "      <td>None</td>\n",
       "      <td>ua</td>\n",
       "    </tr>\n",
       "    <tr>\n",
       "      <th>3999</th>\n",
       "      <td>BABII ANNA</td>\n",
       "      <td>ua</td>\n",
       "      <td>None</td>\n",
       "      <td>None</td>\n",
       "      <td>ua</td>\n",
       "    </tr>\n",
       "  </tbody>\n",
       "</table>\n",
       "<p>10103 rows × 5 columns</p>\n",
       "</div>"
      ],
      "text/plain": [
       "                                                alias nationality  \\\n",
       "0     Limited Liability Company \"Composite Tech№logy\"        None   \n",
       "1                             Довтаєв Аліхан Ісайович          ru   \n",
       "1                             Довтаєв Аліхан Ісайович          ru   \n",
       "2                                                None        None   \n",
       "3                      Самарченко Светлана Витальевна          ua   \n",
       "...                                               ...         ...   \n",
       "3997                                Ginsburg Vladimir          ru   \n",
       "3998                                             None        None   \n",
       "3999                                       BABII ANNA          ua   \n",
       "3999                                       BABII ANNA          ua   \n",
       "3999                                       BABII ANNA          ua   \n",
       "\n",
       "     birthCountry                                          sourceUrl  \\\n",
       "0            None                                               None   \n",
       "1            None                                               None   \n",
       "1            None                                               None   \n",
       "2            None                                               None   \n",
       "3            None                                               None   \n",
       "...           ...                                                ...   \n",
       "3997         None                                               None   \n",
       "3998         None  https://sanctionssearch.ofac.treas.gov/Details...   \n",
       "3999         None                                               None   \n",
       "3999         None                                               None   \n",
       "3999         None                                               None   \n",
       "\n",
       "     sanction_country  \n",
       "0                  ua  \n",
       "1                  ua  \n",
       "1                  ua  \n",
       "2                None  \n",
       "3                  ua  \n",
       "...               ...  \n",
       "3997               ua  \n",
       "3998               us  \n",
       "3999               ua  \n",
       "3999               ua  \n",
       "3999               ua  \n",
       "\n",
       "[10103 rows x 5 columns]"
      ]
     },
     "execution_count": 21,
     "metadata": {},
     "output_type": "execute_result"
    }
   ],
   "source": [
    "# I will read this first, outside the method chain, so it's easier to see what's happening\n",
    "df_targets = pd.read_json('../data/opensanctions/targets_sample_4000.jsonl', lines=True)\n",
    "\n",
    "# I will also leave this outside the method chain, so it's easier to see what's happening\n",
    "interesting_columns = ['alias', 'nationality', 'birthCountry', 'sourceUrl', 'sanctions']\n",
    "df_targets = pd.json_normalize(df_targets['properties'])[interesting_columns]\n",
    "\n",
    "# Have you seen the assign() method before? It's a very useful method to add new columns to a DataFrame\n",
    "# Do you see what we're doing differently here?\n",
    "df_targets = (\n",
    "    df_targets\n",
    "    .assign(\n",
    "        alias=lambda x: x['alias'].apply(lambda x: x[0] if isinstance(x, list) else None),\n",
    "        sourceUrl=lambda x: x['sourceUrl'].apply(lambda x: x[0] if isinstance(x, list) else None),\n",
    "        nationality=lambda x: x['nationality'].apply(lambda x: \", \".join(x) if isinstance(x, list) else None),\n",
    "        birthCountry=lambda x: x['birthCountry'].apply(lambda x: x[0] if isinstance(x, list) else None)\n",
    "    )\n",
    "    .explode('sanctions')\n",
    ")\n",
    "\n",
    "# Here's another way to add the 'sanction_country' column\n",
    "sanction_country = pd.json_normalize(df_targets['sanctions'])['properties.country']\n",
    "sanction_country = sanction_country.apply(lambda x: x[0] if isinstance(x, list) else None).tolist()\n",
    "df_targets['sanction_country'] = sanction_country\n",
    "\n",
    "df_targets = df_targets.drop(columns='sanctions')\n",
    "\n",
    "df_targets"
   ]
  },
  {
   "cell_type": "markdown",
   "metadata": {},
   "source": [
    "# 4. Groupby -> Apply -> Combine"
   ]
  },
  {
   "cell_type": "markdown",
   "metadata": {},
   "source": [
    "Write code to group the data by the `sanction_country` column and count the number of sanctions imposed by each country.\n",
    "\n",
    "(If you have time, create a bar plot to visualise the results)\n",
    "\n",
    "(If you REALLY have time, search online for the `pycountry` library and use it to convert the country codes to meaningful country names -- use pd.merge() to join the dataframes)"
   ]
  },
  {
   "cell_type": "code",
   "execution_count": 22,
   "metadata": {},
   "outputs": [],
   "source": [
    "# Your code here"
   ]
  }
 ],
 "metadata": {
  "kernelspec": {
   "display_name": "base",
   "language": "python",
   "name": "python3"
  },
  "language_info": {
   "codemirror_mode": {
    "name": "ipython",
    "version": 3
   },
   "file_extension": ".py",
   "mimetype": "text/x-python",
   "name": "python",
   "nbconvert_exporter": "python",
   "pygments_lexer": "ipython3",
   "version": "3.12.4"
  }
 },
 "nbformat": 4,
 "nbformat_minor": 2
}

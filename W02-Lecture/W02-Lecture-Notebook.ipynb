{
 "cells": [
  {
   "cell_type": "markdown",
   "metadata": {},
   "source": [
    "<font style='font-size:1.5em'>**🧑‍🏫 Week 02 Lecture – A Python Crash Course** </font>\n",
    "\n",
    "<font style='font-size:1.2em'>LSE DS105A – Data for Data Science (2024/25)</font>\n",
    "\n",
    "<div style=\"color: #333333; background-color:rgba(93, 158, 188, 0.15); border-radius: 10px; box-shadow: 0 4px 8px rgba(0, 0, 0, 0.1); padding: 20px; margin: 10px; flex: 1 1 calc(45% - 20px);min-width: 250px;max-width: 350px;align-items:top;min-height: calc(45% - 20px); box-sizing: border-box;font-size:0.9em;\">\n",
    "\n",
    "🗓️ **DATE:** 10 October 2024\n",
    "\n",
    "⌚ **TIME:** 16.00-18.00\n",
    "\n",
    "📍 **LOCATION:** CLM.5.02\n",
    "</div>\n",
    "\n",
    "\n",
    "**AUTHORS:**  Dr. [Jon Cardoso-Silva](https://jonjoncardoso.github.io)\n",
    "\n",
    "**DEPARTMENT:** [LSE Data Science Institute](https://lse.ac.uk/dsi)\n",
    "\n",
    "**OBJECTIVE**: Showcase the basic concepts of Python programming language.\n",
    "\n",
    "**REFERENCES:**\n",
    "\n",
    "- 📘 [Python for Data Science book](https://drbeane.github.io/python/about.html) By Robbie Beane\n",
    "\n",
    "---"
   ]
  },
  {
   "cell_type": "code",
   "execution_count": 19,
   "metadata": {},
   "outputs": [
    {
     "data": {
      "text/html": [
       "\n",
       "            <div id=\"bYRnjQ\"></div>\n",
       "            <script type=\"text/javascript\" data-lets-plot-script=\"library\">\n",
       "                if(!window.letsPlotCallQueue) {\n",
       "                    window.letsPlotCallQueue = [];\n",
       "                }; \n",
       "                window.letsPlotCall = function(f) {\n",
       "                    window.letsPlotCallQueue.push(f);\n",
       "                };\n",
       "                (function() {\n",
       "                    var script = document.createElement(\"script\");\n",
       "                    script.type = \"text/javascript\";\n",
       "                    script.src = \"https://cdn.jsdelivr.net/gh/JetBrains/lets-plot@v4.4.1/js-package/distr/lets-plot.min.js\";\n",
       "                    script.onload = function() {\n",
       "                        window.letsPlotCall = function(f) {f();};\n",
       "                        window.letsPlotCallQueue.forEach(function(f) {f();});\n",
       "                        window.letsPlotCallQueue = [];\n",
       "                        \n",
       "                    };\n",
       "                    script.onerror = function(event) {\n",
       "                        window.letsPlotCall = function(f) {};    // noop\n",
       "                        window.letsPlotCallQueue = [];\n",
       "                        var div = document.createElement(\"div\");\n",
       "                        div.style.color = 'darkred';\n",
       "                        div.textContent = 'Error loading Lets-Plot JS';\n",
       "                        document.getElementById(\"bYRnjQ\").appendChild(div);\n",
       "                    };\n",
       "                    var e = document.getElementById(\"bYRnjQ\");\n",
       "                    e.appendChild(script);\n",
       "                })()\n",
       "            </script>\n",
       "            "
      ]
     },
     "metadata": {},
     "output_type": "display_data"
    }
   ],
   "source": [
    "import os\n",
    "import numpy as np\n",
    "import pandas as pd\n",
    "\n",
    "from pprint import pprint\n",
    "\n",
    "from lets_plot import *\n",
    "\n",
    "LetsPlot.setup_html()"
   ]
  },
  {
   "cell_type": "markdown",
   "metadata": {},
   "source": [
    "---\n",
    "\n",
    "If the cell above throws an error when you run it, it's because you need to install additional Python libraries.\n",
    "\n",
    "In that case, go to the menu and click \"Terminal\" -> \"New Terminal\". Then, on the terminal run:\n",
    "\n",
    "```bash\n",
    "pip install numpy pandas lets-plot\n",
    "```\n",
    "\n",
    "Wait for it to complete, then come back here (you can close the Terminal window), click \"Restart\" at the top of this notebook and try again.\n",
    "\n",
    "⭐ Pro-Tip: Alternatively, you can run Terminal commands from here! Open a new Python cell below and add a `!` to your prompt, like this:\n",
    "\n",
    "```bash\n",
    "! pwd\n",
    "```\n",
    "\n",
    "---"
   ]
  },
  {
   "cell_type": "markdown",
   "metadata": {},
   "source": [
    "# PART 1: Python Essentials\n",
    "\n",
    "👉 You can always read the 🧑‍🏫 [W02 Lecture Notes](https://moodle.lse.ac.uk/mod/page/view.php?id=1533983#lecture-notes) to revisit the concepts later.\n",
    "\n",
    "## 1. Recap the primitive data types"
   ]
  },
  {
   "cell_type": "code",
   "execution_count": 23,
   "metadata": {},
   "outputs": [],
   "source": [
    "# This is a string\n",
    "student_name = \"John Doe\"\n",
    "\n",
    "# All of those below are integers (but could be floats)\n",
    "\n",
    "w06_summative = 65\n",
    "w09_summative = 63\n",
    "\n",
    "w11_group_presentation = 80\n",
    "final_project = 68\n",
    "project_individ_contribution = 75\n",
    "\n",
    "# This is a float (Watch as I format the line below for better readability)\n",
    "final_grade = (\n",
    "    0.2 * w06_summative + \n",
    "    0.3 * w09_summative + \n",
    "    0.1 * w11_group_presentation + \n",
    "    0.3 * final_project + \n",
    "    0.1 * project_individ_contribution)"
   ]
  },
  {
   "cell_type": "markdown",
   "metadata": {},
   "source": [
    "**Data type questions:**\n",
    "\n",
    "---\n",
    "\n",
    "👉 What would be the data type of the operation below? (integer, float, string?)\n",
    "\n",
    "```python\n",
    "w06_summative * 2\n",
    "```\n",
    "\n",
    "---\n",
    "\n",
    "👉 And what If I did it this way?\n",
    "\n",
    "```python\n",
    "w06_summative * 2.0\n",
    "```\n",
    "\n",
    "---\n",
    "\n",
    "👉 What about this:\n",
    "\n",
    "```python\n",
    "w06_summative * \"2\"\n",
    "```\n",
    "\n",
    "(The weird behaviour above is explained by the concept of [type coercion](https://drbeane.github.io/python/pages/data_types/coercion.html))\n"
   ]
  },
  {
   "cell_type": "code",
   "execution_count": null,
   "metadata": {},
   "outputs": [],
   "source": [
    "# I will use this cell as a test ground for the questions above."
   ]
  },
  {
   "cell_type": "markdown",
   "metadata": {},
   "source": [
    "## 2. Lists and dictionaries"
   ]
  },
  {
   "cell_type": "markdown",
   "metadata": {},
   "source": [
    "**Data:** The real data is on a CSV file, but for simplicity, I just pasted it here manually.\n",
    "\n",
    "The two lists contain the real data about the final grade of DS105A & DS105W students last year."
   ]
  },
  {
   "cell_type": "code",
   "execution_count": 43,
   "metadata": {},
   "outputs": [],
   "source": [
    "DS105A_grades = [\n",
    "    64.30,\n",
    "    45.75,\n",
    "    83.75,\n",
    "    82.75,\n",
    "    79.75,\n",
    "    79.35,\n",
    "    84.25,\n",
    "    80.65,\n",
    "    74.55,\n",
    "    80.60,\n",
    "    80.40,\n",
    "    76.50,\n",
    "    75.60,\n",
    "    81.35,\n",
    "    76.85,\n",
    "    40.75,\n",
    "    75.20,\n",
    "    70.60,\n",
    "    68.00,\n",
    "    70.05,\n",
    "    66.15,\n",
    "    64.25,\n",
    "    63.65,\n",
    "    77.20,\n",
    "    75.70,\n",
    "    75.20,\n",
    "    70.50,\n",
    "    56.50,\n",
    "    77.10,\n",
    "    76.50,\n",
    "    75.00,\n",
    "    81.35,\n",
    "    77.95,\n",
    "    62.85,\n",
    "    78.40,\n",
    "    76.25,\n",
    "    73.00,\n",
    "    76.80,\n",
    "    73.60,\n",
    "    69.00,\n",
    "    73.20,\n",
    "    63.40,\n",
    "    60.65,\n",
    "    71.40,\n",
    "    70.80,\n",
    "    65.40,\n",
    "    78.70,\n",
    "    75.60,\n",
    "    67.90,\n",
    "    43.50,\n",
    "    75.30,\n",
    "    69.00,\n",
    "    69.00,\n",
    "    88.80,\n",
    "    86.10,\n",
    "    83.50,\n",
    "    80.60,\n",
    "    70.55,\n",
    "    62.55,\n",
    "    61.45,\n",
    "    59.90,\n",
    "    24.80,\n",
    "    10.00,\n",
    "    10.00,\n",
    "    0.00,\n",
    "    0.00,\n",
    "    0.00,\n",
    "]\n",
    "\n",
    "DS105W_grades = [\n",
    "    85.10,\n",
    "    79.50,\n",
    "    79.00,\n",
    "    78.35,\n",
    "    78.20,\n",
    "    78.10,\n",
    "    77.50,\n",
    "    77.45,\n",
    "    77.45,\n",
    "    76.70,\n",
    "    76.50,\n",
    "    76.35,\n",
    "    76.35,\n",
    "    75.80,\n",
    "    75.45,\n",
    "    75.10,\n",
    "    74.30,\n",
    "    74.10,\n",
    "    74.05,\n",
    "    73.70,\n",
    "    73.45,\n",
    "    73.35,\n",
    "    73.00,\n",
    "    72.45,\n",
    "    72.45,\n",
    "    71.95,\n",
    "    71.25,\n",
    "    71.20,\n",
    "    70.45,\n",
    "    70.30,\n",
    "    70.20,\n",
    "    67.25,\n",
    "    69.20,\n",
    "    68.45,\n",
    "    67.00,\n",
    "    66.40,\n",
    "    64.20,\n",
    "    63.65,\n",
    "    60.15,\n",
    "    62.30,\n",
    "    62.25,\n",
    "    61.90,\n",
    "    59.45,\n",
    "    59.30,\n",
    "    58.60,\n",
    "    58.45,\n",
    "    58.35,\n",
    "    56.55,\n",
    "    52.30,\n",
    "    50.75,\n",
    "    25.50,\n",
    "]"
   ]
  },
  {
   "cell_type": "markdown",
   "metadata": {},
   "source": [
    "How do we navigate a list? How do I check the length of a list?\n"
   ]
  },
  {
   "cell_type": "code",
   "execution_count": 48,
   "metadata": {},
   "outputs": [
    {
     "name": "stdout",
     "output_type": "stream",
     "text": [
      "[64.3, 45.75, 83.75, 82.75, 79.75, 79.35, 84.25, 80.65, 74.55, 80.6, 80.4, 76.5, 75.6, 81.35, 76.85, 40.75, 75.2, 70.6, 68.0, 70.05, 66.15, 64.25, 63.65, 77.2, 75.7, 75.2, 70.5, 56.5, 77.1, 76.5, 75.0, 81.35, 77.95, 62.85, 78.4, 76.25, 73.0, 76.8, 73.6, 69.0, 73.2, 63.4, 60.65, 71.4, 70.8, 65.4, 78.7, 75.6, 67.9, 43.5, 75.3, 69.0, 69.0, 88.8, 86.1, 83.5, 80.6, 70.55, 62.55, 61.45, 59.9, 24.8, 10.0, 10.0, 0.0, 0.0, 0.0]\n"
     ]
    }
   ],
   "source": []
  },
  {
   "cell_type": "markdown",
   "metadata": {},
   "source": [
    "### 2.1 One-word list operations:\n"
   ]
  },
  {
   "cell_type": "markdown",
   "metadata": {},
   "source": [
    "**Q:** What was the highest grades in DS105A and DS105W last year?"
   ]
  },
  {
   "cell_type": "code",
   "execution_count": 51,
   "metadata": {},
   "outputs": [],
   "source": [
    "max(DS105A_grades)\n",
    "max_DS105W_grades = max(DS105W_grades)"
   ]
  },
  {
   "cell_type": "code",
   "execution_count": 50,
   "metadata": {},
   "outputs": [
    {
     "name": "stdout",
     "output_type": "stream",
     "text": [
      "88.8\n",
      "85.1\n"
     ]
    }
   ],
   "source": [
    "print(max(DS105A_grades))\n",
    "print(max(DS105W_grades))"
   ]
  },
  {
   "cell_type": "markdown",
   "metadata": {},
   "source": [
    "<span style=\"display:block;background-color:rgba(93, 158, 188, 0.1);padding:1.5em;font-size:0.85em;margin-left:0em;margin-bottom:1em;border-radius:0.5em;width:40%;\">💭 <strong>Think about it:</strong> Why do I see only one result on the first cell?</span>"
   ]
  },
  {
   "cell_type": "code",
   "execution_count": null,
   "metadata": {},
   "outputs": [],
   "source": [
    "# What about sum() and len()?"
   ]
  },
  {
   "cell_type": "markdown",
   "metadata": {},
   "source": [
    "**Q:** What if I had forgotten to add the grade of one student in DS105A?"
   ]
  },
  {
   "cell_type": "code",
   "execution_count": 60,
   "metadata": {},
   "outputs": [],
   "source": [
    "# In other words, how do I add an element to a list?\n",
    "DS105A_grades.append([35])"
   ]
  },
  {
   "cell_type": "code",
   "execution_count": 62,
   "metadata": {},
   "outputs": [],
   "source": [
    "fruits = ['apple', 'banana']\n",
    "\n",
    "fruits.append('kiwi')"
   ]
  },
  {
   "cell_type": "code",
   "execution_count": 64,
   "metadata": {},
   "outputs": [],
   "source": [
    "fruits.append(['peach'])"
   ]
  },
  {
   "cell_type": "code",
   "execution_count": 68,
   "metadata": {},
   "outputs": [
    {
     "data": {
      "text/plain": [
       "['apple', 'peach', 'banana', 'kiwi']"
      ]
     },
     "execution_count": 68,
     "metadata": {},
     "output_type": "execute_result"
    }
   ],
   "source": [
    "fruits[:1] + ['peach'] + fruits[1:]"
   ]
  },
  {
   "cell_type": "markdown",
   "metadata": {},
   "source": [
    "**Q:** Ops, my bad, that student grade was already there. Let's remove it.\n"
   ]
  },
  {
   "cell_type": "code",
   "execution_count": null,
   "metadata": {},
   "outputs": [],
   "source": [
    "# I will use this cell to show you the power of pop()"
   ]
  },
  {
   "cell_type": "markdown",
   "metadata": {},
   "source": [
    "<span style=\"color: #000000; font-size: 0.95em;background-color: #F6C73944; padding: 0.5em; border-radius: 5px; text-align: left;display:inline-block;margin-left:2em;\">⚠️ Be careful: <code style=\"background-color: #f6f6f6;padding: .2em;font-size: 0.875em;color: #9753b8;white-space: pre-wrap;border-radius: .25rem;word-wrap: break-word;font-family:'SFMono-Regular','Menlo';direction: ltr;unicode-bidi: bidi-override;\">list.pop()</code> removes the last element by default. If you want to remove a specific element, you need to specify its **index**.</span>\n",
    "\n",
    "<span style=\"display:block;background-color:rgba(93, 158, 188, 0.1);color:#000;padding:0.75em;font-size:0.85em;margin-left:2em;margin-bottom:1em;border-radius:0.5em;width:40%;\">📋 <strong>Take notes:</strong> Pay close attention as I mention the 'reproducibility issue' here.</span>\n"
   ]
  },
  {
   "cell_type": "markdown",
   "metadata": {},
   "source": [
    "**Q:** Why not just use one single list to store all the grades? "
   ]
  },
  {
   "cell_type": "code",
   "execution_count": 71,
   "metadata": {},
   "outputs": [],
   "source": [
    "DS105_grades = DS105A_grades + DS105W_grades"
   ]
  },
  {
   "cell_type": "code",
   "execution_count": 73,
   "metadata": {},
   "outputs": [
    {
     "data": {
      "text/plain": [
       "['apple', 'banana', 'kiwi', 'peach']"
      ]
     },
     "execution_count": 73,
     "metadata": {},
     "output_type": "execute_result"
    }
   ],
   "source": [
    "['apple', 'banana'] + ['kiwi', 'peach']"
   ]
  },
  {
   "cell_type": "code",
   "execution_count": 72,
   "metadata": {},
   "outputs": [
    {
     "data": {
      "text/plain": [
       "118"
      ]
     },
     "execution_count": 72,
     "metadata": {},
     "output_type": "execute_result"
    }
   ],
   "source": [
    "len(DS105_grades)"
   ]
  },
  {
   "cell_type": "markdown",
   "metadata": {},
   "source": [
    "I no longer need the two lists above, so I will delete them."
   ]
  },
  {
   "cell_type": "code",
   "execution_count": 74,
   "metadata": {},
   "outputs": [],
   "source": [
    "del DS105A_grades, DS105W_grades"
   ]
  },
  {
   "cell_type": "markdown",
   "metadata": {},
   "source": [
    "### 2.2 Posing questions to the data\n",
    "\n",
    "**Q:** What was the average grade in DS105 last year?"
   ]
  },
  {
   "cell_type": "code",
   "execution_count": 76,
   "metadata": {},
   "outputs": [
    {
     "name": "stdout",
     "output_type": "stream",
     "text": [
      "DS105: 67.46737288135594 (+/- 17.000698361925107 )\n"
     ]
    }
   ],
   "source": [
    "mean_DS105 = sum(DS105_grades) / len(DS105_grades)\n",
    "\n",
    "# In pure python, without numpy:\n",
    "std_DS105 = (sum((x - mean_DS105) ** 2 for x in DS105_grades) / len(DS105_grades)) ** 0.5\n",
    "\n",
    "print(\"DS105:\",  mean_DS105, \"(+/-\", std_DS105, \")\")"
   ]
  },
  {
   "cell_type": "markdown",
   "metadata": {},
   "source": [
    "<span style=\"display:block;background-color:rgba(93, 158, 188, 0.1);color:#000;padding:0.75em;font-size:0.85em;margin-left:2em;margin-bottom:1em;border-radius:0.5em;width:40%;\">📋 <strong>Take notes:</strong> Now let me show you a few string formatting tricks with Python [**f-strings**](https://www.w3schools.com/python/python_string_formatting.asp):</span>"
   ]
  },
  {
   "cell_type": "code",
   "execution_count": 83,
   "metadata": {},
   "outputs": [
    {
     "data": {
      "text/plain": [
       "'DS105 grades distribution: 67.47 (+-17.00)'"
      ]
     },
     "execution_count": 83,
     "metadata": {},
     "output_type": "execute_result"
    }
   ],
   "source": [
    "msg = f\"DS105 grades distribution: {mean_DS105:.2f} (+-{std_DS105:.2f})\"\n",
    "msg"
   ]
  },
  {
   "cell_type": "markdown",
   "metadata": {},
   "source": [
    "Here's a distribution of the grades in DS105 last year (I don't expect you to understand the code below, but I want you to see the output): "
   ]
  },
  {
   "cell_type": "code",
   "execution_count": 88,
   "metadata": {},
   "outputs": [
    {
     "data": {
      "text/html": [
       "   <div id=\"BAppIf\"></div>\n",
       "   <script type=\"text/javascript\" data-lets-plot-script=\"plot\">\n",
       "       (function() {\n",
       "           var plotSpec={\n",
       "\"data\":{\n",
       "\"classification\":[\"Fail (0-39)\",\"Third (40-49)\",\"2:2 (50-59)\",\"2:1 (60-69)\",\"First (70-100)\"],\n",
       "\"percentage\":[3.4782608695652173,2.608695652173913,6.086956521739131,24.347826086956523,63.47826086956522],\n",
       "\"percentage_str\":[\"4\\n(3.48%)\",\"3\\n(2.61%)\",\"7\\n(6.09%)\",\"28\\n(24.35%)\",\"73\\n(63.48%)\"]\n",
       "},\n",
       "\"mapping\":{\n",
       "\"x\":\"classification\",\n",
       "\"y\":\"percentage\",\n",
       "\"fill\":\"classification\"\n",
       "},\n",
       "\"data_meta\":{\n",
       "\"series_annotations\":[{\n",
       "\"type\":\"str\",\n",
       "\"factor_levels\":[\"Fail (0-39)\",\"Third (40-49)\",\"2:2 (50-59)\",\"2:1 (60-69)\",\"First (70-100)\"],\n",
       "\"column\":\"classification\"\n",
       "},{\n",
       "\"type\":\"int\",\n",
       "\"column\":\"count\"\n",
       "},{\n",
       "\"type\":\"float\",\n",
       "\"column\":\"percentage\"\n",
       "},{\n",
       "\"type\":\"str\",\n",
       "\"column\":\"percentage_str\"\n",
       "}]\n",
       "},\n",
       "\"coord\":{\n",
       "\"name\":\"flip\",\n",
       "\"flip\":true\n",
       "},\n",
       "\"ggsize\":{\n",
       "\"width\":1000.0,\n",
       "\"height\":475.0\n",
       "},\n",
       "\"ggtitle\":{\n",
       "\"text\":\"Examiners keep telling me that I must reduce the number of firsts!\",\n",
       "\"subtitle\":\"But if you keep producing innovative and creative work, I can't help it!\"\n",
       "},\n",
       "\"caption\":{\n",
       "\"text\":\"Distribution of grades for DS105 (2023/24)\"\n",
       "},\n",
       "\"guides\":{\n",
       "\"x\":{\n",
       "\"title\":\"\"\n",
       "}\n",
       "},\n",
       "\"theme\":{\n",
       "\"axis_text_x\":{\n",
       "\"size\":20.0,\n",
       "\"blank\":false\n",
       "},\n",
       "\"axis_text_y\":{\n",
       "\"size\":16.0,\n",
       "\"blank\":false\n",
       "},\n",
       "\"plot_title\":{\n",
       "\"face\":\"bold\",\n",
       "\"size\":19.0,\n",
       "\"blank\":false\n",
       "}\n",
       "},\n",
       "\"kind\":\"plot\",\n",
       "\"scales\":[{\n",
       "\"name\":\"Classification\",\n",
       "\"aesthetic\":\"fill\",\n",
       "\"discrete\":true\n",
       "},{\n",
       "\"name\":\"Classification\",\n",
       "\"aesthetic\":\"color\",\n",
       "\"discrete\":true\n",
       "},{\n",
       "\"name\":\"% of students\",\n",
       "\"aesthetic\":\"y\",\n",
       "\"breaks\":[0.0,25.0,50.0,75.0,100.0],\n",
       "\"limits\":[0.0,100.0]\n",
       "}],\n",
       "\"layers\":[{\n",
       "\"geom\":\"bar\",\n",
       "\"stat\":\"identity\",\n",
       "\"mapping\":{\n",
       "},\n",
       "\"data_meta\":{\n",
       "\"series_annotations\":[{\n",
       "\"column\":\"classification\",\n",
       "\"factor_levels\":[\"Fail (0-39)\",\"Third (40-49)\",\"2:2 (50-59)\",\"2:1 (60-69)\",\"First (70-100)\"]\n",
       "}]\n",
       "},\n",
       "\"data\":{\n",
       "}\n",
       "},{\n",
       "\"geom\":\"text\",\n",
       "\"mapping\":{\n",
       "\"label\":\"percentage_str\",\n",
       "\"color\":\"classification\"\n",
       "},\n",
       "\"data_meta\":{\n",
       "\"series_annotations\":[{\n",
       "\"column\":\"classification\",\n",
       "\"factor_levels\":[\"Fail (0-39)\",\"Third (40-49)\",\"2:2 (50-59)\",\"2:1 (60-69)\",\"First (70-100)\"]\n",
       "}]\n",
       "},\n",
       "\"nudge_y\":9.0,\n",
       "\"fill\":\"white\",\n",
       "\"size\":9.0,\n",
       "\"data\":{\n",
       "}\n",
       "}],\n",
       "\"metainfo_list\":[]\n",
       "};\n",
       "           var plotContainer = document.getElementById(\"BAppIf\");\n",
       "           window.letsPlotCall(function() {{\n",
       "               LetsPlot.buildPlotFromProcessedSpecs(plotSpec, -1, -1, plotContainer);\n",
       "           }});\n",
       "       })();\n",
       "   </script>"
      ],
      "text/plain": [
       "<lets_plot.plot.core.PlotSpec at 0x7fea8393e290>"
      ]
     },
     "execution_count": 88,
     "metadata": {},
     "output_type": "execute_result"
    }
   ],
   "source": [
    "plot_df = (\n",
    "    pd.DataFrame({'grade': DS105_grades})\n",
    "    .assign(classification=lambda df: pd.cut(df['grade'], \n",
    "                                             bins=[0, 39, 49, 59, 69, 100], \n",
    "                                             labels=['Fail (0-39)', 'Third (40-49)', '2:2 (50-59)', '2:1 (60-69)', 'First (70-100)']))\n",
    "    .groupby('classification', observed=False)\n",
    "    .size()\n",
    "    .reset_index(name='count')\n",
    "    .assign(percentage=lambda df: df['count'] / df['count'].sum() * 100,\n",
    "            percentage_str = lambda df: df.apply(lambda x: f'{x[\"count\"]}\\n({x[\"percentage\"]:.2f}%)', axis=1))\n",
    ")\n",
    "\n",
    "g = (\n",
    "    ggplot(plot_df, aes(x='classification', y='percentage', fill='classification')) +\n",
    "    geom_bar(stat='identity') +\n",
    "    geom_text(aes(label='percentage_str', color='classification'), fill='white', size=9, nudge_y=9) +\n",
    "    coord_flip() +\n",
    "    scale_fill_discrete(name='Classification') +\n",
    "    scale_color_discrete(name='Classification') +\n",
    "    scale_y_continuous(breaks=list(range(0, 101, 25)), limits=(0, 100), name=\"% of students\") +\n",
    "    ggsize(1000, 475) +\n",
    "    labs(title=\"Examiners keep telling me that I must reduce the number of firsts!\",\n",
    "         subtitle=\"But if you keep producing innovative and creative work, I can't help it!\",\n",
    "         caption=\"Distribution of grades for DS105 (2023/24)\",\n",
    "         x=\"\") +\n",
    "    theme(axis_text_x=element_text(size=20),\n",
    "          axis_text_y=element_text(size=16),\n",
    "          plot_title=element_text(size=19, face='bold'))\n",
    ")\n",
    "\n",
    "# This will only render when opened inside VS Code\n",
    "g"
   ]
  },
  {
   "cell_type": "code",
   "execution_count": null,
   "metadata": {},
   "outputs": [],
   "source": [
    "# Save the plot as a PNG file\n",
    "# ggsave(g, \"DS105_2023_24_grades.png\", path=\".\")"
   ]
  },
  {
   "cell_type": "markdown",
   "metadata": {},
   "source": [
    "---"
   ]
  },
  {
   "cell_type": "markdown",
   "metadata": {},
   "source": [
    "# PART II: Reading files, Python functions and `for` loops\n",
    "\n",
    "🔔 You can always read the 🧑‍🏫 [W02 Lecture Notes](https://moodle.lse.ac.uk/mod/page/view.php?id=1533983#lecture-notes) to revisit Python concepts later."
   ]
  },
  {
   "cell_type": "markdown",
   "metadata": {},
   "source": [
    "Before the lecture, I downloaded all your \"bash_history.csv\" files and saved them on the `./data/` folder. \n",
    "\n",
    "<details style=\"font-size:0.85em;margin-bottom: 1em;border:1px solid #aaa !important;border-radius: 4px !important;padding: .5em .5em 0.5em;\"><summary>(Way too advanced) Click here to see the shell commands I used for that</summary>\n",
    "\n",
    "When you clicked 'Hand In' here on Nuvolos, your submission was put on a `W02-review` folder for me. Each student is assigned a random number to you're not identifiable. \n",
    "\n",
    "The code below uses a command called `find` to search for the \"bash_history.csv\" files, then it copies it over to the `W02-Lecture/data/` folder with a different name.\n",
    "\n",
    "\n",
    "```bash\n",
    "find /files/W02-review/*/data -type f -name \"bash_history.csv\" | while read file; do cp \"$file\" \"/files/W02-Lecture/data/bash_history_$(dirname $(dirname $file) | cut -d '_' -f 4).csv\"; done\n",
    "```\n",
    "\n",
    "(The code won't work for you, as you won't have permission to view the `/files/W02-review/` folder)\n",
    "\n",
    "</details>"
   ]
  },
  {
   "cell_type": "code",
   "execution_count": null,
   "metadata": {},
   "outputs": [],
   "source": [
    "# How many bash_history*.csv files do we have?\n",
    "\n",
    "!ls ./data"
   ]
  },
  {
   "cell_type": "markdown",
   "metadata": {},
   "source": [
    "## 3. Reading files\n",
    "\n",
    "If I restart my machine, any **Python variables** I have written on the Python shell, or this Jupyter Notebook, will be lost... forever (watch me as I do a little demo of that). **Data stored on files, on the other hand, persist**. That is why we like to store data in files.\n",
    "\n",
    "On the 📝 [W02 Formative Exercise](https://moodle.lse.ac.uk/mod/page/view.php?id=1533681), we've shown you how to read a CSV file in \"pure\" Python (no external libraries):"
   ]
  },
  {
   "cell_type": "code",
   "execution_count": 89,
   "metadata": {},
   "outputs": [
    {
     "data": {
      "text/plain": [
       "'1 ,2024-10-09-11:28:38, python\\n2 ,2024-10-09-11:37:16, ls\\n3 ,2024-10-09-11:38:48, mkdir[data]\\n4 ,2024-10-09-11:39:33, mkdir[code]\\n5 ,2024-10-09-11:40:09, ls\\n6 ,2024-10-09-11:40:47, cd[W02-Practice]\\n7 ,2024-10-09-11:41:00, pwd\\n8 ,2024-10-09-11:41:20, ls\\n9 ,2024-10-09-11:42:46, mkdir[W02-Practice]\\n10 ,2024-10-09-11:44:03, touch[code]\\n11 ,2024-10-09-11:44:17, mkdir [code]\\n12 ,2024-10-09-11:45:51, mv [code][W02-Practice]\\n13 ,2024-10-09-11:46:36, cd [W02-Practice]\\n14 ,2024-10-09-11:47:06, cd [\\n15 ,2024-10-09-11:47:23, cd [W02-Practice]\\n16 ,2024-10-09-14:00:44, history\\n17 ,2024-10-09-14:06:32, ls\\n18 ,2024-10-09-14:06:39, cd W02-Practice\\n19 ,2024-10-09-14:06:46, rm -r data\\n20 ,2024-10-09-14:06:48, ls\\n21 ,2024-10-09-14:06:59, mkdir data\\n22 ,2024-10-09-14:07:02, cd data\\n23 ,2024-10-09-14:07:05, mkdir code\\n24 ,2024-10-09-14:07:16, cd W02-Practice\\n25 ,2024-10-09-14:08:48, cd data\\n26 ,2024-10-09-14:09:42, cd ..\\n27 ,2024-10-09-14:09:52, cd\\n28 ,2024-10-09-14:10:26, cd W02-Practice\\n29 ,2024-10-09-14:10:48, print-history > ./data/bash_history.csv\\n'"
      ]
     },
     "execution_count": 89,
     "metadata": {},
     "output_type": "execute_result"
    }
   ],
   "source": [
    "with open('./data/bash_history_0db536d3.csv', 'r') as file:\n",
    "    user_bash_history = file.read()\n",
    "\n",
    "user_bash_history"
   ]
  },
  {
   "cell_type": "code",
   "execution_count": 90,
   "metadata": {},
   "outputs": [
    {
     "data": {
      "text/plain": [
       "str"
      ]
     },
     "execution_count": 90,
     "metadata": {},
     "output_type": "execute_result"
    }
   ],
   "source": [
    "type(user_bash_history)"
   ]
  },
  {
   "cell_type": "markdown",
   "metadata": {},
   "source": [
    "CSV is a plain-text file, so its content is transparent to us. When we read this file into Python, we get it as a **string object**. Here, I chose to save it in the `user_bash_history` variable so I can reuse it."
   ]
  },
  {
   "cell_type": "markdown",
   "metadata": {},
   "source": [
    "## 4. Processing the string\n",
    "\n",
    "You've seen that the symbol `\\n` in a string represents a break of line and that we can split this huge string into a list:"
   ]
  },
  {
   "cell_type": "code",
   "execution_count": 91,
   "metadata": {},
   "outputs": [
    {
     "data": {
      "text/plain": [
       "['1 ,2024-10-09-11:28:38, python',\n",
       " '2 ,2024-10-09-11:37:16, ls',\n",
       " '3 ,2024-10-09-11:38:48, mkdir[data]',\n",
       " '4 ,2024-10-09-11:39:33, mkdir[code]',\n",
       " '5 ,2024-10-09-11:40:09, ls',\n",
       " '6 ,2024-10-09-11:40:47, cd[W02-Practice]',\n",
       " '7 ,2024-10-09-11:41:00, pwd',\n",
       " '8 ,2024-10-09-11:41:20, ls',\n",
       " '9 ,2024-10-09-11:42:46, mkdir[W02-Practice]',\n",
       " '10 ,2024-10-09-11:44:03, touch[code]',\n",
       " '11 ,2024-10-09-11:44:17, mkdir [code]',\n",
       " '12 ,2024-10-09-11:45:51, mv [code][W02-Practice]',\n",
       " '13 ,2024-10-09-11:46:36, cd [W02-Practice]',\n",
       " '14 ,2024-10-09-11:47:06, cd [',\n",
       " '15 ,2024-10-09-11:47:23, cd [W02-Practice]',\n",
       " '16 ,2024-10-09-14:00:44, history',\n",
       " '17 ,2024-10-09-14:06:32, ls',\n",
       " '18 ,2024-10-09-14:06:39, cd W02-Practice',\n",
       " '19 ,2024-10-09-14:06:46, rm -r data',\n",
       " '20 ,2024-10-09-14:06:48, ls',\n",
       " '21 ,2024-10-09-14:06:59, mkdir data',\n",
       " '22 ,2024-10-09-14:07:02, cd data',\n",
       " '23 ,2024-10-09-14:07:05, mkdir code',\n",
       " '24 ,2024-10-09-14:07:16, cd W02-Practice',\n",
       " '25 ,2024-10-09-14:08:48, cd data',\n",
       " '26 ,2024-10-09-14:09:42, cd ..',\n",
       " '27 ,2024-10-09-14:09:52, cd',\n",
       " '28 ,2024-10-09-14:10:26, cd W02-Practice',\n",
       " '29 ,2024-10-09-14:10:48, print-history > ./data/bash_history.csv',\n",
       " '']"
      ]
     },
     "execution_count": 91,
     "metadata": {},
     "output_type": "execute_result"
    }
   ],
   "source": [
    "# I will override the user_bash_history variable\n",
    "user_bash_history = user_bash_history.split('\\n')\n",
    "user_bash_history"
   ]
  },
  {
   "cell_type": "markdown",
   "metadata": {},
   "source": [
    "Each element of this list is a string, and we can further split it:"
   ]
  },
  {
   "cell_type": "code",
   "execution_count": 94,
   "metadata": {},
   "outputs": [
    {
     "data": {
      "text/plain": [
       "['1 ', '2024-10-09-11:28:38', ' python']"
      ]
     },
     "execution_count": 94,
     "metadata": {},
     "output_type": "execute_result"
    }
   ],
   "source": [
    "user_bash_history[0].split(',')"
   ]
  },
  {
   "cell_type": "markdown",
   "metadata": {},
   "source": [
    "How do I repeat that for **all** elements in the list? That's the point of a `for` loop:"
   ]
  },
  {
   "cell_type": "code",
   "execution_count": 95,
   "metadata": {},
   "outputs": [],
   "source": [
    "lines = []\n",
    "for line in user_bash_history:\n",
    "    split_line = line.split(',')\n",
    "    lines.append(split_line)"
   ]
  },
  {
   "cell_type": "code",
   "execution_count": 96,
   "metadata": {},
   "outputs": [
    {
     "data": {
      "text/plain": [
       "30"
      ]
     },
     "execution_count": 96,
     "metadata": {},
     "output_type": "execute_result"
    }
   ],
   "source": [
    "len(lines)"
   ]
  },
  {
   "cell_type": "markdown",
   "metadata": {},
   "source": [
    "## 5. Adding more info to each line\n",
    "\n",
    "**What if I wanted to add the username to each one of these lines?**\n",
    "\n",
    "That is, how can I ensure that the first line goes from:\n",
    "\n",
    "```output\n",
    "['1', '2024-10-09-11:28:38', ' python']\n",
    "```\n",
    "\n",
    "to:\n",
    "\n",
    "```output\n",
    "['1', '2024-10-09-11:28:38', ' python', 'Jon']\n",
    "```\n",
    "\n",
    "?\n",
    "\n",
    "I'd have to append to the end of the list:"
   ]
  },
  {
   "cell_type": "code",
   "execution_count": null,
   "metadata": {},
   "outputs": [],
   "source": [
    "line = user_bash_history[0].split(',') \n",
    "line.append('Jon')\n",
    "line"
   ]
  },
  {
   "cell_type": "markdown",
   "metadata": {},
   "source": [
    "There's a shorter way to do this. If `Jon` is inside a list, I can add them together with the `+` operator:"
   ]
  },
  {
   "cell_type": "code",
   "execution_count": null,
   "metadata": {},
   "outputs": [],
   "source": [
    "user_bash_history[0].split(',') + ['Jon']"
   ]
  },
  {
   "cell_type": "markdown",
   "metadata": {},
   "source": [
    "**How do I edit my `for` loop to accomodate this new idea?**"
   ]
  },
  {
   "cell_type": "code",
   "execution_count": 97,
   "metadata": {},
   "outputs": [
    {
     "data": {
      "text/plain": [
       "[['1 ', '2024-10-09-11:28:38', ' python', 'Jon'],\n",
       " ['2 ', '2024-10-09-11:37:16', ' ls', 'Jon'],\n",
       " ['3 ', '2024-10-09-11:38:48', ' mkdir[data]', 'Jon'],\n",
       " ['4 ', '2024-10-09-11:39:33', ' mkdir[code]', 'Jon'],\n",
       " ['5 ', '2024-10-09-11:40:09', ' ls', 'Jon'],\n",
       " ['6 ', '2024-10-09-11:40:47', ' cd[W02-Practice]', 'Jon'],\n",
       " ['7 ', '2024-10-09-11:41:00', ' pwd', 'Jon'],\n",
       " ['8 ', '2024-10-09-11:41:20', ' ls', 'Jon'],\n",
       " ['9 ', '2024-10-09-11:42:46', ' mkdir[W02-Practice]', 'Jon'],\n",
       " ['10 ', '2024-10-09-11:44:03', ' touch[code]', 'Jon'],\n",
       " ['11 ', '2024-10-09-11:44:17', ' mkdir [code]', 'Jon'],\n",
       " ['12 ', '2024-10-09-11:45:51', ' mv [code][W02-Practice]', 'Jon'],\n",
       " ['13 ', '2024-10-09-11:46:36', ' cd [W02-Practice]', 'Jon'],\n",
       " ['14 ', '2024-10-09-11:47:06', ' cd [', 'Jon'],\n",
       " ['15 ', '2024-10-09-11:47:23', ' cd [W02-Practice]', 'Jon'],\n",
       " ['16 ', '2024-10-09-14:00:44', ' history', 'Jon'],\n",
       " ['17 ', '2024-10-09-14:06:32', ' ls', 'Jon'],\n",
       " ['18 ', '2024-10-09-14:06:39', ' cd W02-Practice', 'Jon'],\n",
       " ['19 ', '2024-10-09-14:06:46', ' rm -r data', 'Jon'],\n",
       " ['20 ', '2024-10-09-14:06:48', ' ls', 'Jon'],\n",
       " ['21 ', '2024-10-09-14:06:59', ' mkdir data', 'Jon'],\n",
       " ['22 ', '2024-10-09-14:07:02', ' cd data', 'Jon'],\n",
       " ['23 ', '2024-10-09-14:07:05', ' mkdir code', 'Jon'],\n",
       " ['24 ', '2024-10-09-14:07:16', ' cd W02-Practice', 'Jon'],\n",
       " ['25 ', '2024-10-09-14:08:48', ' cd data', 'Jon'],\n",
       " ['26 ', '2024-10-09-14:09:42', ' cd ..', 'Jon'],\n",
       " ['27 ', '2024-10-09-14:09:52', ' cd', 'Jon'],\n",
       " ['28 ', '2024-10-09-14:10:26', ' cd W02-Practice', 'Jon'],\n",
       " ['29 ',\n",
       "  '2024-10-09-14:10:48',\n",
       "  ' print-history > ./data/bash_history.csv',\n",
       "  'Jon'],\n",
       " ['', 'Jon']]"
      ]
     },
     "execution_count": 97,
     "metadata": {},
     "output_type": "execute_result"
    }
   ],
   "source": [
    "lines = []\n",
    "\n",
    "for line in user_bash_history:\n",
    "    lines.append(line.split(',') + ['Jon'])\n",
    "\n",
    "lines"
   ]
  },
  {
   "cell_type": "markdown",
   "metadata": {},
   "source": [
    "**I could convert this to a table (a DataFrame) later:**\n",
    "\n",
    "(we will learn about data frames properly next week)"
   ]
  },
  {
   "cell_type": "code",
   "execution_count": 98,
   "metadata": {},
   "outputs": [
    {
     "data": {
      "text/html": [
       "<div>\n",
       "<style scoped>\n",
       "    .dataframe tbody tr th:only-of-type {\n",
       "        vertical-align: middle;\n",
       "    }\n",
       "\n",
       "    .dataframe tbody tr th {\n",
       "        vertical-align: top;\n",
       "    }\n",
       "\n",
       "    .dataframe thead th {\n",
       "        text-align: right;\n",
       "    }\n",
       "</style>\n",
       "<table border=\"1\" class=\"dataframe\">\n",
       "  <thead>\n",
       "    <tr style=\"text-align: right;\">\n",
       "      <th></th>\n",
       "      <th>line_number</th>\n",
       "      <th>timestamp</th>\n",
       "      <th>command</th>\n",
       "      <th>username</th>\n",
       "    </tr>\n",
       "  </thead>\n",
       "  <tbody>\n",
       "    <tr>\n",
       "      <th>0</th>\n",
       "      <td>1</td>\n",
       "      <td>2024-10-09-11:28:38</td>\n",
       "      <td>python</td>\n",
       "      <td>Jon</td>\n",
       "    </tr>\n",
       "    <tr>\n",
       "      <th>1</th>\n",
       "      <td>2</td>\n",
       "      <td>2024-10-09-11:37:16</td>\n",
       "      <td>ls</td>\n",
       "      <td>Jon</td>\n",
       "    </tr>\n",
       "    <tr>\n",
       "      <th>2</th>\n",
       "      <td>3</td>\n",
       "      <td>2024-10-09-11:38:48</td>\n",
       "      <td>mkdir[data]</td>\n",
       "      <td>Jon</td>\n",
       "    </tr>\n",
       "    <tr>\n",
       "      <th>3</th>\n",
       "      <td>4</td>\n",
       "      <td>2024-10-09-11:39:33</td>\n",
       "      <td>mkdir[code]</td>\n",
       "      <td>Jon</td>\n",
       "    </tr>\n",
       "    <tr>\n",
       "      <th>4</th>\n",
       "      <td>5</td>\n",
       "      <td>2024-10-09-11:40:09</td>\n",
       "      <td>ls</td>\n",
       "      <td>Jon</td>\n",
       "    </tr>\n",
       "    <tr>\n",
       "      <th>5</th>\n",
       "      <td>6</td>\n",
       "      <td>2024-10-09-11:40:47</td>\n",
       "      <td>cd[W02-Practice]</td>\n",
       "      <td>Jon</td>\n",
       "    </tr>\n",
       "    <tr>\n",
       "      <th>6</th>\n",
       "      <td>7</td>\n",
       "      <td>2024-10-09-11:41:00</td>\n",
       "      <td>pwd</td>\n",
       "      <td>Jon</td>\n",
       "    </tr>\n",
       "    <tr>\n",
       "      <th>7</th>\n",
       "      <td>8</td>\n",
       "      <td>2024-10-09-11:41:20</td>\n",
       "      <td>ls</td>\n",
       "      <td>Jon</td>\n",
       "    </tr>\n",
       "    <tr>\n",
       "      <th>8</th>\n",
       "      <td>9</td>\n",
       "      <td>2024-10-09-11:42:46</td>\n",
       "      <td>mkdir[W02-Practice]</td>\n",
       "      <td>Jon</td>\n",
       "    </tr>\n",
       "    <tr>\n",
       "      <th>9</th>\n",
       "      <td>10</td>\n",
       "      <td>2024-10-09-11:44:03</td>\n",
       "      <td>touch[code]</td>\n",
       "      <td>Jon</td>\n",
       "    </tr>\n",
       "    <tr>\n",
       "      <th>10</th>\n",
       "      <td>11</td>\n",
       "      <td>2024-10-09-11:44:17</td>\n",
       "      <td>mkdir [code]</td>\n",
       "      <td>Jon</td>\n",
       "    </tr>\n",
       "    <tr>\n",
       "      <th>11</th>\n",
       "      <td>12</td>\n",
       "      <td>2024-10-09-11:45:51</td>\n",
       "      <td>mv [code][W02-Practice]</td>\n",
       "      <td>Jon</td>\n",
       "    </tr>\n",
       "    <tr>\n",
       "      <th>12</th>\n",
       "      <td>13</td>\n",
       "      <td>2024-10-09-11:46:36</td>\n",
       "      <td>cd [W02-Practice]</td>\n",
       "      <td>Jon</td>\n",
       "    </tr>\n",
       "    <tr>\n",
       "      <th>13</th>\n",
       "      <td>14</td>\n",
       "      <td>2024-10-09-11:47:06</td>\n",
       "      <td>cd [</td>\n",
       "      <td>Jon</td>\n",
       "    </tr>\n",
       "    <tr>\n",
       "      <th>14</th>\n",
       "      <td>15</td>\n",
       "      <td>2024-10-09-11:47:23</td>\n",
       "      <td>cd [W02-Practice]</td>\n",
       "      <td>Jon</td>\n",
       "    </tr>\n",
       "    <tr>\n",
       "      <th>15</th>\n",
       "      <td>16</td>\n",
       "      <td>2024-10-09-14:00:44</td>\n",
       "      <td>history</td>\n",
       "      <td>Jon</td>\n",
       "    </tr>\n",
       "    <tr>\n",
       "      <th>16</th>\n",
       "      <td>17</td>\n",
       "      <td>2024-10-09-14:06:32</td>\n",
       "      <td>ls</td>\n",
       "      <td>Jon</td>\n",
       "    </tr>\n",
       "    <tr>\n",
       "      <th>17</th>\n",
       "      <td>18</td>\n",
       "      <td>2024-10-09-14:06:39</td>\n",
       "      <td>cd W02-Practice</td>\n",
       "      <td>Jon</td>\n",
       "    </tr>\n",
       "    <tr>\n",
       "      <th>18</th>\n",
       "      <td>19</td>\n",
       "      <td>2024-10-09-14:06:46</td>\n",
       "      <td>rm -r data</td>\n",
       "      <td>Jon</td>\n",
       "    </tr>\n",
       "    <tr>\n",
       "      <th>19</th>\n",
       "      <td>20</td>\n",
       "      <td>2024-10-09-14:06:48</td>\n",
       "      <td>ls</td>\n",
       "      <td>Jon</td>\n",
       "    </tr>\n",
       "    <tr>\n",
       "      <th>20</th>\n",
       "      <td>21</td>\n",
       "      <td>2024-10-09-14:06:59</td>\n",
       "      <td>mkdir data</td>\n",
       "      <td>Jon</td>\n",
       "    </tr>\n",
       "    <tr>\n",
       "      <th>21</th>\n",
       "      <td>22</td>\n",
       "      <td>2024-10-09-14:07:02</td>\n",
       "      <td>cd data</td>\n",
       "      <td>Jon</td>\n",
       "    </tr>\n",
       "    <tr>\n",
       "      <th>22</th>\n",
       "      <td>23</td>\n",
       "      <td>2024-10-09-14:07:05</td>\n",
       "      <td>mkdir code</td>\n",
       "      <td>Jon</td>\n",
       "    </tr>\n",
       "    <tr>\n",
       "      <th>23</th>\n",
       "      <td>24</td>\n",
       "      <td>2024-10-09-14:07:16</td>\n",
       "      <td>cd W02-Practice</td>\n",
       "      <td>Jon</td>\n",
       "    </tr>\n",
       "    <tr>\n",
       "      <th>24</th>\n",
       "      <td>25</td>\n",
       "      <td>2024-10-09-14:08:48</td>\n",
       "      <td>cd data</td>\n",
       "      <td>Jon</td>\n",
       "    </tr>\n",
       "    <tr>\n",
       "      <th>25</th>\n",
       "      <td>26</td>\n",
       "      <td>2024-10-09-14:09:42</td>\n",
       "      <td>cd ..</td>\n",
       "      <td>Jon</td>\n",
       "    </tr>\n",
       "    <tr>\n",
       "      <th>26</th>\n",
       "      <td>27</td>\n",
       "      <td>2024-10-09-14:09:52</td>\n",
       "      <td>cd</td>\n",
       "      <td>Jon</td>\n",
       "    </tr>\n",
       "    <tr>\n",
       "      <th>27</th>\n",
       "      <td>28</td>\n",
       "      <td>2024-10-09-14:10:26</td>\n",
       "      <td>cd W02-Practice</td>\n",
       "      <td>Jon</td>\n",
       "    </tr>\n",
       "    <tr>\n",
       "      <th>28</th>\n",
       "      <td>29</td>\n",
       "      <td>2024-10-09-14:10:48</td>\n",
       "      <td>print-history &gt; ./data/bash_history.csv</td>\n",
       "      <td>Jon</td>\n",
       "    </tr>\n",
       "    <tr>\n",
       "      <th>29</th>\n",
       "      <td></td>\n",
       "      <td>Jon</td>\n",
       "      <td>None</td>\n",
       "      <td>None</td>\n",
       "    </tr>\n",
       "  </tbody>\n",
       "</table>\n",
       "</div>"
      ],
      "text/plain": [
       "   line_number            timestamp                                   command  \\\n",
       "0           1   2024-10-09-11:28:38                                    python   \n",
       "1           2   2024-10-09-11:37:16                                        ls   \n",
       "2           3   2024-10-09-11:38:48                               mkdir[data]   \n",
       "3           4   2024-10-09-11:39:33                               mkdir[code]   \n",
       "4           5   2024-10-09-11:40:09                                        ls   \n",
       "5           6   2024-10-09-11:40:47                          cd[W02-Practice]   \n",
       "6           7   2024-10-09-11:41:00                                       pwd   \n",
       "7           8   2024-10-09-11:41:20                                        ls   \n",
       "8           9   2024-10-09-11:42:46                       mkdir[W02-Practice]   \n",
       "9          10   2024-10-09-11:44:03                               touch[code]   \n",
       "10         11   2024-10-09-11:44:17                              mkdir [code]   \n",
       "11         12   2024-10-09-11:45:51                   mv [code][W02-Practice]   \n",
       "12         13   2024-10-09-11:46:36                         cd [W02-Practice]   \n",
       "13         14   2024-10-09-11:47:06                                      cd [   \n",
       "14         15   2024-10-09-11:47:23                         cd [W02-Practice]   \n",
       "15         16   2024-10-09-14:00:44                                   history   \n",
       "16         17   2024-10-09-14:06:32                                        ls   \n",
       "17         18   2024-10-09-14:06:39                           cd W02-Practice   \n",
       "18         19   2024-10-09-14:06:46                                rm -r data   \n",
       "19         20   2024-10-09-14:06:48                                        ls   \n",
       "20         21   2024-10-09-14:06:59                                mkdir data   \n",
       "21         22   2024-10-09-14:07:02                                   cd data   \n",
       "22         23   2024-10-09-14:07:05                                mkdir code   \n",
       "23         24   2024-10-09-14:07:16                           cd W02-Practice   \n",
       "24         25   2024-10-09-14:08:48                                   cd data   \n",
       "25         26   2024-10-09-14:09:42                                     cd ..   \n",
       "26         27   2024-10-09-14:09:52                                        cd   \n",
       "27         28   2024-10-09-14:10:26                           cd W02-Practice   \n",
       "28         29   2024-10-09-14:10:48   print-history > ./data/bash_history.csv   \n",
       "29                              Jon                                      None   \n",
       "\n",
       "   username  \n",
       "0       Jon  \n",
       "1       Jon  \n",
       "2       Jon  \n",
       "3       Jon  \n",
       "4       Jon  \n",
       "5       Jon  \n",
       "6       Jon  \n",
       "7       Jon  \n",
       "8       Jon  \n",
       "9       Jon  \n",
       "10      Jon  \n",
       "11      Jon  \n",
       "12      Jon  \n",
       "13      Jon  \n",
       "14      Jon  \n",
       "15      Jon  \n",
       "16      Jon  \n",
       "17      Jon  \n",
       "18      Jon  \n",
       "19      Jon  \n",
       "20      Jon  \n",
       "21      Jon  \n",
       "22      Jon  \n",
       "23      Jon  \n",
       "24      Jon  \n",
       "25      Jon  \n",
       "26      Jon  \n",
       "27      Jon  \n",
       "28      Jon  \n",
       "29     None  "
      ]
     },
     "execution_count": 98,
     "metadata": {},
     "output_type": "execute_result"
    }
   ],
   "source": [
    "pd.DataFrame(lines, columns=['line_number', 'timestamp', 'command', 'username'])"
   ]
  },
  {
   "cell_type": "markdown",
   "metadata": {},
   "source": [
    "# 6. Exercise working with dictionaries:\n",
    "\n",
    "We can achieve the same result using a list of dictionaries instead of a flat list.\n",
    "\n",
    "<details style=\"background-color:white;color:white;height:1px\"><summary>Hidden solution</summary>\n",
    "\n",
    "```python\n",
    "lines = []\n",
    "\n",
    "for line in user_bash_history:\n",
    "    line = line.split(',')\n",
    "\n",
    "    if len(line) == 1:\n",
    "        continue\n",
    "\n",
    "    current_line = {\n",
    "        'line_number'   :  int(line[0]),\n",
    "        'timestamp'     :  line[1].strip(),\n",
    "        'command'       :  line[2:].strip(),\n",
    "        'username'      :  'Jon'\n",
    "    }\n",
    "    lines.append(current_line)\n",
    "\n",
    "pd.DataFrame(lines)\n",
    "\n",
    "```\n",
    "\n",
    "</details>"
   ]
  },
  {
   "cell_type": "code",
   "execution_count": null,
   "metadata": {},
   "outputs": [],
   "source": [
    "# Watch me as I demonstrate that"
   ]
  },
  {
   "cell_type": "markdown",
   "metadata": {},
   "source": [
    "## 7. Adapting our code to consume ALL files"
   ]
  },
  {
   "cell_type": "markdown",
   "metadata": {},
   "source": [
    "<div style=\"font-size:0.85em;width:70%;display:block;margin-left:1em;\">\n",
    "\n",
    "🧩 **Here's a puzzle:** we want to do that **for each one of the 38** individual `bash_history.csv` files we have and the **username should not be 'Jon' for everyone!**\n",
    "\n",
    "</div>"
   ]
  },
  {
   "cell_type": "markdown",
   "metadata": {},
   "source": [
    "<details style=\"font-size:0.85em;margin-bottom: 1em;border:1px solid #aaa !important;border-radius: 4px !important;padding: .5em .5em 0.5em;\"><summary>Click here to see a <strong>VERY VERY BAD WAY</strong> to achieve that:</summary>\n",
    "\n",
    "The code below works but it hurts my eyes deeply! Do you get why this is a bad way to write code?\n",
    "\n",
    "```python\n",
    "\n",
    "# A variable to store bash history of all students\n",
    "all_lines = []\n",
    "\n",
    "with open(\"./data/bash_history_0db536d3.csv\") as file:\n",
    "    user_bash_history = file.read().split('\\n')\n",
    "\n",
    "for line in user_bash_history:\n",
    "    current_line = line.split(' ,')\n",
    "    # Adds the username\n",
    "    current_line.append('0db536d3')\n",
    "    all_lines.append(current_line)\n",
    "\n",
    "\n",
    "with open(\"./data/bash_history_99605b72.csv\") as file:\n",
    "    user_bash_history = file.read().split('\\n')\n",
    "\n",
    "for line in user_bash_history:\n",
    "    current_line = line.split(' ,')\n",
    "    # Adds the username\n",
    "    current_line.append('99605b72')\n",
    "    all_lines.append(current_line)\n",
    "\n",
    "with open(\"./data/bash_history_13220409.csv\") as file:\n",
    "    user_bash_history = file.read().split('\\n')\n",
    "\n",
    "for line in user_bash_history:\n",
    "    current_line = line.split(' ,')\n",
    "    # Adds the username\n",
    "    current_line.append('13220409')\n",
    "    all_lines.append(current_line)\n",
    "\n",
    "with open(\"./data/bash_history_9fe1f569.csv\") as file:\n",
    "    user_bash_history = file.read().split('\\n')\n",
    "\n",
    "for line in user_bash_history:\n",
    "    current_line = line.split(' ,')\n",
    "    # Adds the username\n",
    "    current_line.append('9fe1f569')\n",
    "    all_lines.append(current_line)\n",
    "\n",
    "# TODO: Add remaining 26 files\n",
    "\n",
    "```\n",
    "\n",
    "</details>\n",
    "\n",
    "I will create the good solution live during the lecture while teaching you about **functions** and the `os` module in Python."
   ]
  },
  {
   "cell_type": "markdown",
   "metadata": {},
   "source": [
    "<details style=\"background-color:white;color:white;height:1px\"><summary>Click here to see a better solution</summary>\n",
    "\n",
    "```python\n",
    "def read_bash_history(filename):\n",
    "    with open(filename) as file:\n",
    "        user_bash_history = file.read().split('\\n')\n",
    "\n",
    "    current_file_lines = []\n",
    "    for line in user_bash_history:\n",
    "        current_line = line.split(',')\n",
    "\n",
    "        if len(current_line) == 1:\n",
    "            continue\n",
    "\n",
    "        current_dict = {\n",
    "            'line_number'   :  current_line[0].strip(),\n",
    "            'timestamp'     :  current_line[1].strip(),\n",
    "            'command'       :  ''.join(current_line[2:]).strip(),\n",
    "            'username'      :  filename.split('_')[-1].split('.')[0]\n",
    "        }\n",
    "        \n",
    "        current_file_lines.append(current_dict)\n",
    "\n",
    "    return current_file_lines\n",
    "\n",
    "filenames = [os.path.join('./data/', csv_filename) \n",
    "             for csv_filename in os.listdir('./data')]\n",
    "\n",
    "all_lines = []\n",
    "\n",
    "for filename in filenames:\n",
    "    all_lines.extend(read_bash_history(filename))\n",
    "```\n",
    "\n",
    "</details>"
   ]
  },
  {
   "cell_type": "code",
   "execution_count": null,
   "metadata": {},
   "outputs": [],
   "source": [
    "pd.DataFrame(all_lines)"
   ]
  },
  {
   "cell_type": "code",
   "execution_count": null,
   "metadata": {},
   "outputs": [],
   "source": [
    "print(f\"In the end we should have gathered: {len(all_lines)} lines\")"
   ]
  },
  {
   "cell_type": "code",
   "execution_count": null,
   "metadata": {},
   "outputs": [],
   "source": [
    "# Sample the first line\n",
    "all_lines[0]"
   ]
  },
  {
   "cell_type": "markdown",
   "metadata": {},
   "source": [
    "## 7. Exploratory Data Analysis\n",
    "\n",
    "(If time allows) We will explore the top commands used"
   ]
  },
  {
   "cell_type": "code",
   "execution_count": null,
   "metadata": {},
   "outputs": [],
   "source": [
    "df = pd.DataFrame(all_lines)"
   ]
  },
  {
   "cell_type": "markdown",
   "metadata": {},
   "source": [
    "**Q:** On average, how many Terminal commands did each student use?\n",
    "\n",
    "<details style=\"background-color:white;color:white;height:1px\"><summary>Hidden solution</summary>\n",
    "\n",
    "```python\n",
    "num_commands = df['username'].value_counts().tolist()\n",
    "\n",
    "mean_commands = sum(num_commands) / len(num_commands)\n",
    "std_commands = (sum((x - mean_commands) ** 2 for x in num_commands) / len(num_commands)) ** 0.5\n",
    "\n",
    "print(f\"Mean number of commands: {mean_commands:.2f} (+/- {std_commands:.2f})\")\n",
    "\n",
    "```\n",
    "\n",
    "</details>"
   ]
  },
  {
   "cell_type": "code",
   "execution_count": null,
   "metadata": {},
   "outputs": [],
   "source": []
  },
  {
   "cell_type": "markdown",
   "metadata": {},
   "source": [
    "Which commands were most popular?\n",
    "\n",
    "<details style=\"background-color:white;color:white;height:1px\"><summary>Hidden solution</summary>\n",
    "\n",
    "```python\n",
    "df.groupby(['command'])['username'].nunique().sort_values(ascending=False).head(10).reset_index(name=\"Unique students\")\n",
    "\n",
    "```\n",
    "\n",
    "</details>"
   ]
  },
  {
   "cell_type": "code",
   "execution_count": null,
   "metadata": {},
   "outputs": [],
   "source": []
  }
 ],
 "metadata": {
  "kernelspec": {
   "display_name": "base",
   "language": "python",
   "name": "python3"
  },
  "language_info": {
   "codemirror_mode": {
    "name": "ipython",
    "version": 3
   },
   "file_extension": ".py",
   "mimetype": "text/x-python",
   "name": "python",
   "nbconvert_exporter": "python",
   "pygments_lexer": "ipython3",
   "version": "3.11.8"
  }
 },
 "nbformat": 4,
 "nbformat_minor": 2
}

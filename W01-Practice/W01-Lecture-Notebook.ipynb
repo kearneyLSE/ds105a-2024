{
 "cells": [
  {
   "cell_type": "markdown",
   "metadata": {},
   "source": [
    "<font style='font-size:1.5em'>**🧑‍🏫 Week 01 Lecture – Course Logistics & Introduction to Data Science Tools** </font>\n",
    "\n",
    "<font style='font-size:1.2em'>LSE DS105A – Data for Data Science (2024/25)</font>\n",
    "\n",
    "\n",
    "\n",
    "<div style=\"color: #333333; background-color:rgba(93, 158, 188, 0.15); border-radius: 10px; box-shadow: 0 4px 8px rgba(0, 0, 0, 0.1); padding: 20px; margin: 10px; flex: 1 1 calc(45% - 20px);min-width: 250px;max-width: 350px;align-items:top;min-height: calc(45% - 20px); box-sizing: border-box;font-size:0.9em;\">\n",
    "\n",
    "🗓️ **DATE:** 3 October 2024\n",
    "\n",
    "⌚ **TIME:** 16.00-18.00\n",
    "\n",
    "📍 **LOCATION:** CLM.5.02\n",
    "</div>\n",
    "\n",
    "\n",
    "**AUTHORS:**  Dr. [Jon Cardoso-Silva](https://jonjoncardoso.github.io)\n",
    "\n",
    "**DEPARTMENT:** [LSE Data Science Institute](https://lse.ac.uk/dsi)\n",
    "\n",
    "**OBJECTIVE**: Show a small demo of what you would eventually be able to do with the tools we will learn in this course.\n",
    "\n",
    "---"
   ]
  },
  {
   "cell_type": "code",
   "execution_count": 1,
   "metadata": {},
   "outputs": [
    {
     "data": {
      "text/html": [
       "\n",
       "            <div id=\"8VdFvG\"></div>\n",
       "            <script type=\"text/javascript\" data-lets-plot-script=\"library\">\n",
       "                if(!window.letsPlotCallQueue) {\n",
       "                    window.letsPlotCallQueue = [];\n",
       "                }; \n",
       "                window.letsPlotCall = function(f) {\n",
       "                    window.letsPlotCallQueue.push(f);\n",
       "                };\n",
       "                (function() {\n",
       "                    var script = document.createElement(\"script\");\n",
       "                    script.type = \"text/javascript\";\n",
       "                    script.src = \"https://cdn.jsdelivr.net/gh/JetBrains/lets-plot@v4.3.3/js-package/distr/lets-plot.min.js\";\n",
       "                    script.onload = function() {\n",
       "                        window.letsPlotCall = function(f) {f();};\n",
       "                        window.letsPlotCallQueue.forEach(function(f) {f();});\n",
       "                        window.letsPlotCallQueue = [];\n",
       "                        \n",
       "                    };\n",
       "                    script.onerror = function(event) {\n",
       "                        window.letsPlotCall = function(f) {};    // noop\n",
       "                        window.letsPlotCallQueue = [];\n",
       "                        var div = document.createElement(\"div\");\n",
       "                        div.style.color = 'darkred';\n",
       "                        div.textContent = 'Error loading Lets-Plot JS';\n",
       "                        document.getElementById(\"8VdFvG\").appendChild(div);\n",
       "                    };\n",
       "                    var e = document.getElementById(\"8VdFvG\");\n",
       "                    e.appendChild(script);\n",
       "                })()\n",
       "            </script>\n",
       "            "
      ]
     },
     "metadata": {},
     "output_type": "display_data"
    }
   ],
   "source": [
    "import os\n",
    "import pandas as pd\n",
    "\n",
    "from pprint import pprint\n",
    "\n",
    "from selenium.webdriver import Firefox\n",
    "from selenium.webdriver.common.by import By\n",
    "\n",
    "from lets_plot import *\n",
    "\n",
    "LetsPlot.setup_html()"
   ]
  },
  {
   "cell_type": "markdown",
   "metadata": {},
   "source": [
    "<svg width=\"768\" height=\"384\" viewBox=\"0.00 0.00 1104.31 425.00\" xmlns=\"http://www.w3.org/2000/svg\" xlink=\"http://www.w3.org/1999/xlink\" style=\"; max-width: none; max-height: none\">\n",
    "<g id=\"graph0\" class=\"graph\" transform=\"scale(1 1) rotate(0) translate(36 389)\">\n",
    "<polygon fill=\"white\" stroke=\"transparent\" points=\"-36,36 -36,-389 1068.31,-389 1068.31,36 -36,36\"></polygon>\n",
    "<!-- start -->\n",
    "<g id=\"node1\" class=\"node\">\n",
    "<title>start</title>\n",
    "<polygon fill=\"#f2eaf6\" stroke=\"#f2eaf6\" points=\"73.98,-353 8.43,-353 8.43,-301 73.98,-301 73.98,-353\"></polygon>\n",
    "<text text-anchor=\"middle\" x=\"41.21\" y=\"-321\" font-family=\"Helvetica,Arial,sans-serif\" font-size=\"20.00\" fill=\"#8431a6\">Start</text>\n",
    "</g>\n",
    "<!-- gather -->\n",
    "<g id=\"node2\" class=\"node\">\n",
    "<title>gather</title>\n",
    "<text text-anchor=\"start\" x=\"14\" y=\"-232\" font-family=\"Helvetica,Arial,sans-serif\" font-size=\"20.00\" fill=\"#8431a6\">Gather</text>\n",
    "<text text-anchor=\"middle\" x=\"41.21\" y=\"-208\" font-family=\"Helvetica,Arial,sans-serif\" font-size=\"20.00\" fill=\"#8431a6\">data &nbsp;</text>\n",
    "</g>\n",
    "<!-- start&#45;&gt;gather -->\n",
    "<g id=\"edge8\" class=\"edge\">\n",
    "<title>start-&gt;gather</title>\n",
    "<path fill=\"none\" stroke=\"#8431a6\" stroke-width=\"4\" d=\"M41.21,-300.76C41.21,-292.69 41.21,-283.47 41.21,-274.35\"></path>\n",
    "<polygon fill=\"#8431a6\" stroke=\"#8431a6\" stroke-width=\"4\" points=\"44.71,-274.16 41.21,-264.16 37.71,-274.16 44.71,-274.16\"></polygon>\n",
    "</g>\n",
    "<!-- store -->\n",
    "<g id=\"node3\" class=\"node\">\n",
    "<title>store</title>\n",
    "<text text-anchor=\"start\" x=\"134.54\" y=\"-232\" font-family=\"Helvetica,Arial,sans-serif\" font-size=\"20.00\" fill=\"#8431a6\">Store it &nbsp;&nbsp;&nbsp;&nbsp;&nbsp;&nbsp;&nbsp;&nbsp;</text>\n",
    "<text text-anchor=\"middle\" x=\"186.21\" y=\"-208\" font-family=\"Helvetica,Arial,sans-serif\" font-size=\"20.00\" fill=\"#8431a6\">somewhere</text>\n",
    "</g>\n",
    "<!-- gather&#45;&gt;store -->\n",
    "<g id=\"edge1\" class=\"edge\">\n",
    "<title>gather-&gt;store</title>\n",
    "<path fill=\"none\" stroke=\"#8431a6\" stroke-width=\"4\" d=\"M82.76,-226C91.36,-226 100.68,-226 110.08,-226\"></path>\n",
    "<polygon fill=\"#8431a6\" stroke=\"#8431a6\" stroke-width=\"4\" points=\"110.29,-229.5 120.29,-226 110.29,-222.5 110.29,-229.5\"></polygon>\n",
    "<text text-anchor=\"middle\" x=\"101.48\" y=\"-233.2\" font-family=\"Helvetica,Arial,sans-serif\" font-size=\"14.00\"> &nbsp;&nbsp;&nbsp;&nbsp;&nbsp;</text>\n",
    "</g>\n",
    "<!-- clean -->\n",
    "<g id=\"node4\" class=\"node\">\n",
    "<title>clean</title>\n",
    "<text text-anchor=\"start\" x=\"304.6\" y=\"-232\" font-family=\"Helvetica,Arial,sans-serif\" font-size=\"20.00\" fill=\"#8431a6\">Clean &amp; &nbsp;&nbsp;&nbsp;&nbsp;&nbsp;&nbsp;&nbsp;</text>\n",
    "<text text-anchor=\"middle\" x=\"358.21\" y=\"-208\" font-family=\"Helvetica,Arial,sans-serif\" font-size=\"20.00\" fill=\"#8431a6\">pre-process</text>\n",
    "</g>\n",
    "<!-- store&#45;&gt;clean -->\n",
    "<g id=\"edge2\" class=\"edge\">\n",
    "<title>store-&gt;clean</title>\n",
    "<path fill=\"none\" stroke=\"#8431a6\" stroke-width=\"4\" d=\"M252.21,-226C261.4,-226 270.9,-226 280.28,-226\"></path>\n",
    "<polygon fill=\"#8431a6\" stroke=\"#8431a6\" stroke-width=\"4\" points=\"280.38,-229.5 290.38,-226 280.38,-222.5 280.38,-229.5\"></polygon>\n",
    "<text text-anchor=\"middle\" x=\"271.24\" y=\"-233.2\" font-family=\"Helvetica,Arial,sans-serif\" font-size=\"14.00\"> &nbsp;&nbsp;&nbsp;&nbsp;&nbsp;</text>\n",
    "</g>\n",
    "<!-- build -->\n",
    "<g id=\"node5\" class=\"node\">\n",
    "<title>build</title>\n",
    "<text text-anchor=\"start\" x=\"478.54\" y=\"-232\" font-family=\"Helvetica,Arial,sans-serif\" font-size=\"20.00\" fill=\"#8431a6\">Build a </text>\n",
    "<text text-anchor=\"middle\" x=\"510.21\" y=\"-208\" font-family=\"Helvetica,Arial,sans-serif\" font-size=\"20.00\" fill=\"#8431a6\">dataset</text>\n",
    "</g>\n",
    "<!-- clean&#45;&gt;build -->\n",
    "<g id=\"edge3\" class=\"edge\">\n",
    "<title>clean-&gt;build</title>\n",
    "<path fill=\"none\" stroke=\"#8431a6\" stroke-width=\"4\" d=\"M426.2,-226C435.62,-226 445.21,-226 454.37,-226\"></path>\n",
    "<polygon fill=\"#8431a6\" stroke=\"#8431a6\" stroke-width=\"4\" points=\"454.51,-229.5 464.51,-226 454.51,-222.5 454.51,-229.5\"></polygon>\n",
    "<text text-anchor=\"middle\" x=\"445.18\" y=\"-233.2\" font-family=\"Helvetica,Arial,sans-serif\" font-size=\"14.00\"> &nbsp;&nbsp;&nbsp;&nbsp;&nbsp;</text>\n",
    "</g>\n",
    "<!-- eda -->\n",
    "<g id=\"node6\" class=\"node\">\n",
    "<title>eda</title>\n",
    "<text text-anchor=\"start\" x=\"452.44\" y=\"-119\" font-family=\"Helvetica,Arial,sans-serif\" font-size=\"20.00\" fill=\"#8431a6\">Exploratory &nbsp;&nbsp;&nbsp;</text>\n",
    "<text text-anchor=\"middle\" x=\"510.21\" y=\"-95\" font-family=\"Helvetica,Arial,sans-serif\" font-size=\"20.00\" fill=\"#8431a6\">data analysis</text>\n",
    "</g>\n",
    "<!-- build&#45;&gt;eda -->\n",
    "<g id=\"edge4\" class=\"edge\">\n",
    "<title>build-&gt;eda</title>\n",
    "<path fill=\"none\" stroke=\"#8431a6\" stroke-width=\"4\" d=\"M510.21,-187.73C510.21,-179.31 510.21,-170.26 510.21,-161.48\"></path>\n",
    "<polygon fill=\"#8431a6\" stroke=\"#8431a6\" stroke-width=\"4\" points=\"513.71,-161.36 510.21,-151.36 506.71,-161.36 513.71,-161.36\"></polygon>\n",
    "</g>\n",
    "<!-- ml -->\n",
    "<g id=\"node7\" class=\"node\">\n",
    "<title>ml</title>\n",
    "<text text-anchor=\"start\" x=\"634.22\" y=\"-119\" font-family=\"Helvetica,Arial,sans-serif\" font-size=\"20.00\" fill=\"#8431a6\">Machine</text>\n",
    "<text text-anchor=\"middle\" x=\"669.21\" y=\"-95\" font-family=\"Helvetica,Arial,sans-serif\" font-size=\"20.00\" fill=\"#8431a6\">learning</text>\n",
    "</g>\n",
    "<!-- eda&#45;&gt;ml -->\n",
    "<g id=\"edge5\" class=\"edge\">\n",
    "<title>eda-&gt;ml</title>\n",
    "<path fill=\"none\" stroke=\"#8431a6\" stroke-width=\"4\" d=\"M581.8,-113C591.14,-113 600.63,-113 609.75,-113\"></path>\n",
    "<polygon fill=\"#8431a6\" stroke=\"#8431a6\" stroke-width=\"4\" points=\"609.85,-116.5 619.85,-113 609.85,-109.5 609.85,-116.5\"></polygon>\n",
    "<text text-anchor=\"middle\" x=\"601.1\" y=\"-120.2\" font-family=\"Helvetica,Arial,sans-serif\" font-size=\"14.00\"> &nbsp;&nbsp;&nbsp;&nbsp;&nbsp;</text>\n",
    "</g>\n",
    "<!-- insight -->\n",
    "<g id=\"node8\" class=\"node\">\n",
    "<title>insight</title>\n",
    "<text text-anchor=\"start\" x=\"770.49\" y=\"-119\" font-family=\"Helvetica,Arial,sans-serif\" font-size=\"20.00\" fill=\"#8431a6\">Obtain &nbsp;&nbsp;</text>\n",
    "<text text-anchor=\"middle\" x=\"805.21\" y=\"-95\" font-family=\"Helvetica,Arial,sans-serif\" font-size=\"20.00\" fill=\"#8431a6\">insights</text>\n",
    "</g>\n",
    "<!-- ml&#45;&gt;insight -->\n",
    "<g id=\"edge6\" class=\"edge\">\n",
    "<title>ml-&gt;insight</title>\n",
    "<path fill=\"none\" stroke=\"#8431a6\" stroke-width=\"4\" d=\"M718.31,-113C727.26,-113 736.69,-113 745.91,-113\"></path>\n",
    "<polygon fill=\"#8431a6\" stroke=\"#8431a6\" stroke-width=\"4\" points=\"746.18,-116.5 756.18,-113 746.18,-109.5 746.18,-116.5\"></polygon>\n",
    "<text text-anchor=\"middle\" x=\"737.34\" y=\"-120.2\" font-family=\"Helvetica,Arial,sans-serif\" font-size=\"14.00\"> &nbsp;&nbsp;&nbsp;&nbsp;&nbsp;</text>\n",
    "</g>\n",
    "<!-- communicate -->\n",
    "<g id=\"node9\" class=\"node\">\n",
    "<title>communicate</title>\n",
    "<text text-anchor=\"start\" x=\"906.11\" y=\"-119\" font-family=\"Helvetica,Arial,sans-serif\" font-size=\"20.00\" fill=\"#8431a6\">Communicate</text>\n",
    "<text text-anchor=\"middle\" x=\"962.21\" y=\"-95\" font-family=\"Helvetica,Arial,sans-serif\" font-size=\"20.00\" fill=\"#8431a6\">results &nbsp;&nbsp;&nbsp;&nbsp;&nbsp;&nbsp;&nbsp;&nbsp;</text>\n",
    "</g>\n",
    "<!-- insight&#45;&gt;communicate -->\n",
    "<g id=\"edge7\" class=\"edge\">\n",
    "<title>insight-&gt;communicate</title>\n",
    "<path fill=\"none\" stroke=\"#8431a6\" stroke-width=\"4\" d=\"M854.02,-113C862.88,-113 872.33,-113 881.82,-113\"></path>\n",
    "<polygon fill=\"#8431a6\" stroke=\"#8431a6\" stroke-width=\"4\" points=\"882.1,-116.5 892.1,-113 882.1,-109.5 882.1,-116.5\"></polygon>\n",
    "<text text-anchor=\"middle\" x=\"873.02\" y=\"-120.2\" font-family=\"Helvetica,Arial,sans-serif\" font-size=\"14.00\"> &nbsp;&nbsp;&nbsp;&nbsp;&nbsp;</text>\n",
    "</g>\n",
    "<!-- end -->\n",
    "<g id=\"node10\" class=\"node\">\n",
    "<title>end</title>\n",
    "<polygon fill=\"#f2eaf6\" stroke=\"#f2eaf6\" points=\"989.21,-38 935.21,-38 935.21,0 989.21,0 989.21,-38\"></polygon>\n",
    "<text text-anchor=\"middle\" x=\"962.21\" y=\"-13\" font-family=\"Helvetica,Arial,sans-serif\" font-size=\"20.00\" fill=\"#8431a6\">End</text>\n",
    "</g>\n",
    "<!-- communicate&#45;&gt;end -->\n",
    "<g id=\"edge9\" class=\"edge\">\n",
    "<title>communicate-&gt;end</title>\n",
    "<path fill=\"none\" stroke=\"#8431a6\" stroke-width=\"4\" d=\"M962.21,-74.85C962.21,-65.94 962.21,-56.57 962.21,-48.15\"></path>\n",
    "<polygon fill=\"#8431a6\" stroke=\"#8431a6\" stroke-width=\"4\" points=\"965.71,-48.09 962.21,-38.09 958.71,-48.09 965.71,-48.09\"></polygon>\n",
    "</g>\n",
    "</g>\n",
    "</svg>"
   ]
  },
  {
   "cell_type": "markdown",
   "metadata": {
    "vscode": {
     "languageId": "plaintext"
    }
   },
   "source": [
    "# 1. We get some data\n",
    "\n",
    "(The code in this section won't run because I didn't provide the real URL)"
   ]
  },
  {
   "cell_type": "code",
   "execution_count": null,
   "metadata": {},
   "outputs": [],
   "source": [
    "driver = Firefox()\n",
    "\n",
    "driver.get('https://SOME SECRET URL I CANNO SHARE')"
   ]
  },
  {
   "cell_type": "markdown",
   "metadata": {},
   "source": [
    "![](./figures/students_list_website.png){style=\"width:70%;margin-left:2em;\"}"
   ]
  },
  {
   "cell_type": "code",
   "execution_count": null,
   "metadata": {},
   "outputs": [],
   "source": [
    "student_cards = driver.find_elements(By.XPATH, \"//lightning-card\")\n",
    "print(f\"Found {len(student_cards)} student cards\")"
   ]
  },
  {
   "cell_type": "markdown",
   "metadata": {},
   "source": [
    "Each such student card contains:\n",
    "\n",
    "- Student Name\n",
    "- Student ID\n",
    "- Degree Programme\n",
    "- Year of Study\n",
    "\n",
    "I will extract just the degree programme and year of study from each card:"
   ]
  },
  {
   "cell_type": "code",
   "execution_count": null,
   "metadata": {},
   "outputs": [],
   "source": [
    "def get_student_info(card):\n",
    "    degree_year = card.text.split('\\n')[1]\n",
    "    return degree_year\n",
    "\n",
    "gathered_data = [get_student_info(card) for card in student_cards]"
   ]
  },
  {
   "cell_type": "code",
   "execution_count": null,
   "metadata": {},
   "outputs": [],
   "source": [
    "print(\"This is how the data I gathered looks like\")\n",
    "\n",
    "gathered_data"
   ]
  },
  {
   "cell_type": "code",
   "execution_count": null,
   "metadata": {},
   "outputs": [],
   "source": [
    "# I don't need to gather anything else, so I can close the browser\n",
    "driver.quit()"
   ]
  },
  {
   "cell_type": "markdown",
   "metadata": {},
   "source": [
    "# 2. We store it\n",
    "\n",
    "Let me save this to a **plain text file** called `info_students.txt`."
   ]
  },
  {
   "cell_type": "code",
   "execution_count": null,
   "metadata": {},
   "outputs": [],
   "source": [
    "# If a data/ folder does not exist, create it\n",
    "os.makedirs('./data', exist_ok=True)\n",
    "\n",
    "with open('./data/info_students.txt', 'w') as f:\n",
    "    f.write('\\n'.join(gathered_data))"
   ]
  },
  {
   "cell_type": "markdown",
   "metadata": {},
   "source": [
    "Look at how it looks like from the command line:\n",
    "\n",
    "If on Mac:\n",
    "```bash\n",
    "cat info_students.txt\n",
    "```\n",
    "\n",
    "If on Windows:\n",
    "```powershell\n",
    "Get-Content info_students.txt\n",
    "```\n"
   ]
  },
  {
   "cell_type": "code",
   "execution_count": 2,
   "metadata": {},
   "outputs": [],
   "source": [
    "# To read the file back in Python:\n",
    "\n",
    "with open('./data/info_students.txt', 'r') as f:\n",
    "    gathered_data = f.read().split('\\n')"
   ]
  },
  {
   "cell_type": "markdown",
   "metadata": {
    "vscode": {
     "languageId": "plaintext"
    }
   },
   "source": [
    "# 3. We clean & pre-process the data\n",
    "\n",
    "The format of the data is not ideal. With data like this, we should always prefer to use it in a **tabular format** (like a spreadsheet)."
   ]
  },
  {
   "cell_type": "markdown",
   "metadata": {},
   "source": [
    "**Step 1:** I don't need the `Year ` text, it's redundant:"
   ]
  },
  {
   "cell_type": "code",
   "execution_count": 3,
   "metadata": {},
   "outputs": [
    {
     "data": {
      "text/plain": [
       "['BSc in Politics and Data Science - 1',\n",
       " 'BSc in Economics - 1',\n",
       " 'BA in History - 2',\n",
       " 'General Course - 1',\n",
       " 'BSc in Economics - 1',\n",
       " 'BSc in Economics - 1',\n",
       " 'BSc in Politics and Data Science - 1',\n",
       " 'General Course - 1',\n",
       " 'BSc in Politics and Economics - 3',\n",
       " 'BSc in Economics - 1',\n",
       " 'General Course - 1',\n",
       " 'BSc in Philosophy and Economics - 3',\n",
       " 'BSc in Politics and Economics - 3',\n",
       " 'BSc in Economics - 1',\n",
       " 'BSc in Economics - 1',\n",
       " 'BSc in Economics - 1',\n",
       " 'BSc in History and Politics - 3',\n",
       " 'BSc in Economics - 1',\n",
       " 'General Course - 1',\n",
       " 'BSc in Economics - 1',\n",
       " 'BSc in Politics and Data Science - 1',\n",
       " 'BSc in Economics - 1',\n",
       " 'General Course - 1',\n",
       " 'BSc in Economics - 1',\n",
       " 'General Course - 1',\n",
       " 'General Course - 1',\n",
       " 'BSc in Economics - 1',\n",
       " 'BSc in Politics and Economics - 3',\n",
       " 'BSc in Economic History - 1',\n",
       " 'BSc in Sociology - 3',\n",
       " 'General Course - 1',\n",
       " 'General Course - 1',\n",
       " 'Exchange Programme for Students from IE University Madrid - 1',\n",
       " 'BSc in Economics - 1',\n",
       " 'BSc in Finance - 3',\n",
       " 'General Course - 1',\n",
       " 'BSc in Philosophy and Economics - 3',\n",
       " 'BSc in Economics - 1',\n",
       " 'BSc in Philosophy, Logic and Scientific Method - 3',\n",
       " 'General Course - 1',\n",
       " 'General Course - 1',\n",
       " 'Exchange Programme for Students from Stockholm School of Economics - 1',\n",
       " 'BA in History - 1',\n",
       " 'BSc in Economics - 1',\n",
       " 'BSc in Politics and Philosophy - 3',\n",
       " 'BSc in Economics - 1',\n",
       " 'BSc in Economics - 1',\n",
       " 'BSc in Economics and Economic History - 3',\n",
       " 'General Course - 1',\n",
       " 'BSc in Economics - 1',\n",
       " 'BSc in Politics and Data Science - 1',\n",
       " 'BSc in Economics - 1',\n",
       " 'BSc in Economics - 1',\n",
       " 'BSc in Economics - 1',\n",
       " 'General Course - 1',\n",
       " 'General Course - 1',\n",
       " 'General Course - 1',\n",
       " 'BSc in Economics - 1',\n",
       " 'BSc in Economics - 1',\n",
       " 'BSc in Politics and Data Science - 1',\n",
       " 'General Course - 1',\n",
       " 'BSc in Economics - 1',\n",
       " 'BSc in Economics - 1',\n",
       " 'BSc in Economics - 1',\n",
       " 'BSc in International Social and Public Policy and Economics - 3',\n",
       " 'General Course - 1',\n",
       " 'BSc in Politics and Economics - 3',\n",
       " 'BSc in Finance - 3',\n",
       " 'General Course - 1',\n",
       " 'BSc in Economics - 1',\n",
       " 'BSc in Economics - 1',\n",
       " 'General Course - 1',\n",
       " 'BSc in Politics - 3',\n",
       " 'BSc in Economics - 1',\n",
       " 'General Course - 1',\n",
       " 'General Course - 1',\n",
       " 'BSc in Philosophy, Politics and Economics - 4',\n",
       " 'BSc in Politics and Economics - 3',\n",
       " 'BSc in Economics - 1',\n",
       " 'BSc in Economics - 1',\n",
       " 'BSc in Economics - 1',\n",
       " 'General Course - 1',\n",
       " 'BSc in Economics - 1',\n",
       " 'BSc in Economics - 1',\n",
       " 'BSc in Politics and International Relations - 3',\n",
       " 'BSc in Economics - 1',\n",
       " 'BSc in Economics - 1',\n",
       " 'BSc in Economics - 1',\n",
       " 'General Course - 1',\n",
       " 'BSc in Economics - 1',\n",
       " 'BSc in Economics - 1',\n",
       " 'Exchange Programme for Students from SGH Warsaw School of Economics - 1',\n",
       " 'BSc in Economics - 1',\n",
       " 'BSc in Economics - 1',\n",
       " 'BSc in Politics and Data Science - 1',\n",
       " 'BSc in Economics - 1',\n",
       " 'BSc in Economics - 1',\n",
       " 'BSc in Psychological and Behavioural Science - 3',\n",
       " 'BSc in Politics and International Relations - 3',\n",
       " 'BSc in Economics - 1',\n",
       " 'BSc in Psychological and Behavioural Science - 3',\n",
       " 'General Course - 1']"
      ]
     },
     "execution_count": 3,
     "metadata": {},
     "output_type": "execute_result"
    }
   ],
   "source": [
    "clean_data = [data.replace('Year ', '') for data in gathered_data]\n",
    "\n",
    "# Now the data looks like this\n",
    "clean_data"
   ]
  },
  {
   "cell_type": "markdown",
   "metadata": {},
   "source": [
    "**Step 2:** Everything that comes before the hyphen (`-`) is the degree programme, and everything that comes after is the year of study."
   ]
  },
  {
   "cell_type": "code",
   "execution_count": 4,
   "metadata": {},
   "outputs": [
    {
     "data": {
      "text/plain": [
       "[['BSc in Politics and Data Science', '1'],\n",
       " ['BSc in Economics', '1'],\n",
       " ['BA in History', '2'],\n",
       " ['General Course', '1'],\n",
       " ['BSc in Economics', '1'],\n",
       " ['BSc in Economics', '1'],\n",
       " ['BSc in Politics and Data Science', '1'],\n",
       " ['General Course', '1'],\n",
       " ['BSc in Politics and Economics', '3'],\n",
       " ['BSc in Economics', '1'],\n",
       " ['General Course', '1'],\n",
       " ['BSc in Philosophy and Economics', '3'],\n",
       " ['BSc in Politics and Economics', '3'],\n",
       " ['BSc in Economics', '1'],\n",
       " ['BSc in Economics', '1'],\n",
       " ['BSc in Economics', '1'],\n",
       " ['BSc in History and Politics', '3'],\n",
       " ['BSc in Economics', '1'],\n",
       " ['General Course', '1'],\n",
       " ['BSc in Economics', '1'],\n",
       " ['BSc in Politics and Data Science', '1'],\n",
       " ['BSc in Economics', '1'],\n",
       " ['General Course', '1'],\n",
       " ['BSc in Economics', '1'],\n",
       " ['General Course', '1'],\n",
       " ['General Course', '1'],\n",
       " ['BSc in Economics', '1'],\n",
       " ['BSc in Politics and Economics', '3'],\n",
       " ['BSc in Economic History', '1'],\n",
       " ['BSc in Sociology', '3'],\n",
       " ['General Course', '1'],\n",
       " ['General Course', '1'],\n",
       " ['Exchange Programme for Students from IE University Madrid', '1'],\n",
       " ['BSc in Economics', '1'],\n",
       " ['BSc in Finance', '3'],\n",
       " ['General Course', '1'],\n",
       " ['BSc in Philosophy and Economics', '3'],\n",
       " ['BSc in Economics', '1'],\n",
       " ['BSc in Philosophy, Logic and Scientific Method', '3'],\n",
       " ['General Course', '1'],\n",
       " ['General Course', '1'],\n",
       " ['Exchange Programme for Students from Stockholm School of Economics', '1'],\n",
       " ['BA in History', '1'],\n",
       " ['BSc in Economics', '1'],\n",
       " ['BSc in Politics and Philosophy', '3'],\n",
       " ['BSc in Economics', '1'],\n",
       " ['BSc in Economics', '1'],\n",
       " ['BSc in Economics and Economic History', '3'],\n",
       " ['General Course', '1'],\n",
       " ['BSc in Economics', '1'],\n",
       " ['BSc in Politics and Data Science', '1'],\n",
       " ['BSc in Economics', '1'],\n",
       " ['BSc in Economics', '1'],\n",
       " ['BSc in Economics', '1'],\n",
       " ['General Course', '1'],\n",
       " ['General Course', '1'],\n",
       " ['General Course', '1'],\n",
       " ['BSc in Economics', '1'],\n",
       " ['BSc in Economics', '1'],\n",
       " ['BSc in Politics and Data Science', '1'],\n",
       " ['General Course', '1'],\n",
       " ['BSc in Economics', '1'],\n",
       " ['BSc in Economics', '1'],\n",
       " ['BSc in Economics', '1'],\n",
       " ['BSc in International Social and Public Policy and Economics', '3'],\n",
       " ['General Course', '1'],\n",
       " ['BSc in Politics and Economics', '3'],\n",
       " ['BSc in Finance', '3'],\n",
       " ['General Course', '1'],\n",
       " ['BSc in Economics', '1'],\n",
       " ['BSc in Economics', '1'],\n",
       " ['General Course', '1'],\n",
       " ['BSc in Politics', '3'],\n",
       " ['BSc in Economics', '1'],\n",
       " ['General Course', '1'],\n",
       " ['General Course', '1'],\n",
       " ['BSc in Philosophy, Politics and Economics', '4'],\n",
       " ['BSc in Politics and Economics', '3'],\n",
       " ['BSc in Economics', '1'],\n",
       " ['BSc in Economics', '1'],\n",
       " ['BSc in Economics', '1'],\n",
       " ['General Course', '1'],\n",
       " ['BSc in Economics', '1'],\n",
       " ['BSc in Economics', '1'],\n",
       " ['BSc in Politics and International Relations', '3'],\n",
       " ['BSc in Economics', '1'],\n",
       " ['BSc in Economics', '1'],\n",
       " ['BSc in Economics', '1'],\n",
       " ['General Course', '1'],\n",
       " ['BSc in Economics', '1'],\n",
       " ['BSc in Economics', '1'],\n",
       " ['Exchange Programme for Students from SGH Warsaw School of Economics', '1'],\n",
       " ['BSc in Economics', '1'],\n",
       " ['BSc in Economics', '1'],\n",
       " ['BSc in Politics and Data Science', '1'],\n",
       " ['BSc in Economics', '1'],\n",
       " ['BSc in Economics', '1'],\n",
       " ['BSc in Psychological and Behavioural Science', '3'],\n",
       " ['BSc in Politics and International Relations', '3'],\n",
       " ['BSc in Economics', '1'],\n",
       " ['BSc in Psychological and Behavioural Science', '3'],\n",
       " ['General Course', '1']]"
      ]
     },
     "execution_count": 4,
     "metadata": {},
     "output_type": "execute_result"
    }
   ],
   "source": [
    "# Overriding the data with the cleaned data\n",
    "clean_data = [data.split(' - ') for data in clean_data]\n",
    "\n",
    "# Now the data looks like this\n",
    "clean_data"
   ]
  },
  {
   "cell_type": "markdown",
   "metadata": {},
   "source": [
    "# 4. We build a dataset!\n",
    "\n",
    "Because I've split the data into two columns, it is easy to convert it to a **DataFrame** (a table, like a spreadsheet)."
   ]
  },
  {
   "cell_type": "code",
   "execution_count": 5,
   "metadata": {},
   "outputs": [
    {
     "name": "stdout",
     "output_type": "stream",
     "text": [
      "This is how the data looks like in a more structured way (a table)\n"
     ]
    },
    {
     "data": {
      "text/html": [
       "<div>\n",
       "<style scoped>\n",
       "    .dataframe tbody tr th:only-of-type {\n",
       "        vertical-align: middle;\n",
       "    }\n",
       "\n",
       "    .dataframe tbody tr th {\n",
       "        vertical-align: top;\n",
       "    }\n",
       "\n",
       "    .dataframe thead th {\n",
       "        text-align: right;\n",
       "    }\n",
       "</style>\n",
       "<table border=\"1\" class=\"dataframe\">\n",
       "  <thead>\n",
       "    <tr style=\"text-align: right;\">\n",
       "      <th></th>\n",
       "      <th>Degree</th>\n",
       "      <th>Year</th>\n",
       "    </tr>\n",
       "  </thead>\n",
       "  <tbody>\n",
       "    <tr>\n",
       "      <th>0</th>\n",
       "      <td>BSc in Politics and Data Science</td>\n",
       "      <td>1</td>\n",
       "    </tr>\n",
       "    <tr>\n",
       "      <th>1</th>\n",
       "      <td>BSc in Economics</td>\n",
       "      <td>1</td>\n",
       "    </tr>\n",
       "    <tr>\n",
       "      <th>2</th>\n",
       "      <td>BA in History</td>\n",
       "      <td>2</td>\n",
       "    </tr>\n",
       "    <tr>\n",
       "      <th>3</th>\n",
       "      <td>General Course</td>\n",
       "      <td>1</td>\n",
       "    </tr>\n",
       "    <tr>\n",
       "      <th>4</th>\n",
       "      <td>BSc in Economics</td>\n",
       "      <td>1</td>\n",
       "    </tr>\n",
       "    <tr>\n",
       "      <th>...</th>\n",
       "      <td>...</td>\n",
       "      <td>...</td>\n",
       "    </tr>\n",
       "    <tr>\n",
       "      <th>97</th>\n",
       "      <td>BSc in Psychological and Behavioural Science</td>\n",
       "      <td>3</td>\n",
       "    </tr>\n",
       "    <tr>\n",
       "      <th>98</th>\n",
       "      <td>BSc in Politics and International Relations</td>\n",
       "      <td>3</td>\n",
       "    </tr>\n",
       "    <tr>\n",
       "      <th>99</th>\n",
       "      <td>BSc in Economics</td>\n",
       "      <td>1</td>\n",
       "    </tr>\n",
       "    <tr>\n",
       "      <th>100</th>\n",
       "      <td>BSc in Psychological and Behavioural Science</td>\n",
       "      <td>3</td>\n",
       "    </tr>\n",
       "    <tr>\n",
       "      <th>101</th>\n",
       "      <td>General Course</td>\n",
       "      <td>1</td>\n",
       "    </tr>\n",
       "  </tbody>\n",
       "</table>\n",
       "<p>102 rows × 2 columns</p>\n",
       "</div>"
      ],
      "text/plain": [
       "                                           Degree Year\n",
       "0                BSc in Politics and Data Science    1\n",
       "1                                BSc in Economics    1\n",
       "2                                   BA in History    2\n",
       "3                                  General Course    1\n",
       "4                                BSc in Economics    1\n",
       "..                                            ...  ...\n",
       "97   BSc in Psychological and Behavioural Science    3\n",
       "98    BSc in Politics and International Relations    3\n",
       "99                               BSc in Economics    1\n",
       "100  BSc in Psychological and Behavioural Science    3\n",
       "101                                General Course    1\n",
       "\n",
       "[102 rows x 2 columns]"
      ]
     },
     "execution_count": 5,
     "metadata": {},
     "output_type": "execute_result"
    }
   ],
   "source": [
    "df = pd.DataFrame(clean_data, columns=['Degree', 'Year'])\n",
    "\n",
    "print(\"This is how the data looks like in a more structured way (a table)\")\n",
    "df"
   ]
  },
  {
   "cell_type": "markdown",
   "metadata": {},
   "source": [
    "I will do one further pre-processing step and convert the column 'Year of Study' to a numeric format (it is currently represented as text)."
   ]
  },
  {
   "cell_type": "code",
   "execution_count": 6,
   "metadata": {},
   "outputs": [],
   "source": [
    "df['Year'] = df['Year'].astype(int)"
   ]
  },
  {
   "cell_type": "markdown",
   "metadata": {},
   "source": [
    "# 5. We store  it again"
   ]
  },
  {
   "cell_type": "code",
   "execution_count": 7,
   "metadata": {},
   "outputs": [],
   "source": [
    "df.to_csv('./data/info_students.csv', index=False)"
   ]
  },
  {
   "cell_type": "markdown",
   "metadata": {},
   "source": [
    "Let's see how it differs from the previous file."
   ]
  },
  {
   "cell_type": "markdown",
   "metadata": {
    "vscode": {
     "languageId": "plaintext"
    }
   },
   "source": [
    "# 6. We explore the data (Exploratory Data Analysis)\n",
    "\n",
    "I like to take a **curiosity-driven approach** to data analysis. I pose questions to my data and see what emerges."
   ]
  },
  {
   "cell_type": "markdown",
   "metadata": {},
   "source": [
    "## Q: How many different degree programmes are there? "
   ]
  },
  {
   "cell_type": "code",
   "execution_count": 8,
   "metadata": {},
   "outputs": [
    {
     "name": "stdout",
     "output_type": "stream",
     "text": [
      "There are 21 unique degree programmes in the data\n"
     ]
    }
   ],
   "source": [
    "print(f\"There are {df['Degree'].nunique()} unique degree programmes in the data\")"
   ]
  },
  {
   "cell_type": "markdown",
   "metadata": {},
   "source": [
    "## Q: What are the unique degree programmes? "
   ]
  },
  {
   "cell_type": "code",
   "execution_count": 9,
   "metadata": {},
   "outputs": [
    {
     "data": {
      "text/plain": [
       "array(['BSc in Politics and Data Science', 'BSc in Economics',\n",
       "       'BA in History', 'General Course', 'BSc in Politics and Economics',\n",
       "       'BSc in Philosophy and Economics', 'BSc in History and Politics',\n",
       "       'BSc in Economic History', 'BSc in Sociology',\n",
       "       'Exchange Programme for Students from IE University Madrid',\n",
       "       'BSc in Finance', 'BSc in Philosophy, Logic and Scientific Method',\n",
       "       'Exchange Programme for Students from Stockholm School of Economics',\n",
       "       'BSc in Politics and Philosophy',\n",
       "       'BSc in Economics and Economic History',\n",
       "       'BSc in International Social and Public Policy and Economics',\n",
       "       'BSc in Politics', 'BSc in Philosophy, Politics and Economics',\n",
       "       'BSc in Politics and International Relations',\n",
       "       'Exchange Programme for Students from SGH Warsaw School of Economics',\n",
       "       'BSc in Psychological and Behavioural Science'], dtype=object)"
      ]
     },
     "execution_count": 9,
     "metadata": {},
     "output_type": "execute_result"
    }
   ],
   "source": [
    "df['Degree'].unique()"
   ]
  },
  {
   "cell_type": "markdown",
   "metadata": {},
   "source": [
    "## Q: How many students are in each degree programme?"
   ]
  },
  {
   "cell_type": "code",
   "execution_count": 10,
   "metadata": {},
   "outputs": [
    {
     "data": {
      "text/plain": [
       "Degree\n",
       "BSc in Economics                                                       44\n",
       "General Course                                                         25\n",
       "BSc in Politics and Data Science                                        6\n",
       "BSc in Politics and Economics                                           5\n",
       "BSc in Politics and International Relations                             2\n",
       "BSc in Finance                                                          2\n",
       "BSc in Philosophy and Economics                                         2\n",
       "BA in History                                                           2\n",
       "BSc in Psychological and Behavioural Science                            2\n",
       "BSc in History and Politics                                             1\n",
       "BSc in Economic History                                                 1\n",
       "BSc in Sociology                                                        1\n",
       "Exchange Programme for Students from IE University Madrid               1\n",
       "BSc in Philosophy, Logic and Scientific Method                          1\n",
       "Exchange Programme for Students from Stockholm School of Economics      1\n",
       "BSc in Politics and Philosophy                                          1\n",
       "BSc in Economics and Economic History                                   1\n",
       "BSc in International Social and Public Policy and Economics             1\n",
       "BSc in Politics                                                         1\n",
       "BSc in Philosophy, Politics and Economics                               1\n",
       "Exchange Programme for Students from SGH Warsaw School of Economics     1\n",
       "Name: count, dtype: int64"
      ]
     },
     "execution_count": 10,
     "metadata": {},
     "output_type": "execute_result"
    }
   ],
   "source": [
    "df['Degree'].value_counts()"
   ]
  },
  {
   "cell_type": "markdown",
   "metadata": {},
   "source": [
    "## Q: How many students are in each year of study? "
   ]
  },
  {
   "cell_type": "code",
   "execution_count": 11,
   "metadata": {},
   "outputs": [
    {
     "data": {
      "text/plain": [
       "Year\n",
       "1    80\n",
       "3    20\n",
       "2     1\n",
       "4     1\n",
       "Name: count, dtype: int64"
      ]
     },
     "execution_count": 11,
     "metadata": {},
     "output_type": "execute_result"
    }
   ],
   "source": [
    "df['Year'].value_counts()"
   ]
  },
  {
   "cell_type": "markdown",
   "metadata": {},
   "source": [
    "## Q: How many students are in each degree programme AND year of study? "
   ]
  },
  {
   "cell_type": "code",
   "execution_count": 12,
   "metadata": {},
   "outputs": [
    {
     "data": {
      "text/plain": [
       "Year  Degree                                                             \n",
       "1     BA in History                                                           1\n",
       "      BSc in Economic History                                                 1\n",
       "      BSc in Economics                                                       44\n",
       "      BSc in Politics and Data Science                                        6\n",
       "      Exchange Programme for Students from IE University Madrid               1\n",
       "      Exchange Programme for Students from SGH Warsaw School of Economics     1\n",
       "      Exchange Programme for Students from Stockholm School of Economics      1\n",
       "      General Course                                                         25\n",
       "2     BA in History                                                           1\n",
       "3     BSc in Economics and Economic History                                   1\n",
       "      BSc in Finance                                                          2\n",
       "      BSc in History and Politics                                             1\n",
       "      BSc in International Social and Public Policy and Economics             1\n",
       "      BSc in Philosophy and Economics                                         2\n",
       "      BSc in Philosophy, Logic and Scientific Method                          1\n",
       "      BSc in Politics                                                         1\n",
       "      BSc in Politics and Economics                                           5\n",
       "      BSc in Politics and International Relations                             2\n",
       "      BSc in Politics and Philosophy                                          1\n",
       "      BSc in Psychological and Behavioural Science                            2\n",
       "      BSc in Sociology                                                        1\n",
       "4     BSc in Philosophy, Politics and Economics                               1\n",
       "dtype: int64"
      ]
     },
     "execution_count": 12,
     "metadata": {},
     "output_type": "execute_result"
    }
   ],
   "source": [
    "df.groupby(['Year', 'Degree']).size()"
   ]
  },
  {
   "cell_type": "markdown",
   "metadata": {},
   "source": [
    "## Q: What would that look like in a plot?"
   ]
  },
  {
   "cell_type": "code",
   "execution_count": 13,
   "metadata": {},
   "outputs": [
    {
     "data": {
      "text/plain": [
       "'c:\\\\Users\\\\Jon\\\\Workspace\\\\DS105\\\\2024\\\\autumn-term\\\\weeks\\\\week01\\\\figures\\\\first_plot.svg'"
      ]
     },
     "execution_count": 13,
     "metadata": {},
     "output_type": "execute_result"
    }
   ],
   "source": [
    "plot_df = df.groupby(['Year', 'Degree']).size().reset_index(name='Count')\n",
    "plot_df['Year'] = pd.Categorical(plot_df['Year'])\n",
    "\n",
    "g = (\n",
    "    ggplot(plot_df, aes(x='Year', y='Degree', label='Count', size='Count', fill='Count')) +\n",
    "    geom_label(aes(label='Count'), size=8, color='white', label_format='d') +\n",
    "    labs(title='Your first plot is typically super weird and messy!', x='Year', y='Degree') +\n",
    "    ggsize(900, 700) +\n",
    "    scale_y_discrete(expand=[0.05, 0.01]) +\n",
    "    theme(plot_title=element_text(size=25, face='bold', hjust=-1))\n",
    ")\n",
    "\n",
    "\n",
    "ggsave(g, filename='first_plot.svg', path='./figures/')"
   ]
  },
  {
   "cell_type": "markdown",
   "metadata": {
    "vscode": {
     "languageId": "html"
    }
   },
   "source": [
    "![](./figures/first_plot.svg)"
   ]
  },
  {
   "cell_type": "markdown",
   "metadata": {},
   "source": [
    "# 7. 🔁 You clean & pre-process -> EDA again and again"
   ]
  },
  {
   "cell_type": "code",
   "execution_count": 14,
   "metadata": {},
   "outputs": [
    {
     "data": {
      "text/plain": [
       "'c:\\\\Users\\\\Jon\\\\Workspace\\\\DS105\\\\2024\\\\autumn-term\\\\weeks\\\\week01\\\\figures\\\\second_plot.svg'"
      ]
     },
     "execution_count": 14,
     "metadata": {},
     "output_type": "execute_result"
    }
   ],
   "source": [
    "plot_df = (\n",
    "    df.groupby(['Year', 'Degree']).size()\n",
    "      .reset_index(name='Count')\n",
    "      .sort_values('Count', ascending=False)\n",
    ")\n",
    "plot_df['Year'] = pd.Categorical(plot_df['Year'])\n",
    "plot_df['Degree'] = pd.Categorical(plot_df['Degree'], categories=reversed(plot_df['Degree'].unique()), ordered=True)\n",
    "\n",
    "g = (\n",
    "    ggplot(plot_df, aes(x='Year', y='Degree', label='Count', size='Count', fill='Count')) +\n",
    "    geom_label(aes(label='Count'), size=8, color='white', label_format='d') +\n",
    "    labs(title='You add a bit of ordering and things get a bit better', x='Year', y='Degree') +\n",
    "    ggsize(900, 700) +\n",
    "    scale_y_discrete(expand=[0.05, 0.01]) +\n",
    "    theme(plot_title=element_text(size=25, face='bold', hjust=-1))\n",
    ")\n",
    "\n",
    "ggsave(g, filename='second_plot.svg', path='./figures/')"
   ]
  },
  {
   "cell_type": "markdown",
   "metadata": {},
   "source": [
    "![](./figures/second_plot.svg)"
   ]
  },
  {
   "cell_type": "code",
   "execution_count": 15,
   "metadata": {},
   "outputs": [],
   "source": [
    "tmp_df  = df.copy()\n",
    "\n",
    "# Whenever Degree='General Course' or Degree starts with 'Exchange' convert Degree to \"General Course/Exchange\"\n",
    "tmp_df['Degree'] = tmp_df['Degree'].apply(lambda x: 'General Course/Exchange' if x.startswith('Exchange') or x == 'General Course' else x)\n",
    "\n",
    "# Also modify the Year for those students, instead of 1, make it a 'N/A'\n",
    "tmp_df['Year'] = tmp_df.apply(lambda x: 'N/A' if x['Degree'] == 'General Course/Exchange' else x['Year'], axis=1)\n",
    "\n",
    "# Convert all Degrees starting with 'BSc in Politics' with 'BSc in Politics (+ something)'\n",
    "tmp_df['Degree'] = tmp_df['Degree'].apply(lambda x: 'BSc in Politics (or Politics and X)' if x.startswith('BSc in Politics') else x)\n",
    "\n",
    "# Convert all Degrees starting with 'BSc in Philosophy' with 'BSc in Philosophy (+ something)'\n",
    "tmp_df['Degree'] = tmp_df['Degree'].apply(lambda x: 'BSc in Philosophy (or Philosophy and X)' if x.startswith('BSc in Philosophy') else x)\n",
    "\n",
    "# Convert all Degrees starting with 'BSc in Economics' with 'BSc in Economics (+ something)'\n",
    "tmp_df['Degree'] = tmp_df['Degree'].apply(lambda x: 'BSc in Economics (or Economics and X)' if x.startswith('BSc in Economics') else x)\n",
    "\n",
    "# Simplify 'BSc in Psychological and Behavioural Science': 'BSc in PBS'\n",
    "tmp_df['Degree'] = tmp_df['Degree'].apply(lambda x: 'BSc in PBS' if x == 'BSc in Psychological and Behavioural Science' else x)\n",
    "\n",
    "# Simplify 'BSc in International Social and Public Policy and Economics': 'BSc in ISPPE'\n",
    "tmp_df['Degree'] = tmp_df['Degree'].apply(lambda x: 'BSc in ISPPE' if x == 'BSc in International Social and Public Policy and Economics' else x)\n"
   ]
  },
  {
   "cell_type": "code",
   "execution_count": 16,
   "metadata": {},
   "outputs": [
    {
     "data": {
      "text/plain": [
       "'c:\\\\Users\\\\Jon\\\\Workspace\\\\DS105\\\\2024\\\\autumn-term\\\\weeks\\\\week01\\\\figures\\\\final_plot.svg'"
      ]
     },
     "execution_count": 16,
     "metadata": {},
     "output_type": "execute_result"
    }
   ],
   "source": [
    "plot_df = (\n",
    "    tmp_df.groupby(['Year', 'Degree']).size()\n",
    "      .reset_index(name='Count')\n",
    "      .sort_values('Count', ascending=False)\n",
    ")\n",
    "plot_df['Year'] = pd.Categorical(plot_df['Year'], categories=['N/A', 1, 2, 3, 4], ordered=True)\n",
    "plot_df['Degree'] = pd.Categorical(plot_df['Degree'], categories=reversed(plot_df['Degree'].unique()), ordered=True)\n",
    "\n",
    "g = (\n",
    "    ggplot(plot_df, aes(x='Year', y='Degree', label='Count', fill='Count')) +\n",
    "    geom_tile(aes(label='Count'), width=0.9, height=0.9) +\n",
    "    geom_text(color='white', size=14, label_format='d') +\n",
    "    labs( x='Year', y='Degree') +\n",
    "    ggsize(700, 600) +\n",
    "    scale_y_discrete(expand=[0.05, 0.01]) +\n",
    "\n",
    "    # Colour blind scale \n",
    "    scale_fill_continuous(guide='none') +\n",
    "\n",
    "    theme(plot_title=element_text(size=25, face='bold', hjust=-1),\n",
    "          axis_title_x=element_text(size=25),\n",
    "          axis_title_y=element_text(size=22),\n",
    "          axis_text_x=element_text(size=16),\n",
    "          axis_text_y=element_text(size=16),\n",
    "          panel_grid_major_y=element_blank()\n",
    "    )\n",
    ")\n",
    "\n",
    "ggsave(g, filename='final_plot.svg', path='./figures/')\n"
   ]
  },
  {
   "cell_type": "markdown",
   "metadata": {},
   "source": [
    "![](./figures/final_plot.svg)"
   ]
  },
  {
   "cell_type": "markdown",
   "metadata": {},
   "source": [
    "![](./figures/final_plot.svg){styles=\"width:70%;margin-left:2em;\"}"
   ]
  }
 ],
 "metadata": {
  "kernelspec": {
   "display_name": "base",
   "language": "python",
   "name": "python3"
  },
  "language_info": {
   "codemirror_mode": {
    "name": "ipython",
    "version": 3
   },
   "file_extension": ".py",
   "mimetype": "text/x-python",
   "name": "python",
   "nbconvert_exporter": "python",
   "pygments_lexer": "ipython3",
   "version": "3.11.8"
  }
 },
 "nbformat": 4,
 "nbformat_minor": 2
}

{
 "cells": [
  {
   "cell_type": "markdown",
   "metadata": {},
   "source": [
    "# Preprocessing the waitrose data\n",
    "\n",
    "__Author:__ Casey Kearney\n",
    "\n",
    "__Last Updated:__ 2024/10/26"
   ]
  },
  {
   "cell_type": "markdown",
   "metadata": {},
   "source": [
    "# 1. Read in the Data"
   ]
  },
  {
   "cell_type": "code",
   "execution_count": 2,
   "metadata": {},
   "outputs": [],
   "source": [
    "import pandas as pd\n",
    "import numpy as np\n",
    "import os"
   ]
  },
  {
   "cell_type": "code",
   "execution_count": 5,
   "metadata": {},
   "outputs": [],
   "source": [
    "# Create folder path to our data\n",
    "data_folder = os.path.join('..', 'data', 'waitrose-2024-07')"
   ]
  },
  {
   "cell_type": "code",
   "execution_count": null,
   "metadata": {},
   "outputs": [],
   "source": [
    "# Goal is to read all the files in this folder\n",
    "for file in os.listdir(data_folder):\n",
    "    if file.endswith('.csv'):\n",
    "        print(os.path.join(data_folder, file)) "
   ]
  },
  {
   "cell_type": "code",
   "execution_count": 13,
   "metadata": {},
   "outputs": [],
   "source": [
    "# Create a list of all the files:\n",
    "all_files = [os.path.join(data_folder, file) for file in os.listdir(data_folder) if file.endswith('.csv')]"
   ]
  },
  {
   "cell_type": "code",
   "execution_count": 15,
   "metadata": {},
   "outputs": [
    {
     "name": "stdout",
     "output_type": "stream",
     "text": [
      "['..\\\\data\\\\waitrose-2024-07\\\\baby-child-and-parent.csv', '..\\\\data\\\\waitrose-2024-07\\\\bakery.csv', '..\\\\data\\\\waitrose-2024-07\\\\beer-wine-and-spirits.csv', '..\\\\data\\\\waitrose-2024-07\\\\best-of-british.csv', '..\\\\data\\\\waitrose-2024-07\\\\dietary-and-lifestyle.csv', '..\\\\data\\\\waitrose-2024-07\\\\everyday-value.csv', '..\\\\data\\\\waitrose-2024-07\\\\food-cupboard.csv', '..\\\\data\\\\waitrose-2024-07\\\\fresh-and-chilled.csv', '..\\\\data\\\\waitrose-2024-07\\\\frozen.csv', '..\\\\data\\\\waitrose-2024-07\\\\home.csv', '..\\\\data\\\\waitrose-2024-07\\\\household.csv', '..\\\\data\\\\waitrose-2024-07\\\\new.csv', '..\\\\data\\\\waitrose-2024-07\\\\organic-shop.csv', '..\\\\data\\\\waitrose-2024-07\\\\pet.csv', '..\\\\data\\\\waitrose-2024-07\\\\summer.csv', '..\\\\data\\\\waitrose-2024-07\\\\tea-coffee-and-soft-drinks.csv', '..\\\\data\\\\waitrose-2024-07\\\\toiletries-health-and-beauty.csv', '..\\\\data\\\\waitrose-2024-07\\\\waitrose-brands.csv']\n"
     ]
    },
    {
     "data": {
      "text/plain": [
       "18"
      ]
     },
     "execution_count": 15,
     "metadata": {},
     "output_type": "execute_result"
    }
   ],
   "source": [
    "# Have a list of all the file names\n",
    "print(all_files)\n",
    "len(all_files)"
   ]
  },
  {
   "cell_type": "code",
   "execution_count": 16,
   "metadata": {},
   "outputs": [],
   "source": [
    "# Want to loop over this list to save data\n",
    "# For now, create a list of data frames\n",
    "list_of_dfs = [pd.read_csv(file) for file in all_files]\n"
   ]
  },
  {
   "cell_type": "code",
   "execution_count": null,
   "metadata": {},
   "outputs": [],
   "source": [
    "# first element is a dataframe\n",
    "list_of_dfs[0]"
   ]
  },
  {
   "cell_type": "code",
   "execution_count": 23,
   "metadata": {},
   "outputs": [
    {
     "data": {
      "text/plain": [
       "25418"
      ]
     },
     "execution_count": 23,
     "metadata": {},
     "output_type": "execute_result"
    }
   ],
   "source": [
    "# Total rows\n",
    "rows = 0\n",
    "for df in list_of_dfs:\n",
    "    rows += df.shape[0]\n",
    "\n",
    "rows"
   ]
  },
  {
   "cell_type": "code",
   "execution_count": 24,
   "metadata": {},
   "outputs": [],
   "source": [
    "# We can then merge all of these files at once\n",
    "df = pd.concat(list_of_dfs)"
   ]
  },
  {
   "cell_type": "code",
   "execution_count": 25,
   "metadata": {},
   "outputs": [
    {
     "data": {
      "text/plain": [
       "(25418, 13)"
      ]
     },
     "execution_count": 25,
     "metadata": {},
     "output_type": "execute_result"
    }
   ],
   "source": [
    "# Dimensions align with what we want\n",
    "df.shape"
   ]
  }
 ],
 "metadata": {
  "kernelspec": {
   "display_name": "Python 3",
   "language": "python",
   "name": "python3"
  },
  "language_info": {
   "codemirror_mode": {
    "name": "ipython",
    "version": 3
   },
   "file_extension": ".py",
   "mimetype": "text/x-python",
   "name": "python",
   "nbconvert_exporter": "python",
   "pygments_lexer": "ipython3",
   "version": "3.12.5"
  }
 },
 "nbformat": 4,
 "nbformat_minor": 2
}

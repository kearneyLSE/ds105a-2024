{
 "cells": [
  {
   "cell_type": "markdown",
   "id": "77964641",
   "metadata": {},
   "source": [
    "# Cleaning Up the Price Data"
   ]
  },
  {
   "cell_type": "markdown",
   "id": "b6c8faa2",
   "metadata": {},
   "source": [
    "Goals:\n",
    "\n",
    "1.  Working with original `CSV` files\n",
    "2.  Convert the `item-price` column from a string to a float\n",
    "3.  Plot to confirm pre-processing worked"
   ]
  },
  {
   "cell_type": "code",
   "execution_count": 2,
   "id": "260fcadf",
   "metadata": {},
   "outputs": [],
   "source": [
    "import pandas as pd\n",
    "import os"
   ]
  },
  {
   "cell_type": "markdown",
   "id": "add2eb4d",
   "metadata": {},
   "source": [
    "## Read All CSV Files Into A Dataframe"
   ]
  },
  {
   "cell_type": "code",
   "execution_count": 3,
   "id": "3b0f42ab",
   "metadata": {},
   "outputs": [],
   "source": [
    "data_folder = os.path.join('..', 'data', 'waitrose-2024-07')"
   ]
  },
  {
   "cell_type": "code",
   "execution_count": null,
   "id": "7e4f8a24",
   "metadata": {},
   "outputs": [],
   "source": [
    "# Use list comprehension to collect all the files in the folder and create their folder path\n",
    "all_files = [\n",
    "    os.path.join(data_folder, file) for file in os.listdir(data_folder)\n",
    "    if file.endswith('.csv')\n",
    "\n",
    "]"
   ]
  },
  {
   "cell_type": "code",
   "execution_count": 9,
   "id": "ef5613ad",
   "metadata": {},
   "outputs": [
    {
     "name": "stdout",
     "output_type": "stream",
     "text": [
      "..\\data\\waitrose-2024-07\\baby-child-and-parent.csv\n",
      "..\\data\\waitrose-2024-07\\bakery.csv\n",
      "..\\data\\waitrose-2024-07\\beer-wine-and-spirits.csv\n",
      "..\\data\\waitrose-2024-07\\best-of-british.csv\n",
      "..\\data\\waitrose-2024-07\\dietary-and-lifestyle.csv\n",
      "..\\data\\waitrose-2024-07\\everyday-value.csv\n",
      "..\\data\\waitrose-2024-07\\food-cupboard.csv\n",
      "..\\data\\waitrose-2024-07\\fresh-and-chilled.csv\n",
      "..\\data\\waitrose-2024-07\\frozen.csv\n",
      "..\\data\\waitrose-2024-07\\home.csv\n",
      "..\\data\\waitrose-2024-07\\household.csv\n",
      "..\\data\\waitrose-2024-07\\new.csv\n",
      "..\\data\\waitrose-2024-07\\organic-shop.csv\n",
      "..\\data\\waitrose-2024-07\\pet.csv\n",
      "..\\data\\waitrose-2024-07\\summer.csv\n",
      "..\\data\\waitrose-2024-07\\tea-coffee-and-soft-drinks.csv\n",
      "..\\data\\waitrose-2024-07\\toiletries-health-and-beauty.csv\n",
      "..\\data\\waitrose-2024-07\\waitrose-brands.csv\n"
     ]
    }
   ],
   "source": [
    "for file in all_files:\n",
    "    print(file)"
   ]
  },
  {
   "cell_type": "code",
   "execution_count": 10,
   "id": "b391db98",
   "metadata": {},
   "outputs": [],
   "source": [
    "# Read every single file as a DataFrame\n",
    "# save data frames as a list\n",
    "list_of_dfs = [pd.read_csv(file) for file in all_files]"
   ]
  },
  {
   "cell_type": "code",
   "execution_count": 11,
   "id": "c373aaf6",
   "metadata": {},
   "outputs": [],
   "source": [
    "# Concatenate all the files into a single data frame\n",
    "df = pd.concat(list_of_dfs)"
   ]
  },
  {
   "cell_type": "code",
   "execution_count": 12,
   "id": "2e3dd6db",
   "metadata": {},
   "outputs": [
    {
     "data": {
      "application/vnd.microsoft.datawrangler.viewer.v0+json": {
       "columns": [
        {
         "name": "index",
         "rawType": "int64",
         "type": "integer"
        },
        {
         "name": "data-product-id",
         "rawType": "int64",
         "type": "integer"
        },
        {
         "name": "data-product-name",
         "rawType": "object",
         "type": "string"
        },
        {
         "name": "data-product-type",
         "rawType": "object",
         "type": "string"
        },
        {
         "name": "data-product-on-offer",
         "rawType": "bool",
         "type": "boolean"
        },
        {
         "name": "data-product-index",
         "rawType": "float64",
         "type": "float"
        },
        {
         "name": "image-url",
         "rawType": "object",
         "type": "string"
        },
        {
         "name": "product-page",
         "rawType": "object",
         "type": "string"
        },
        {
         "name": "product-name",
         "rawType": "object",
         "type": "string"
        },
        {
         "name": "product-size",
         "rawType": "object",
         "type": "string"
        },
        {
         "name": "item-price",
         "rawType": "object",
         "type": "string"
        },
        {
         "name": "price-per-unit",
         "rawType": "object",
         "type": "string"
        },
        {
         "name": "offer-description",
         "rawType": "object",
         "type": "unknown"
        },
        {
         "name": "category",
         "rawType": "object",
         "type": "string"
        }
       ],
       "ref": "31c792b6-5b46-414b-b71f-0d328f5e3c44",
       "rows": [
        [
         "0",
         "525635",
         "Organix Raspberry & Apple Soft Oaty Bars",
         "G",
         "False",
         "1.0",
         "https://ecom-su-static-prod.wtrecom.com/images/products/3/LN_525635_BP_3.jpg",
         "https://www.waitrose.com/ecom/products/organix-raspberry-apple-soft-oaty-bars/525635-812878-812879",
         "Organix Raspberry & Apple Soft Oaty Bars",
         "6x23g",
         "£3.15",
         "£2.29/100g",
         null,
         "Baby, Child & Parent"
        ],
        [
         "1",
         "557746",
         "Organix Carrot Cake Oaty Bars",
         "G",
         "False",
         "2.0",
         "https://ecom-su-static-prod.wtrecom.com/images/products/3/LN_557746_BP_3.jpg",
         "https://www.waitrose.com/ecom/products/organix-carrot-cake-oaty-bars/557746-812892-812893",
         "Organix Carrot Cake Oaty Bars",
         "6x23g",
         "£3.15",
         "£2.29/100g",
         null,
         "Baby, Child & Parent"
        ],
        [
         "2",
         "32062",
         "Aptamil 2 Follow On Milk",
         "G",
         "False",
         "394.0",
         "https://ecom-su-static-prod.wtrecom.com/images/products/3/LN_032062_BP_3.jpg",
         "https://www.waitrose.com/ecom/products/aptamil-2-follow-on-milk/032062-15633-15634",
         "Aptamil 2 Follow On Milk",
         "800g",
         "£13.50",
         "£16.88/kg",
         null,
         "Baby, Child & Parent"
        ],
        [
         "3",
         "767801",
         "Essential Baby Wipes",
         "G",
         "False",
         "4.0",
         "https://ecom-su-static-prod.wtrecom.com/images/products/3/LN_767801_BP_3.jpg",
         "https://www.waitrose.com/ecom/products/essential-baby-wipes/767801-156319-156320",
         "Essential Baby Wipes",
         "80s",
         "95p",
         "1.2p each",
         null,
         "Baby, Child & Parent"
        ],
        [
         "4",
         "514054",
         "Organix Apple Rice Cakes",
         "G",
         "False",
         "5.0",
         "https://ecom-su-static-prod.wtrecom.com/images/products/3/LN_514054_BP_3.jpg",
         "https://www.waitrose.com/ecom/products/organix-apple-rice-cakes/514054-791495-791496",
         "Organix Apple Rice Cakes",
         "40g",
         "£1.60",
         "£4/100g",
         null,
         "Baby, Child & Parent"
        ]
       ],
       "shape": {
        "columns": 13,
        "rows": 5
       }
      },
      "text/html": [
       "<div>\n",
       "<style scoped>\n",
       "    .dataframe tbody tr th:only-of-type {\n",
       "        vertical-align: middle;\n",
       "    }\n",
       "\n",
       "    .dataframe tbody tr th {\n",
       "        vertical-align: top;\n",
       "    }\n",
       "\n",
       "    .dataframe thead th {\n",
       "        text-align: right;\n",
       "    }\n",
       "</style>\n",
       "<table border=\"1\" class=\"dataframe\">\n",
       "  <thead>\n",
       "    <tr style=\"text-align: right;\">\n",
       "      <th></th>\n",
       "      <th>data-product-id</th>\n",
       "      <th>data-product-name</th>\n",
       "      <th>data-product-type</th>\n",
       "      <th>data-product-on-offer</th>\n",
       "      <th>data-product-index</th>\n",
       "      <th>image-url</th>\n",
       "      <th>product-page</th>\n",
       "      <th>product-name</th>\n",
       "      <th>product-size</th>\n",
       "      <th>item-price</th>\n",
       "      <th>price-per-unit</th>\n",
       "      <th>offer-description</th>\n",
       "      <th>category</th>\n",
       "    </tr>\n",
       "  </thead>\n",
       "  <tbody>\n",
       "    <tr>\n",
       "      <th>0</th>\n",
       "      <td>525635</td>\n",
       "      <td>Organix Raspberry &amp; Apple Soft Oaty Bars</td>\n",
       "      <td>G</td>\n",
       "      <td>False</td>\n",
       "      <td>1.0</td>\n",
       "      <td>https://ecom-su-static-prod.wtrecom.com/images...</td>\n",
       "      <td>https://www.waitrose.com/ecom/products/organix...</td>\n",
       "      <td>Organix Raspberry &amp; Apple Soft Oaty Bars</td>\n",
       "      <td>6x23g</td>\n",
       "      <td>£3.15</td>\n",
       "      <td>£2.29/100g</td>\n",
       "      <td>NaN</td>\n",
       "      <td>Baby, Child &amp; Parent</td>\n",
       "    </tr>\n",
       "    <tr>\n",
       "      <th>1</th>\n",
       "      <td>557746</td>\n",
       "      <td>Organix Carrot Cake Oaty Bars</td>\n",
       "      <td>G</td>\n",
       "      <td>False</td>\n",
       "      <td>2.0</td>\n",
       "      <td>https://ecom-su-static-prod.wtrecom.com/images...</td>\n",
       "      <td>https://www.waitrose.com/ecom/products/organix...</td>\n",
       "      <td>Organix Carrot Cake Oaty Bars</td>\n",
       "      <td>6x23g</td>\n",
       "      <td>£3.15</td>\n",
       "      <td>£2.29/100g</td>\n",
       "      <td>NaN</td>\n",
       "      <td>Baby, Child &amp; Parent</td>\n",
       "    </tr>\n",
       "    <tr>\n",
       "      <th>2</th>\n",
       "      <td>32062</td>\n",
       "      <td>Aptamil 2 Follow On Milk</td>\n",
       "      <td>G</td>\n",
       "      <td>False</td>\n",
       "      <td>394.0</td>\n",
       "      <td>https://ecom-su-static-prod.wtrecom.com/images...</td>\n",
       "      <td>https://www.waitrose.com/ecom/products/aptamil...</td>\n",
       "      <td>Aptamil 2 Follow On Milk</td>\n",
       "      <td>800g</td>\n",
       "      <td>£13.50</td>\n",
       "      <td>£16.88/kg</td>\n",
       "      <td>NaN</td>\n",
       "      <td>Baby, Child &amp; Parent</td>\n",
       "    </tr>\n",
       "    <tr>\n",
       "      <th>3</th>\n",
       "      <td>767801</td>\n",
       "      <td>Essential Baby Wipes</td>\n",
       "      <td>G</td>\n",
       "      <td>False</td>\n",
       "      <td>4.0</td>\n",
       "      <td>https://ecom-su-static-prod.wtrecom.com/images...</td>\n",
       "      <td>https://www.waitrose.com/ecom/products/essenti...</td>\n",
       "      <td>Essential Baby Wipes</td>\n",
       "      <td>80s</td>\n",
       "      <td>95p</td>\n",
       "      <td>1.2p each</td>\n",
       "      <td>NaN</td>\n",
       "      <td>Baby, Child &amp; Parent</td>\n",
       "    </tr>\n",
       "    <tr>\n",
       "      <th>4</th>\n",
       "      <td>514054</td>\n",
       "      <td>Organix Apple Rice Cakes</td>\n",
       "      <td>G</td>\n",
       "      <td>False</td>\n",
       "      <td>5.0</td>\n",
       "      <td>https://ecom-su-static-prod.wtrecom.com/images...</td>\n",
       "      <td>https://www.waitrose.com/ecom/products/organix...</td>\n",
       "      <td>Organix Apple Rice Cakes</td>\n",
       "      <td>40g</td>\n",
       "      <td>£1.60</td>\n",
       "      <td>£4/100g</td>\n",
       "      <td>NaN</td>\n",
       "      <td>Baby, Child &amp; Parent</td>\n",
       "    </tr>\n",
       "  </tbody>\n",
       "</table>\n",
       "</div>"
      ],
      "text/plain": [
       "   data-product-id                         data-product-name  \\\n",
       "0           525635  Organix Raspberry & Apple Soft Oaty Bars   \n",
       "1           557746             Organix Carrot Cake Oaty Bars   \n",
       "2            32062                  Aptamil 2 Follow On Milk   \n",
       "3           767801                      Essential Baby Wipes   \n",
       "4           514054                  Organix Apple Rice Cakes   \n",
       "\n",
       "  data-product-type  data-product-on-offer  data-product-index  \\\n",
       "0                 G                  False                 1.0   \n",
       "1                 G                  False                 2.0   \n",
       "2                 G                  False               394.0   \n",
       "3                 G                  False                 4.0   \n",
       "4                 G                  False                 5.0   \n",
       "\n",
       "                                           image-url  \\\n",
       "0  https://ecom-su-static-prod.wtrecom.com/images...   \n",
       "1  https://ecom-su-static-prod.wtrecom.com/images...   \n",
       "2  https://ecom-su-static-prod.wtrecom.com/images...   \n",
       "3  https://ecom-su-static-prod.wtrecom.com/images...   \n",
       "4  https://ecom-su-static-prod.wtrecom.com/images...   \n",
       "\n",
       "                                        product-page  \\\n",
       "0  https://www.waitrose.com/ecom/products/organix...   \n",
       "1  https://www.waitrose.com/ecom/products/organix...   \n",
       "2  https://www.waitrose.com/ecom/products/aptamil...   \n",
       "3  https://www.waitrose.com/ecom/products/essenti...   \n",
       "4  https://www.waitrose.com/ecom/products/organix...   \n",
       "\n",
       "                               product-name product-size item-price  \\\n",
       "0  Organix Raspberry & Apple Soft Oaty Bars        6x23g      £3.15   \n",
       "1             Organix Carrot Cake Oaty Bars        6x23g      £3.15   \n",
       "2                  Aptamil 2 Follow On Milk         800g     £13.50   \n",
       "3                      Essential Baby Wipes          80s        95p   \n",
       "4                  Organix Apple Rice Cakes          40g      £1.60   \n",
       "\n",
       "  price-per-unit offer-description              category  \n",
       "0     £2.29/100g               NaN  Baby, Child & Parent  \n",
       "1     £2.29/100g               NaN  Baby, Child & Parent  \n",
       "2      £16.88/kg               NaN  Baby, Child & Parent  \n",
       "3      1.2p each               NaN  Baby, Child & Parent  \n",
       "4        £4/100g               NaN  Baby, Child & Parent  "
      ]
     },
     "execution_count": 12,
     "metadata": {},
     "output_type": "execute_result"
    }
   ],
   "source": [
    "df.head()"
   ]
  },
  {
   "cell_type": "markdown",
   "id": "cbae9fe2",
   "metadata": {},
   "source": [
    "# Puzzle 1: Explore the `item-price` column"
   ]
  },
  {
   "cell_type": "code",
   "execution_count": 16,
   "id": "c16283b1",
   "metadata": {},
   "outputs": [
    {
     "name": "stdout",
     "output_type": "stream",
     "text": [
      "<class 'pandas.core.frame.DataFrame'>\n",
      "Index: 25418 entries, 0 to 1593\n",
      "Data columns (total 13 columns):\n",
      " #   Column                 Non-Null Count  Dtype  \n",
      "---  ------                 --------------  -----  \n",
      " 0   data-product-id        25418 non-null  int64  \n",
      " 1   data-product-name      25418 non-null  object \n",
      " 2   data-product-type      25418 non-null  object \n",
      " 3   data-product-on-offer  25418 non-null  bool   \n",
      " 4   data-product-index     25408 non-null  float64\n",
      " 5   image-url              25418 non-null  object \n",
      " 6   product-page           25418 non-null  object \n",
      " 7   product-name           25407 non-null  object \n",
      " 8   product-size           25363 non-null  object \n",
      " 9   item-price             25407 non-null  object \n",
      " 10  price-per-unit         24976 non-null  object \n",
      " 11  offer-description      7201 non-null   object \n",
      " 12  category               25418 non-null  object \n",
      "dtypes: bool(1), float64(1), int64(1), object(10)\n",
      "memory usage: 2.5+ MB\n"
     ]
    }
   ],
   "source": [
    "df.info()"
   ]
  },
  {
   "cell_type": "code",
   "execution_count": 15,
   "id": "b65e7420",
   "metadata": {},
   "outputs": [
    {
     "data": {
      "text/plain": [
       "775"
      ]
     },
     "execution_count": 15,
     "metadata": {},
     "output_type": "execute_result"
    }
   ],
   "source": [
    "len(df['item-price'].unique())"
   ]
  },
  {
   "cell_type": "code",
   "execution_count": 17,
   "id": "987dba27",
   "metadata": {},
   "outputs": [
    {
     "data": {
      "application/vnd.microsoft.datawrangler.viewer.v0+json": {
       "columns": [
        {
         "name": "index",
         "rawType": "int64",
         "type": "integer"
        },
        {
         "name": "item-price",
         "rawType": "object",
         "type": "string"
        }
       ],
       "ref": "262efd4e-6d9e-480f-af19-7b8a19098f5f",
       "rows": [
        [
         "0",
         "£3.15"
        ],
        [
         "1",
         "£3.15"
        ],
        [
         "2",
         "£13.50"
        ],
        [
         "3",
         "95p"
        ],
        [
         "4",
         "£1.60"
        ]
       ],
       "shape": {
        "columns": 1,
        "rows": 5
       }
      },
      "text/plain": [
       "0     £3.15\n",
       "1     £3.15\n",
       "2    £13.50\n",
       "3       95p\n",
       "4     £1.60\n",
       "Name: item-price, dtype: object"
      ]
     },
     "execution_count": 17,
     "metadata": {},
     "output_type": "execute_result"
    }
   ],
   "source": [
    "df['item-price'].head()"
   ]
  },
  {
   "cell_type": "code",
   "execution_count": 29,
   "id": "21439f33",
   "metadata": {},
   "outputs": [
    {
     "data": {
      "text/plain": [
       "str"
      ]
     },
     "execution_count": 29,
     "metadata": {},
     "output_type": "execute_result"
    }
   ],
   "source": [
    "type(df['item-price'].iloc[0])"
   ]
  },
  {
   "cell_type": "markdown",
   "id": "0421c9cd",
   "metadata": {},
   "source": [
    "## Cleaning up the Variables"
   ]
  },
  {
   "cell_type": "code",
   "execution_count": 52,
   "id": "66908f0c",
   "metadata": {},
   "outputs": [],
   "source": [
    "def remove_perunit_tag(price):\n",
    "    \"\"\"Remove trailing information about per unit price\"\"\"\n",
    "    if isinstance(price, str):\n",
    "        return price.strip(' each est.')\n",
    "    else:\n",
    "        return price\n",
    "\n",
    "\n",
    "def remove_currency_lead(price, currency_symbol='£'):\n",
    "    \"\"\"Remove leading £\"\"\"\n",
    "    if isinstance(price, str):\n",
    "        return price.strip(currency_symbol)\n",
    "    else:\n",
    "        return price\n",
    "\n",
    "def remove_trailing_symbol(price, trailing_symbol='p'):\n",
    "    \"\"\"Remove trailing value\"\"\"\n",
    "    if isinstance(price, str) and price.endswith(trailing_symbol):\n",
    "        return '0.' + price.strip(trailing_symbol)\n",
    "    else:\n",
    "        return price"
   ]
  },
  {
   "cell_type": "code",
   "execution_count": 53,
   "id": "b2cea268",
   "metadata": {},
   "outputs": [],
   "source": [
    "df['item-price'] = [remove_perunit_tag(price) for price in df['item-price']]"
   ]
  },
  {
   "cell_type": "code",
   "execution_count": 54,
   "id": "2a12b3c2",
   "metadata": {},
   "outputs": [],
   "source": [
    "df['item-price'] = [remove_currency_lead(price) for price in df['item-price']]"
   ]
  },
  {
   "cell_type": "code",
   "execution_count": 55,
   "id": "8511e605",
   "metadata": {},
   "outputs": [
    {
     "data": {
      "application/vnd.microsoft.datawrangler.viewer.v0+json": {
       "columns": [
        {
         "name": "index",
         "rawType": "int64",
         "type": "integer"
        },
        {
         "name": "item-price",
         "rawType": "object",
         "type": "unknown"
        }
       ],
       "ref": "a259ba23-4987-4023-8a05-892b2e386b42",
       "rows": [
        [
         "0",
         "3.15"
        ],
        [
         "1",
         "3.15"
        ],
        [
         "2",
         "13.50"
        ],
        [
         "3",
         "0.95"
        ],
        [
         "4",
         "1.60"
        ],
        [
         "5",
         "1.50"
        ],
        [
         "6",
         "1.20"
        ],
        [
         "7",
         "1.00"
        ],
        [
         "8",
         "2.50"
        ],
        [
         "9",
         "1.00"
        ],
        [
         "10",
         "1.60"
        ],
        [
         "11",
         "1.00"
        ],
        [
         "12",
         "1.30"
        ],
        [
         "13",
         "2.65"
        ],
        [
         "14",
         "1.50"
        ],
        [
         "15",
         "1.30"
        ],
        [
         "16",
         "3.00"
        ],
        [
         "17",
         "1.00"
        ],
        [
         "18",
         "1.00"
        ],
        [
         "19",
         "2.80"
        ],
        [
         "20",
         "1.00"
        ],
        [
         "21",
         "2.25"
        ],
        [
         "22",
         "2.95"
        ],
        [
         "23",
         "1.35"
        ],
        [
         "24",
         "11.50"
        ],
        [
         "25",
         "3.00"
        ],
        [
         "26",
         "3.00"
        ],
        [
         "27",
         "0.60"
        ],
        [
         "28",
         "3.70"
        ],
        [
         "29",
         "0.85"
        ],
        [
         "30",
         "1.35"
        ],
        [
         "31",
         "5.00"
        ],
        [
         "32",
         "2.60"
        ],
        [
         "33",
         "2.95"
        ],
        [
         "34",
         "1.35"
        ],
        [
         "35",
         "1.10"
        ],
        [
         "36",
         "1.35"
        ],
        [
         "37",
         "4.10"
        ],
        [
         "38",
         "1.05"
        ],
        [
         "39",
         "0.85"
        ],
        [
         "40",
         "1.35"
        ],
        [
         "41",
         "1.10"
        ],
        [
         "42",
         "1.30"
        ],
        [
         "43",
         "0.60"
        ],
        [
         "44",
         "1.00"
        ],
        [
         "45",
         "1.35"
        ],
        [
         "46",
         "4.50"
        ],
        [
         "47",
         "3.50"
        ],
        [
         "48",
         "1.35"
        ],
        [
         "49",
         "2.95"
        ]
       ],
       "shape": {
        "columns": 1,
        "rows": 25418
       }
      },
      "text/plain": [
       "0        3.15\n",
       "1        3.15\n",
       "2       13.50\n",
       "3        0.95\n",
       "4        1.60\n",
       "        ...  \n",
       "1589    24.31\n",
       "1590     2.40\n",
       "1591    10.00\n",
       "1592     2.50\n",
       "1593    21.49\n",
       "Name: item-price, Length: 25418, dtype: object"
      ]
     },
     "execution_count": 55,
     "metadata": {},
     "output_type": "execute_result"
    }
   ],
   "source": [
    "df['item-price']"
   ]
  },
  {
   "cell_type": "code",
   "execution_count": 56,
   "id": "cfbb5908",
   "metadata": {},
   "outputs": [],
   "source": [
    "df['item-price'] = df['item-price'].apply(remove_trailing_symbol)"
   ]
  },
  {
   "cell_type": "code",
   "execution_count": 57,
   "id": "d8e10519",
   "metadata": {},
   "outputs": [
    {
     "data": {
      "application/vnd.microsoft.datawrangler.viewer.v0+json": {
       "columns": [
        {
         "name": "index",
         "rawType": "int64",
         "type": "integer"
        },
        {
         "name": "item-price",
         "rawType": "object",
         "type": "unknown"
        }
       ],
       "ref": "62ef0b39-b743-400b-8f15-5c46d42fc8b8",
       "rows": [
        [
         "291",
         "55-£110"
        ],
        [
         "294",
         "30-£38"
        ],
        [
         "299",
         "54-£92"
        ],
        [
         "302",
         "168-£196"
        ],
        [
         "305",
         "31-£40"
        ],
        [
         "307",
         "94-£115"
        ],
        [
         "311",
         "35-£41"
        ],
        [
         "313",
         "32-£39"
        ],
        [
         "318",
         "24-£32"
        ],
        [
         "48",
         null
        ],
        [
         "49",
         null
        ],
        [
         "48",
         null
        ],
        [
         "49",
         null
        ],
        [
         "3237",
         "42-£60"
        ],
        [
         "3279",
         "20-£28"
        ],
        [
         "3328",
         "55-£110"
        ],
        [
         "3330",
         "62-£79"
        ],
        [
         "3360",
         "30-£38"
        ],
        [
         "3378",
         "54-£92"
        ],
        [
         "3396",
         "60-£80"
        ],
        [
         "3435",
         "168-£196"
        ],
        [
         "3448",
         "31-£40"
        ],
        [
         "3454",
         "25-£38"
        ],
        [
         "3471",
         "94-£115"
        ],
        [
         "3475",
         "27-£39"
        ],
        [
         "3513",
         "35-£41"
        ],
        [
         "3536",
         "32-£39"
        ],
        [
         "3546",
         "39-£45"
        ],
        [
         "3562",
         "24-£32"
        ],
        [
         "48",
         null
        ],
        [
         "49",
         null
        ],
        [
         "24",
         null
        ],
        [
         "48",
         null
        ],
        [
         "49",
         null
        ],
        [
         "76",
         "62-£79"
        ],
        [
         "1193",
         "42-£60"
        ],
        [
         "1218",
         "20-£28"
        ],
        [
         "1265",
         "55-£110"
        ],
        [
         "1296",
         "30-£38"
        ],
        [
         "1320",
         "54-£92"
        ],
        [
         "1333",
         "60-£80"
        ],
        [
         "1359",
         "168-£196"
        ],
        [
         "1375",
         "31-£40"
        ],
        [
         "1385",
         "25-£38"
        ],
        [
         "1393",
         "94-£115"
        ],
        [
         "1397",
         "27-£39"
        ],
        [
         "1432",
         "35-£41"
        ],
        [
         "1461",
         "39-£45"
        ],
        [
         "1466",
         "24-£32"
        ],
        [
         "48",
         null
        ]
       ],
       "shape": {
        "columns": 1,
        "rows": 51
       }
      },
      "text/plain": [
       "291      55-£110\n",
       "294       30-£38\n",
       "299       54-£92\n",
       "302     168-£196\n",
       "305       31-£40\n",
       "307      94-£115\n",
       "311       35-£41\n",
       "313       32-£39\n",
       "318       24-£32\n",
       "48           NaN\n",
       "49           NaN\n",
       "48           NaN\n",
       "49           NaN\n",
       "3237      42-£60\n",
       "3279      20-£28\n",
       "3328     55-£110\n",
       "3330      62-£79\n",
       "3360      30-£38\n",
       "3378      54-£92\n",
       "3396      60-£80\n",
       "3435    168-£196\n",
       "3448      31-£40\n",
       "3454      25-£38\n",
       "3471     94-£115\n",
       "3475      27-£39\n",
       "3513      35-£41\n",
       "3536      32-£39\n",
       "3546      39-£45\n",
       "3562      24-£32\n",
       "48           NaN\n",
       "49           NaN\n",
       "24           NaN\n",
       "48           NaN\n",
       "49           NaN\n",
       "76        62-£79\n",
       "1193      42-£60\n",
       "1218      20-£28\n",
       "1265     55-£110\n",
       "1296      30-£38\n",
       "1320      54-£92\n",
       "1333      60-£80\n",
       "1359    168-£196\n",
       "1375      31-£40\n",
       "1385      25-£38\n",
       "1393     94-£115\n",
       "1397      27-£39\n",
       "1432      35-£41\n",
       "1461      39-£45\n",
       "1466      24-£32\n",
       "48           NaN\n",
       "49           NaN\n",
       "Name: item-price, dtype: object"
      ]
     },
     "execution_count": 57,
     "metadata": {},
     "output_type": "execute_result"
    }
   ],
   "source": [
    "# Examining our missing values\n",
    "\n",
    "df['item-price'][pd.to_numeric(df['item-price'], errors='coerce').isna()]"
   ]
  },
  {
   "cell_type": "markdown",
   "id": "c9906dd4",
   "metadata": {},
   "source": [
    "At this point need to think about what to do with ranges, but can ignore them for now."
   ]
  },
  {
   "cell_type": "code",
   "execution_count": 58,
   "id": "96eb18c4",
   "metadata": {},
   "outputs": [],
   "source": [
    "df['item-price'] = pd.to_numeric(df['item-price'], errors='coerce')"
   ]
  },
  {
   "cell_type": "markdown",
   "id": "90ed80af",
   "metadata": {},
   "source": [
    "# Visualising the Pricing Data"
   ]
  },
  {
   "cell_type": "code",
   "execution_count": 62,
   "id": "e6ffe73a",
   "metadata": {},
   "outputs": [
    {
     "data": {
      "text/html": [
       "\n",
       "            <div id=\"zevvSj\"></div>\n",
       "            <script type=\"text/javascript\" data-lets-plot-script=\"library\">\n",
       "                if(!window.letsPlotCallQueue) {\n",
       "                    window.letsPlotCallQueue = [];\n",
       "                }; \n",
       "                window.letsPlotCall = function(f) {\n",
       "                    window.letsPlotCallQueue.push(f);\n",
       "                };\n",
       "                (function() {\n",
       "                    var script = document.createElement(\"script\");\n",
       "                    script.type = \"text/javascript\";\n",
       "                    script.src = \"https://cdn.jsdelivr.net/gh/JetBrains/lets-plot@v4.6.2/js-package/distr/lets-plot.min.js\";\n",
       "                    script.onload = function() {\n",
       "                        window.letsPlotCall = function(f) {f();};\n",
       "                        window.letsPlotCallQueue.forEach(function(f) {f();});\n",
       "                        window.letsPlotCallQueue = [];\n",
       "                        \n",
       "                    };\n",
       "                    script.onerror = function(event) {\n",
       "                        window.letsPlotCall = function(f) {};    // noop\n",
       "                        window.letsPlotCallQueue = [];\n",
       "                        var div = document.createElement(\"div\");\n",
       "                        div.style.color = 'darkred';\n",
       "                        div.textContent = 'Error loading Lets-Plot JS';\n",
       "                        document.getElementById(\"zevvSj\").appendChild(div);\n",
       "                    };\n",
       "                    var e = document.getElementById(\"zevvSj\");\n",
       "                    e.appendChild(script);\n",
       "                })()\n",
       "            </script>\n",
       "            "
      ]
     },
     "metadata": {},
     "output_type": "display_data"
    }
   ],
   "source": [
    "import numpy as np\n",
    "from lets_plot import *\n",
    "LetsPlot.setup_html()"
   ]
  },
  {
   "cell_type": "code",
   "execution_count": 63,
   "id": "d03159b2",
   "metadata": {},
   "outputs": [
    {
     "data": {
      "text/html": [
       "   <div id=\"QzdMer\"></div>\n",
       "   <script type=\"text/javascript\" data-lets-plot-script=\"plot\">\n",
       "   \n",
       "   (function() {\n",
       "   // ----------\n",
       "   \n",
       "   const forceImmediateRender = false;\n",
       "   const responsive = false;\n",
       "   \n",
       "   let sizing = {\n",
       "       width_mode: \"MIN\",\n",
       "       height_mode: \"SCALED\",\n",
       "       width: null, \n",
       "       height: null \n",
       "   };\n",
       "   \n",
       "   const preferredWidth = document.body.dataset.letsPlotPreferredWidth;\n",
       "   if (preferredWidth !== undefined) {\n",
       "       sizing = {\n",
       "           width_mode: 'FIXED',\n",
       "           height_mode: 'SCALED',\n",
       "           width: parseFloat(preferredWidth)\n",
       "       };\n",
       "   }\n",
       "   \n",
       "   const containerDiv = document.getElementById(\"QzdMer\");\n",
       "   let fig = null;\n",
       "   \n",
       "   function renderPlot() {\n",
       "       if (fig === null) {\n",
       "           const plotSpec = {\n",
       "\"data\":{\n",
       "\"category\":[\"Everyday Value\",\"Waitrose Brands\",\"Bakery\",\"Food Cupboard\",\"Dietary & Lifestyle\",\"Fresh & Chilled\",\"Organic Shop\",\"Baby, Child & Parent\",\"New\",\"Tea, Coffee & Soft Drinks\",\"Frozen\",\"Summer\",\"Best of British\",\"Pet\",\"Household\",\"Toiletries, Health & Beauty\",\"Home\",\"Beer, Wine & Spirits\"],\n",
       "\"Q1\":[1.1,1.4,1.6,1.6,1.95,2.0,2.0,1.8,2.5,2.1,2.65,2.5,2.7,2.275,2.95,3.16,3.0,5.49],\n",
       "\"median\":[1.35,2.1,2.2,2.25,2.75,2.9,2.95,3.15,3.5,3.5,3.5,3.7,4.0,4.1,4.5,5.6,5.99,9.99],\n",
       "\"Q3\":[2.0,3.4,3.15,3.0,4.0,4.0,5.0,7.3,6.0,4.75,4.4625,6.0,5.75,7.5,7.0,10.0,10.5,17.99]\n",
       "},\n",
       "\"mapping\":{\n",
       "\"x\":\"median\",\n",
       "\"y\":\"category\",\n",
       "\"xmin\":\"Q1\",\n",
       "\"xmax\":\"Q3\",\n",
       "\"fill\":\"category\"\n",
       "},\n",
       "\"data_meta\":{\n",
       "\"series_annotations\":[{\n",
       "\"type\":\"str\",\n",
       "\"column\":\"category\"\n",
       "},{\n",
       "\"type\":\"float\",\n",
       "\"column\":\"count\"\n",
       "},{\n",
       "\"type\":\"float\",\n",
       "\"column\":\"mean\"\n",
       "},{\n",
       "\"type\":\"float\",\n",
       "\"column\":\"std\"\n",
       "},{\n",
       "\"type\":\"float\",\n",
       "\"column\":\"min\"\n",
       "},{\n",
       "\"type\":\"float\",\n",
       "\"column\":\"Q1\"\n",
       "},{\n",
       "\"type\":\"float\",\n",
       "\"column\":\"median\"\n",
       "},{\n",
       "\"type\":\"float\",\n",
       "\"column\":\"Q3\"\n",
       "},{\n",
       "\"type\":\"float\",\n",
       "\"column\":\"max\"\n",
       "}]\n",
       "},\n",
       "\"ggtitle\":{\n",
       "\"text\":\"\\\"Beer, Wine & Spirits\\\" has the highest median price for individual items\",\n",
       "\"subtitle\":\"Dots represent the median price, bars represent the 25th and 75th percentiles\"\n",
       "},\n",
       "\"theme\":{\n",
       "\"axis_title_x\":{\n",
       "\"size\":20.0,\n",
       "\"blank\":false\n",
       "},\n",
       "\"axis_title_y\":{\n",
       "\"size\":20.0,\n",
       "\"blank\":false\n",
       "},\n",
       "\"axis_text_x\":{\n",
       "\"size\":15.0,\n",
       "\"blank\":false\n",
       "},\n",
       "\"axis_text_y\":{\n",
       "\"size\":17.0,\n",
       "\"blank\":false\n",
       "},\n",
       "\"legend_position\":\"none\",\n",
       "\"plot_title\":{\n",
       "\"face\":\"bold\",\n",
       "\"size\":19.0,\n",
       "\"blank\":false\n",
       "},\n",
       "\"plot_subtitle\":{\n",
       "\"size\":18.0,\n",
       "\"blank\":false\n",
       "}\n",
       "},\n",
       "\"ggsize\":{\n",
       "\"width\":1000.0,\n",
       "\"height\":500.0\n",
       "},\n",
       "\"kind\":\"plot\",\n",
       "\"scales\":[{\n",
       "\"aesthetic\":\"fill\",\n",
       "\"guide\":\"none\",\n",
       "\"discrete\":true\n",
       "},{\n",
       "\"name\":\"Categories\\n(from largest to smallest median)\",\n",
       "\"aesthetic\":\"y\",\n",
       "\"expand\":[0.05,0.05]\n",
       "},{\n",
       "\"name\":\"Price (£)\",\n",
       "\"aesthetic\":\"x\",\n",
       "\"breaks\":[0.0,2.5,5.0,7.5,10.0,12.5,15.0,17.5],\n",
       "\"expand\":[0.0,0.05],\n",
       "\"format\":\"£ {.2f}\"\n",
       "}],\n",
       "\"layers\":[{\n",
       "\"geom\":\"linerange\",\n",
       "\"mapping\":{\n",
       "},\n",
       "\"tooltips\":{\n",
       "\"formats\":[{\n",
       "\"field\":\"@Q1\",\n",
       "\"format\":\"£ {.2f}\"\n",
       "},{\n",
       "\"field\":\"@median\",\n",
       "\"format\":\"£ {.2f}\"\n",
       "},{\n",
       "\"field\":\"@Q3\",\n",
       "\"format\":\"£ {.2f}\"\n",
       "}],\n",
       "\"lines\":[\"@category\",\"[@Q1 -- @median -- @Q3]\"]\n",
       "},\n",
       "\"data_meta\":{\n",
       "},\n",
       "\"size\":1.0,\n",
       "\"alpha\":0.75,\n",
       "\"data\":{\n",
       "}\n",
       "},{\n",
       "\"geom\":\"point\",\n",
       "\"mapping\":{\n",
       "},\n",
       "\"tooltips\":{\n",
       "\"formats\":[{\n",
       "\"field\":\"@Q1\",\n",
       "\"format\":\"£ {.2f}\"\n",
       "},{\n",
       "\"field\":\"@median\",\n",
       "\"format\":\"£ {.2f}\"\n",
       "},{\n",
       "\"field\":\"@Q3\",\n",
       "\"format\":\"£ {.2f}\"\n",
       "}],\n",
       "\"lines\":[\"@category\",\"[@Q1 -- @median -- @Q3]\"]\n",
       "},\n",
       "\"data_meta\":{\n",
       "},\n",
       "\"size\":3.0,\n",
       "\"stroke\":1.0,\n",
       "\"shape\":21.0,\n",
       "\"data\":{\n",
       "}\n",
       "}],\n",
       "\"metainfo_list\":[],\n",
       "\"spec_id\":\"1\"\n",
       "};\n",
       "           window.letsPlotCall(function() { fig = LetsPlot.buildPlotFromProcessedSpecs(plotSpec, containerDiv, sizing); });\n",
       "       } else {\n",
       "           fig.updateView({});\n",
       "       }\n",
       "   }\n",
       "   \n",
       "   const renderImmediately = \n",
       "       forceImmediateRender || (\n",
       "           sizing.width_mode === 'FIXED' && \n",
       "           (sizing.height_mode === 'FIXED' || sizing.height_mode === 'SCALED')\n",
       "       );\n",
       "   \n",
       "   if (renderImmediately) {\n",
       "       renderPlot();\n",
       "   }\n",
       "   \n",
       "   if (!renderImmediately || responsive) {\n",
       "       // Set up observer for initial sizing or continuous monitoring\n",
       "       var observer = new ResizeObserver(function(entries) {\n",
       "           for (let entry of entries) {\n",
       "               if (entry.contentBoxSize && \n",
       "                   entry.contentBoxSize[0].inlineSize > 0) {\n",
       "                   if (!responsive && observer) {\n",
       "                       observer.disconnect();\n",
       "                       observer = null;\n",
       "                   }\n",
       "                   renderPlot();\n",
       "                   if (!responsive) {\n",
       "                       break;\n",
       "                   }\n",
       "               }\n",
       "           }\n",
       "       });\n",
       "       \n",
       "       observer.observe(containerDiv);\n",
       "   }\n",
       "   \n",
       "   // ----------\n",
       "   })();\n",
       "   \n",
       "   </script>"
      ],
      "text/plain": [
       "<lets_plot.plot.core.PlotSpec at 0x1e65fc9ca70>"
      ]
     },
     "execution_count": 63,
     "metadata": {},
     "output_type": "execute_result"
    }
   ],
   "source": [
    "plot_df = (\n",
    "    df.groupby('category')['item-price'].describe()\n",
    "        .reset_index()\n",
    "        .rename(columns={'25%': 'Q1', '50%': 'median', '75%': 'Q3'})\n",
    "        .sort_values(by='median')\n",
    ")\n",
    "\n",
    "# plot_df.head() to see how it looks like\n",
    "\n",
    "# This configures what shows up when you hover your mouse over the plot.\n",
    "tooltip_setup = (\n",
    "    layer_tooltips()\n",
    "        .line('@category')\n",
    "        .line('[@Q1 -- @median -- @Q3]')\n",
    "        .format('@Q1', '£ {.2f}')\n",
    "        .format('@median', '£ {.2f}')\n",
    "        .format('@Q3', '£ {.2f}')\n",
    ")\n",
    "\n",
    "g = (\n",
    "    # Maps the columns to the aesthetics of the plot.\n",
    "    ggplot(plot_df, aes(y='category', x='median', xmin='Q1', xmax='Q3', fill='category')) +\n",
    "\n",
    "    # GEOMS\n",
    "\n",
    "    # Add a line range that 'listens to' columns informed in `ymin` and `ymax` aesthetics\n",
    "    geom_linerange(size=1, alpha=0.75, tooltips=tooltip_setup) +\n",
    "\n",
    "    # Add points to the plot (listen to `x` and `y` and fill aesthetics)\n",
    "    geom_point(size=3, stroke=1, shape=21, tooltips=tooltip_setup) +\n",
    "\n",
    "    # SCALES\n",
    "\n",
    "    # Remove the legend (we can already read the categories from the y-axis)\n",
    "    scale_fill_discrete(guide='none') +\n",
    "\n",
    "    # Specify names for the axes\n",
    "    scale_y_continuous(name=\"Categories\\n(from largest to smallest median)\", expand=[0.05, 0.05]) +\n",
    "    scale_x_continuous(name=\"Price (£)\", expand=[0., 0.05], format='£ {.2f}', breaks=np.arange(0, 20, 2.5)) +\n",
    "\n",
    "    # LABELS\n",
    "    # It's nice when the plot tells you the key takeaways\n",
    "    labs(title='\"Beer, Wine & Spirits\" has the highest median price for individual items',\n",
    "         subtitle=\"Dots represent the median price, bars represent the 25th and 75th percentiles\") +\n",
    "    theme(axis_text_x=element_text(size=15),\n",
    "        axis_text_y=element_text(size=17),\n",
    "        axis_title_x=element_text(size=20),\n",
    "        axis_title_y=element_text(size=20),\n",
    "        plot_title=element_text(size=19, face='bold'),\n",
    "        plot_subtitle=element_text(size=18),\n",
    "        legend_position='none') +\n",
    "    ggsize(1000, 500)\n",
    "\n",
    ")\n",
    "\n",
    "g"
   ]
  },
  {
   "cell_type": "code",
   "execution_count": 64,
   "id": "c1661c54",
   "metadata": {},
   "outputs": [
    {
     "data": {
      "application/vnd.microsoft.datawrangler.viewer.v0+json": {
       "columns": [
        {
         "name": "index",
         "rawType": "int64",
         "type": "integer"
        },
        {
         "name": "category",
         "rawType": "object",
         "type": "string"
        },
        {
         "name": "count",
         "rawType": "float64",
         "type": "float"
        },
        {
         "name": "mean",
         "rawType": "float64",
         "type": "float"
        },
        {
         "name": "std",
         "rawType": "float64",
         "type": "float"
        },
        {
         "name": "min",
         "rawType": "float64",
         "type": "float"
        },
        {
         "name": "Q1",
         "rawType": "float64",
         "type": "float"
        },
        {
         "name": "median",
         "rawType": "float64",
         "type": "float"
        },
        {
         "name": "Q3",
         "rawType": "float64",
         "type": "float"
        },
        {
         "name": "max",
         "rawType": "float64",
         "type": "float"
        }
       ],
       "ref": "7976dbbd-c71f-479f-8fa4-1903d62e3659",
       "rows": [
        [
         "5",
         "Everyday Value",
         "141.0",
         "1.7402836879432624",
         "1.2028727181581427",
         "0.15",
         "1.1",
         "1.35",
         "2.0",
         "8.0"
        ],
        [
         "17",
         "Waitrose Brands",
         "1594.0",
         "3.009454203262233",
         "3.3820047789208285",
         "0.1",
         "1.4",
         "2.1",
         "3.4",
         "53.2"
        ],
        [
         "1",
         "Bakery",
         "485.0",
         "4.8317525773195875",
         "7.72853829346349",
         "0.5",
         "1.6",
         "2.2",
         "3.15",
         "45.0"
        ],
        [
         "6",
         "Food Cupboard",
         "4189.0",
         "2.664731439484364",
         "2.1380005556695574",
         "0.35",
         "1.6",
         "2.25",
         "3.0",
         "43.5"
        ],
        [
         "4",
         "Dietary & Lifestyle",
         "3340.0",
         "3.7957335329341317",
         "4.753504276416841",
         "0.1",
         "1.95",
         "2.75",
         "4.0",
         "139.99"
        ]
       ],
       "shape": {
        "columns": 9,
        "rows": 5
       }
      },
      "text/html": [
       "<div>\n",
       "<style scoped>\n",
       "    .dataframe tbody tr th:only-of-type {\n",
       "        vertical-align: middle;\n",
       "    }\n",
       "\n",
       "    .dataframe tbody tr th {\n",
       "        vertical-align: top;\n",
       "    }\n",
       "\n",
       "    .dataframe thead th {\n",
       "        text-align: right;\n",
       "    }\n",
       "</style>\n",
       "<table border=\"1\" class=\"dataframe\">\n",
       "  <thead>\n",
       "    <tr style=\"text-align: right;\">\n",
       "      <th></th>\n",
       "      <th>category</th>\n",
       "      <th>count</th>\n",
       "      <th>mean</th>\n",
       "      <th>std</th>\n",
       "      <th>min</th>\n",
       "      <th>Q1</th>\n",
       "      <th>median</th>\n",
       "      <th>Q3</th>\n",
       "      <th>max</th>\n",
       "    </tr>\n",
       "  </thead>\n",
       "  <tbody>\n",
       "    <tr>\n",
       "      <th>5</th>\n",
       "      <td>Everyday Value</td>\n",
       "      <td>141.0</td>\n",
       "      <td>1.740284</td>\n",
       "      <td>1.202873</td>\n",
       "      <td>0.15</td>\n",
       "      <td>1.10</td>\n",
       "      <td>1.35</td>\n",
       "      <td>2.00</td>\n",
       "      <td>8.00</td>\n",
       "    </tr>\n",
       "    <tr>\n",
       "      <th>17</th>\n",
       "      <td>Waitrose Brands</td>\n",
       "      <td>1594.0</td>\n",
       "      <td>3.009454</td>\n",
       "      <td>3.382005</td>\n",
       "      <td>0.10</td>\n",
       "      <td>1.40</td>\n",
       "      <td>2.10</td>\n",
       "      <td>3.40</td>\n",
       "      <td>53.20</td>\n",
       "    </tr>\n",
       "    <tr>\n",
       "      <th>1</th>\n",
       "      <td>Bakery</td>\n",
       "      <td>485.0</td>\n",
       "      <td>4.831753</td>\n",
       "      <td>7.728538</td>\n",
       "      <td>0.50</td>\n",
       "      <td>1.60</td>\n",
       "      <td>2.20</td>\n",
       "      <td>3.15</td>\n",
       "      <td>45.00</td>\n",
       "    </tr>\n",
       "    <tr>\n",
       "      <th>6</th>\n",
       "      <td>Food Cupboard</td>\n",
       "      <td>4189.0</td>\n",
       "      <td>2.664731</td>\n",
       "      <td>2.138001</td>\n",
       "      <td>0.35</td>\n",
       "      <td>1.60</td>\n",
       "      <td>2.25</td>\n",
       "      <td>3.00</td>\n",
       "      <td>43.50</td>\n",
       "    </tr>\n",
       "    <tr>\n",
       "      <th>4</th>\n",
       "      <td>Dietary &amp; Lifestyle</td>\n",
       "      <td>3340.0</td>\n",
       "      <td>3.795734</td>\n",
       "      <td>4.753504</td>\n",
       "      <td>0.10</td>\n",
       "      <td>1.95</td>\n",
       "      <td>2.75</td>\n",
       "      <td>4.00</td>\n",
       "      <td>139.99</td>\n",
       "    </tr>\n",
       "  </tbody>\n",
       "</table>\n",
       "</div>"
      ],
      "text/plain": [
       "               category   count      mean       std   min    Q1  median    Q3  \\\n",
       "5        Everyday Value   141.0  1.740284  1.202873  0.15  1.10    1.35  2.00   \n",
       "17      Waitrose Brands  1594.0  3.009454  3.382005  0.10  1.40    2.10  3.40   \n",
       "1                Bakery   485.0  4.831753  7.728538  0.50  1.60    2.20  3.15   \n",
       "6         Food Cupboard  4189.0  2.664731  2.138001  0.35  1.60    2.25  3.00   \n",
       "4   Dietary & Lifestyle  3340.0  3.795734  4.753504  0.10  1.95    2.75  4.00   \n",
       "\n",
       "       max  \n",
       "5     8.00  \n",
       "17   53.20  \n",
       "1    45.00  \n",
       "6    43.50  \n",
       "4   139.99  "
      ]
     },
     "execution_count": 64,
     "metadata": {},
     "output_type": "execute_result"
    }
   ],
   "source": [
    "plot_df.head()"
   ]
  }
 ],
 "metadata": {
  "kernelspec": {
   "display_name": "base",
   "language": "python",
   "name": "python3"
  },
  "language_info": {
   "codemirror_mode": {
    "name": "ipython",
    "version": 3
   },
   "file_extension": ".py",
   "mimetype": "text/x-python",
   "name": "python",
   "nbconvert_exporter": "python",
   "pygments_lexer": "ipython3",
   "version": "3.12.4"
  }
 },
 "nbformat": 4,
 "nbformat_minor": 5
}

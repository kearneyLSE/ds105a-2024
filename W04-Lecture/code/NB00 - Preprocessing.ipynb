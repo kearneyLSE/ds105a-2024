{
 "cells": [
  {
   "cell_type": "markdown",
   "id": "77964641",
   "metadata": {},
   "source": [
    "# Cleaning Up the Price Data"
   ]
  },
  {
   "cell_type": "markdown",
   "id": "b6c8faa2",
   "metadata": {},
   "source": [
    "Goals:\n",
    "\n",
    "1.  Working with original `CSV` files\n",
    "2.  Convert the `item-price` column from a string to a float\n",
    "3.  Plot to confirm pre-processing worked"
   ]
  },
  {
   "cell_type": "code",
   "execution_count": 2,
   "id": "260fcadf",
   "metadata": {},
   "outputs": [],
   "source": [
    "import pandas as pd\n",
    "import os"
   ]
  },
  {
   "cell_type": "markdown",
   "id": "add2eb4d",
   "metadata": {},
   "source": [
    "## Read All CSV Files Into A Dataframe"
   ]
  },
  {
   "cell_type": "code",
   "execution_count": 3,
   "id": "3b0f42ab",
   "metadata": {},
   "outputs": [],
   "source": [
    "data_folder = os.path.join('..', 'data', 'waitrose-2024-07')"
   ]
  },
  {
   "cell_type": "code",
   "execution_count": null,
   "id": "7e4f8a24",
   "metadata": {},
   "outputs": [],
   "source": [
    "# Use list comprehension to collect all the files in the folder and create their folder path\n",
    "all_files = [\n",
    "    os.path.join(data_folder, file) for file in os.listdir(data_folder)\n",
    "    if file.endswith('.csv')\n",
    "\n",
    "]"
   ]
  },
  {
   "cell_type": "code",
   "execution_count": 9,
   "id": "ef5613ad",
   "metadata": {},
   "outputs": [
    {
     "name": "stdout",
     "output_type": "stream",
     "text": [
      "..\\data\\waitrose-2024-07\\baby-child-and-parent.csv\n",
      "..\\data\\waitrose-2024-07\\bakery.csv\n",
      "..\\data\\waitrose-2024-07\\beer-wine-and-spirits.csv\n",
      "..\\data\\waitrose-2024-07\\best-of-british.csv\n",
      "..\\data\\waitrose-2024-07\\dietary-and-lifestyle.csv\n",
      "..\\data\\waitrose-2024-07\\everyday-value.csv\n",
      "..\\data\\waitrose-2024-07\\food-cupboard.csv\n",
      "..\\data\\waitrose-2024-07\\fresh-and-chilled.csv\n",
      "..\\data\\waitrose-2024-07\\frozen.csv\n",
      "..\\data\\waitrose-2024-07\\home.csv\n",
      "..\\data\\waitrose-2024-07\\household.csv\n",
      "..\\data\\waitrose-2024-07\\new.csv\n",
      "..\\data\\waitrose-2024-07\\organic-shop.csv\n",
      "..\\data\\waitrose-2024-07\\pet.csv\n",
      "..\\data\\waitrose-2024-07\\summer.csv\n",
      "..\\data\\waitrose-2024-07\\tea-coffee-and-soft-drinks.csv\n",
      "..\\data\\waitrose-2024-07\\toiletries-health-and-beauty.csv\n",
      "..\\data\\waitrose-2024-07\\waitrose-brands.csv\n"
     ]
    }
   ],
   "source": [
    "for file in all_files:\n",
    "    print(file)"
   ]
  },
  {
   "cell_type": "code",
   "execution_count": 10,
   "id": "b391db98",
   "metadata": {},
   "outputs": [],
   "source": [
    "# Read every single file as a DataFrame\n",
    "# save data frames as a list\n",
    "list_of_dfs = [pd.read_csv(file) for file in all_files]"
   ]
  },
  {
   "cell_type": "code",
   "execution_count": 11,
   "id": "c373aaf6",
   "metadata": {},
   "outputs": [],
   "source": [
    "# Concatenate all the files into a single data frame\n",
    "df = pd.concat(list_of_dfs)"
   ]
  },
  {
   "cell_type": "code",
   "execution_count": 12,
   "id": "2e3dd6db",
   "metadata": {},
   "outputs": [
    {
     "data": {
      "application/vnd.microsoft.datawrangler.viewer.v0+json": {
       "columns": [
        {
         "name": "index",
         "rawType": "int64",
         "type": "integer"
        },
        {
         "name": "data-product-id",
         "rawType": "int64",
         "type": "integer"
        },
        {
         "name": "data-product-name",
         "rawType": "object",
         "type": "string"
        },
        {
         "name": "data-product-type",
         "rawType": "object",
         "type": "string"
        },
        {
         "name": "data-product-on-offer",
         "rawType": "bool",
         "type": "boolean"
        },
        {
         "name": "data-product-index",
         "rawType": "float64",
         "type": "float"
        },
        {
         "name": "image-url",
         "rawType": "object",
         "type": "string"
        },
        {
         "name": "product-page",
         "rawType": "object",
         "type": "string"
        },
        {
         "name": "product-name",
         "rawType": "object",
         "type": "string"
        },
        {
         "name": "product-size",
         "rawType": "object",
         "type": "string"
        },
        {
         "name": "item-price",
         "rawType": "object",
         "type": "string"
        },
        {
         "name": "price-per-unit",
         "rawType": "object",
         "type": "string"
        },
        {
         "name": "offer-description",
         "rawType": "object",
         "type": "unknown"
        },
        {
         "name": "category",
         "rawType": "object",
         "type": "string"
        }
       ],
       "ref": "31c792b6-5b46-414b-b71f-0d328f5e3c44",
       "rows": [
        [
         "0",
         "525635",
         "Organix Raspberry & Apple Soft Oaty Bars",
         "G",
         "False",
         "1.0",
         "https://ecom-su-static-prod.wtrecom.com/images/products/3/LN_525635_BP_3.jpg",
         "https://www.waitrose.com/ecom/products/organix-raspberry-apple-soft-oaty-bars/525635-812878-812879",
         "Organix Raspberry & Apple Soft Oaty Bars",
         "6x23g",
         "£3.15",
         "£2.29/100g",
         null,
         "Baby, Child & Parent"
        ],
        [
         "1",
         "557746",
         "Organix Carrot Cake Oaty Bars",
         "G",
         "False",
         "2.0",
         "https://ecom-su-static-prod.wtrecom.com/images/products/3/LN_557746_BP_3.jpg",
         "https://www.waitrose.com/ecom/products/organix-carrot-cake-oaty-bars/557746-812892-812893",
         "Organix Carrot Cake Oaty Bars",
         "6x23g",
         "£3.15",
         "£2.29/100g",
         null,
         "Baby, Child & Parent"
        ],
        [
         "2",
         "32062",
         "Aptamil 2 Follow On Milk",
         "G",
         "False",
         "394.0",
         "https://ecom-su-static-prod.wtrecom.com/images/products/3/LN_032062_BP_3.jpg",
         "https://www.waitrose.com/ecom/products/aptamil-2-follow-on-milk/032062-15633-15634",
         "Aptamil 2 Follow On Milk",
         "800g",
         "£13.50",
         "£16.88/kg",
         null,
         "Baby, Child & Parent"
        ],
        [
         "3",
         "767801",
         "Essential Baby Wipes",
         "G",
         "False",
         "4.0",
         "https://ecom-su-static-prod.wtrecom.com/images/products/3/LN_767801_BP_3.jpg",
         "https://www.waitrose.com/ecom/products/essential-baby-wipes/767801-156319-156320",
         "Essential Baby Wipes",
         "80s",
         "95p",
         "1.2p each",
         null,
         "Baby, Child & Parent"
        ],
        [
         "4",
         "514054",
         "Organix Apple Rice Cakes",
         "G",
         "False",
         "5.0",
         "https://ecom-su-static-prod.wtrecom.com/images/products/3/LN_514054_BP_3.jpg",
         "https://www.waitrose.com/ecom/products/organix-apple-rice-cakes/514054-791495-791496",
         "Organix Apple Rice Cakes",
         "40g",
         "£1.60",
         "£4/100g",
         null,
         "Baby, Child & Parent"
        ]
       ],
       "shape": {
        "columns": 13,
        "rows": 5
       }
      },
      "text/html": [
       "<div>\n",
       "<style scoped>\n",
       "    .dataframe tbody tr th:only-of-type {\n",
       "        vertical-align: middle;\n",
       "    }\n",
       "\n",
       "    .dataframe tbody tr th {\n",
       "        vertical-align: top;\n",
       "    }\n",
       "\n",
       "    .dataframe thead th {\n",
       "        text-align: right;\n",
       "    }\n",
       "</style>\n",
       "<table border=\"1\" class=\"dataframe\">\n",
       "  <thead>\n",
       "    <tr style=\"text-align: right;\">\n",
       "      <th></th>\n",
       "      <th>data-product-id</th>\n",
       "      <th>data-product-name</th>\n",
       "      <th>data-product-type</th>\n",
       "      <th>data-product-on-offer</th>\n",
       "      <th>data-product-index</th>\n",
       "      <th>image-url</th>\n",
       "      <th>product-page</th>\n",
       "      <th>product-name</th>\n",
       "      <th>product-size</th>\n",
       "      <th>item-price</th>\n",
       "      <th>price-per-unit</th>\n",
       "      <th>offer-description</th>\n",
       "      <th>category</th>\n",
       "    </tr>\n",
       "  </thead>\n",
       "  <tbody>\n",
       "    <tr>\n",
       "      <th>0</th>\n",
       "      <td>525635</td>\n",
       "      <td>Organix Raspberry &amp; Apple Soft Oaty Bars</td>\n",
       "      <td>G</td>\n",
       "      <td>False</td>\n",
       "      <td>1.0</td>\n",
       "      <td>https://ecom-su-static-prod.wtrecom.com/images...</td>\n",
       "      <td>https://www.waitrose.com/ecom/products/organix...</td>\n",
       "      <td>Organix Raspberry &amp; Apple Soft Oaty Bars</td>\n",
       "      <td>6x23g</td>\n",
       "      <td>£3.15</td>\n",
       "      <td>£2.29/100g</td>\n",
       "      <td>NaN</td>\n",
       "      <td>Baby, Child &amp; Parent</td>\n",
       "    </tr>\n",
       "    <tr>\n",
       "      <th>1</th>\n",
       "      <td>557746</td>\n",
       "      <td>Organix Carrot Cake Oaty Bars</td>\n",
       "      <td>G</td>\n",
       "      <td>False</td>\n",
       "      <td>2.0</td>\n",
       "      <td>https://ecom-su-static-prod.wtrecom.com/images...</td>\n",
       "      <td>https://www.waitrose.com/ecom/products/organix...</td>\n",
       "      <td>Organix Carrot Cake Oaty Bars</td>\n",
       "      <td>6x23g</td>\n",
       "      <td>£3.15</td>\n",
       "      <td>£2.29/100g</td>\n",
       "      <td>NaN</td>\n",
       "      <td>Baby, Child &amp; Parent</td>\n",
       "    </tr>\n",
       "    <tr>\n",
       "      <th>2</th>\n",
       "      <td>32062</td>\n",
       "      <td>Aptamil 2 Follow On Milk</td>\n",
       "      <td>G</td>\n",
       "      <td>False</td>\n",
       "      <td>394.0</td>\n",
       "      <td>https://ecom-su-static-prod.wtrecom.com/images...</td>\n",
       "      <td>https://www.waitrose.com/ecom/products/aptamil...</td>\n",
       "      <td>Aptamil 2 Follow On Milk</td>\n",
       "      <td>800g</td>\n",
       "      <td>£13.50</td>\n",
       "      <td>£16.88/kg</td>\n",
       "      <td>NaN</td>\n",
       "      <td>Baby, Child &amp; Parent</td>\n",
       "    </tr>\n",
       "    <tr>\n",
       "      <th>3</th>\n",
       "      <td>767801</td>\n",
       "      <td>Essential Baby Wipes</td>\n",
       "      <td>G</td>\n",
       "      <td>False</td>\n",
       "      <td>4.0</td>\n",
       "      <td>https://ecom-su-static-prod.wtrecom.com/images...</td>\n",
       "      <td>https://www.waitrose.com/ecom/products/essenti...</td>\n",
       "      <td>Essential Baby Wipes</td>\n",
       "      <td>80s</td>\n",
       "      <td>95p</td>\n",
       "      <td>1.2p each</td>\n",
       "      <td>NaN</td>\n",
       "      <td>Baby, Child &amp; Parent</td>\n",
       "    </tr>\n",
       "    <tr>\n",
       "      <th>4</th>\n",
       "      <td>514054</td>\n",
       "      <td>Organix Apple Rice Cakes</td>\n",
       "      <td>G</td>\n",
       "      <td>False</td>\n",
       "      <td>5.0</td>\n",
       "      <td>https://ecom-su-static-prod.wtrecom.com/images...</td>\n",
       "      <td>https://www.waitrose.com/ecom/products/organix...</td>\n",
       "      <td>Organix Apple Rice Cakes</td>\n",
       "      <td>40g</td>\n",
       "      <td>£1.60</td>\n",
       "      <td>£4/100g</td>\n",
       "      <td>NaN</td>\n",
       "      <td>Baby, Child &amp; Parent</td>\n",
       "    </tr>\n",
       "  </tbody>\n",
       "</table>\n",
       "</div>"
      ],
      "text/plain": [
       "   data-product-id                         data-product-name  \\\n",
       "0           525635  Organix Raspberry & Apple Soft Oaty Bars   \n",
       "1           557746             Organix Carrot Cake Oaty Bars   \n",
       "2            32062                  Aptamil 2 Follow On Milk   \n",
       "3           767801                      Essential Baby Wipes   \n",
       "4           514054                  Organix Apple Rice Cakes   \n",
       "\n",
       "  data-product-type  data-product-on-offer  data-product-index  \\\n",
       "0                 G                  False                 1.0   \n",
       "1                 G                  False                 2.0   \n",
       "2                 G                  False               394.0   \n",
       "3                 G                  False                 4.0   \n",
       "4                 G                  False                 5.0   \n",
       "\n",
       "                                           image-url  \\\n",
       "0  https://ecom-su-static-prod.wtrecom.com/images...   \n",
       "1  https://ecom-su-static-prod.wtrecom.com/images...   \n",
       "2  https://ecom-su-static-prod.wtrecom.com/images...   \n",
       "3  https://ecom-su-static-prod.wtrecom.com/images...   \n",
       "4  https://ecom-su-static-prod.wtrecom.com/images...   \n",
       "\n",
       "                                        product-page  \\\n",
       "0  https://www.waitrose.com/ecom/products/organix...   \n",
       "1  https://www.waitrose.com/ecom/products/organix...   \n",
       "2  https://www.waitrose.com/ecom/products/aptamil...   \n",
       "3  https://www.waitrose.com/ecom/products/essenti...   \n",
       "4  https://www.waitrose.com/ecom/products/organix...   \n",
       "\n",
       "                               product-name product-size item-price  \\\n",
       "0  Organix Raspberry & Apple Soft Oaty Bars        6x23g      £3.15   \n",
       "1             Organix Carrot Cake Oaty Bars        6x23g      £3.15   \n",
       "2                  Aptamil 2 Follow On Milk         800g     £13.50   \n",
       "3                      Essential Baby Wipes          80s        95p   \n",
       "4                  Organix Apple Rice Cakes          40g      £1.60   \n",
       "\n",
       "  price-per-unit offer-description              category  \n",
       "0     £2.29/100g               NaN  Baby, Child & Parent  \n",
       "1     £2.29/100g               NaN  Baby, Child & Parent  \n",
       "2      £16.88/kg               NaN  Baby, Child & Parent  \n",
       "3      1.2p each               NaN  Baby, Child & Parent  \n",
       "4        £4/100g               NaN  Baby, Child & Parent  "
      ]
     },
     "execution_count": 12,
     "metadata": {},
     "output_type": "execute_result"
    }
   ],
   "source": [
    "df.head()"
   ]
  },
  {
   "cell_type": "markdown",
   "id": "cbae9fe2",
   "metadata": {},
   "source": [
    "# Puzzle 1: Explore the `item-price` column"
   ]
  },
  {
   "cell_type": "code",
   "execution_count": 16,
   "id": "c16283b1",
   "metadata": {},
   "outputs": [
    {
     "name": "stdout",
     "output_type": "stream",
     "text": [
      "<class 'pandas.core.frame.DataFrame'>\n",
      "Index: 25418 entries, 0 to 1593\n",
      "Data columns (total 13 columns):\n",
      " #   Column                 Non-Null Count  Dtype  \n",
      "---  ------                 --------------  -----  \n",
      " 0   data-product-id        25418 non-null  int64  \n",
      " 1   data-product-name      25418 non-null  object \n",
      " 2   data-product-type      25418 non-null  object \n",
      " 3   data-product-on-offer  25418 non-null  bool   \n",
      " 4   data-product-index     25408 non-null  float64\n",
      " 5   image-url              25418 non-null  object \n",
      " 6   product-page           25418 non-null  object \n",
      " 7   product-name           25407 non-null  object \n",
      " 8   product-size           25363 non-null  object \n",
      " 9   item-price             25407 non-null  object \n",
      " 10  price-per-unit         24976 non-null  object \n",
      " 11  offer-description      7201 non-null   object \n",
      " 12  category               25418 non-null  object \n",
      "dtypes: bool(1), float64(1), int64(1), object(10)\n",
      "memory usage: 2.5+ MB\n"
     ]
    }
   ],
   "source": [
    "df.info()"
   ]
  },
  {
   "cell_type": "code",
   "execution_count": 15,
   "id": "b65e7420",
   "metadata": {},
   "outputs": [
    {
     "data": {
      "text/plain": [
       "775"
      ]
     },
     "execution_count": 15,
     "metadata": {},
     "output_type": "execute_result"
    }
   ],
   "source": [
    "len(df['item-price'].unique())"
   ]
  },
  {
   "cell_type": "code",
   "execution_count": 17,
   "id": "987dba27",
   "metadata": {},
   "outputs": [
    {
     "data": {
      "application/vnd.microsoft.datawrangler.viewer.v0+json": {
       "columns": [
        {
         "name": "index",
         "rawType": "int64",
         "type": "integer"
        },
        {
         "name": "item-price",
         "rawType": "object",
         "type": "string"
        }
       ],
       "ref": "262efd4e-6d9e-480f-af19-7b8a19098f5f",
       "rows": [
        [
         "0",
         "£3.15"
        ],
        [
         "1",
         "£3.15"
        ],
        [
         "2",
         "£13.50"
        ],
        [
         "3",
         "95p"
        ],
        [
         "4",
         "£1.60"
        ]
       ],
       "shape": {
        "columns": 1,
        "rows": 5
       }
      },
      "text/plain": [
       "0     £3.15\n",
       "1     £3.15\n",
       "2    £13.50\n",
       "3       95p\n",
       "4     £1.60\n",
       "Name: item-price, dtype: object"
      ]
     },
     "execution_count": 17,
     "metadata": {},
     "output_type": "execute_result"
    }
   ],
   "source": [
    "df['item-price'].head()"
   ]
  },
  {
   "cell_type": "code",
   "execution_count": 29,
   "id": "21439f33",
   "metadata": {},
   "outputs": [
    {
     "data": {
      "text/plain": [
       "str"
      ]
     },
     "execution_count": 29,
     "metadata": {},
     "output_type": "execute_result"
    }
   ],
   "source": [
    "type(df['item-price'].iloc[0])"
   ]
  },
  {
   "cell_type": "markdown",
   "id": "0421c9cd",
   "metadata": {},
   "source": [
    "## Cleaning up the Variables"
   ]
  },
  {
   "cell_type": "code",
   "execution_count": 52,
   "id": "66908f0c",
   "metadata": {},
   "outputs": [],
   "source": [
    "def remove_perunit_tag(price):\n",
    "    \"\"\"Remove trailing information about per unit price\"\"\"\n",
    "    if isinstance(price, str):\n",
    "        return price.strip(' each est.')\n",
    "    else:\n",
    "        return price\n",
    "\n",
    "\n",
    "def remove_currency_lead(price, currency_symbol='£'):\n",
    "    \"\"\"Remove leading £\"\"\"\n",
    "    if isinstance(price, str):\n",
    "        return price.strip(currency_symbol)\n",
    "    else:\n",
    "        return price\n",
    "\n",
    "def remove_trailing_symbol(price, trailing_symbol='p'):\n",
    "    \"\"\"Remove trailing value\"\"\"\n",
    "    if isinstance(price, str) and price.endswith(trailing_symbol):\n",
    "        return '0.' + price.strip(trailing_symbol)\n",
    "    else:\n",
    "        return price"
   ]
  },
  {
   "cell_type": "code",
   "execution_count": 53,
   "id": "b2cea268",
   "metadata": {},
   "outputs": [],
   "source": [
    "df['item-price'] = [remove_perunit_tag(price) for price in df['item-price']]"
   ]
  },
  {
   "cell_type": "code",
   "execution_count": 54,
   "id": "2a12b3c2",
   "metadata": {},
   "outputs": [],
   "source": [
    "df['item-price'] = [remove_currency_lead(price) for price in df['item-price']]"
   ]
  },
  {
   "cell_type": "code",
   "execution_count": 55,
   "id": "8511e605",
   "metadata": {},
   "outputs": [
    {
     "data": {
      "application/vnd.microsoft.datawrangler.viewer.v0+json": {
       "columns": [
        {
         "name": "index",
         "rawType": "int64",
         "type": "integer"
        },
        {
         "name": "item-price",
         "rawType": "object",
         "type": "unknown"
        }
       ],
       "ref": "a259ba23-4987-4023-8a05-892b2e386b42",
       "rows": [
        [
         "0",
         "3.15"
        ],
        [
         "1",
         "3.15"
        ],
        [
         "2",
         "13.50"
        ],
        [
         "3",
         "0.95"
        ],
        [
         "4",
         "1.60"
        ],
        [
         "5",
         "1.50"
        ],
        [
         "6",
         "1.20"
        ],
        [
         "7",
         "1.00"
        ],
        [
         "8",
         "2.50"
        ],
        [
         "9",
         "1.00"
        ],
        [
         "10",
         "1.60"
        ],
        [
         "11",
         "1.00"
        ],
        [
         "12",
         "1.30"
        ],
        [
         "13",
         "2.65"
        ],
        [
         "14",
         "1.50"
        ],
        [
         "15",
         "1.30"
        ],
        [
         "16",
         "3.00"
        ],
        [
         "17",
         "1.00"
        ],
        [
         "18",
         "1.00"
        ],
        [
         "19",
         "2.80"
        ],
        [
         "20",
         "1.00"
        ],
        [
         "21",
         "2.25"
        ],
        [
         "22",
         "2.95"
        ],
        [
         "23",
         "1.35"
        ],
        [
         "24",
         "11.50"
        ],
        [
         "25",
         "3.00"
        ],
        [
         "26",
         "3.00"
        ],
        [
         "27",
         "0.60"
        ],
        [
         "28",
         "3.70"
        ],
        [
         "29",
         "0.85"
        ],
        [
         "30",
         "1.35"
        ],
        [
         "31",
         "5.00"
        ],
        [
         "32",
         "2.60"
        ],
        [
         "33",
         "2.95"
        ],
        [
         "34",
         "1.35"
        ],
        [
         "35",
         "1.10"
        ],
        [
         "36",
         "1.35"
        ],
        [
         "37",
         "4.10"
        ],
        [
         "38",
         "1.05"
        ],
        [
         "39",
         "0.85"
        ],
        [
         "40",
         "1.35"
        ],
        [
         "41",
         "1.10"
        ],
        [
         "42",
         "1.30"
        ],
        [
         "43",
         "0.60"
        ],
        [
         "44",
         "1.00"
        ],
        [
         "45",
         "1.35"
        ],
        [
         "46",
         "4.50"
        ],
        [
         "47",
         "3.50"
        ],
        [
         "48",
         "1.35"
        ],
        [
         "49",
         "2.95"
        ]
       ],
       "shape": {
        "columns": 1,
        "rows": 25418
       }
      },
      "text/plain": [
       "0        3.15\n",
       "1        3.15\n",
       "2       13.50\n",
       "3        0.95\n",
       "4        1.60\n",
       "        ...  \n",
       "1589    24.31\n",
       "1590     2.40\n",
       "1591    10.00\n",
       "1592     2.50\n",
       "1593    21.49\n",
       "Name: item-price, Length: 25418, dtype: object"
      ]
     },
     "execution_count": 55,
     "metadata": {},
     "output_type": "execute_result"
    }
   ],
   "source": [
    "df['item-price']"
   ]
  },
  {
   "cell_type": "code",
   "execution_count": 56,
   "id": "cfbb5908",
   "metadata": {},
   "outputs": [],
   "source": [
    "df['item-price'] = df['item-price'].apply(remove_trailing_symbol)"
   ]
  },
  {
   "cell_type": "code",
   "execution_count": 57,
   "id": "d8e10519",
   "metadata": {},
   "outputs": [
    {
     "data": {
      "application/vnd.microsoft.datawrangler.viewer.v0+json": {
       "columns": [
        {
         "name": "index",
         "rawType": "int64",
         "type": "integer"
        },
        {
         "name": "item-price",
         "rawType": "object",
         "type": "unknown"
        }
       ],
       "ref": "62ef0b39-b743-400b-8f15-5c46d42fc8b8",
       "rows": [
        [
         "291",
         "55-£110"
        ],
        [
         "294",
         "30-£38"
        ],
        [
         "299",
         "54-£92"
        ],
        [
         "302",
         "168-£196"
        ],
        [
         "305",
         "31-£40"
        ],
        [
         "307",
         "94-£115"
        ],
        [
         "311",
         "35-£41"
        ],
        [
         "313",
         "32-£39"
        ],
        [
         "318",
         "24-£32"
        ],
        [
         "48",
         null
        ],
        [
         "49",
         null
        ],
        [
         "48",
         null
        ],
        [
         "49",
         null
        ],
        [
         "3237",
         "42-£60"
        ],
        [
         "3279",
         "20-£28"
        ],
        [
         "3328",
         "55-£110"
        ],
        [
         "3330",
         "62-£79"
        ],
        [
         "3360",
         "30-£38"
        ],
        [
         "3378",
         "54-£92"
        ],
        [
         "3396",
         "60-£80"
        ],
        [
         "3435",
         "168-£196"
        ],
        [
         "3448",
         "31-£40"
        ],
        [
         "3454",
         "25-£38"
        ],
        [
         "3471",
         "94-£115"
        ],
        [
         "3475",
         "27-£39"
        ],
        [
         "3513",
         "35-£41"
        ],
        [
         "3536",
         "32-£39"
        ],
        [
         "3546",
         "39-£45"
        ],
        [
         "3562",
         "24-£32"
        ],
        [
         "48",
         null
        ],
        [
         "49",
         null
        ],
        [
         "24",
         null
        ],
        [
         "48",
         null
        ],
        [
         "49",
         null
        ],
        [
         "76",
         "62-£79"
        ],
        [
         "1193",
         "42-£60"
        ],
        [
         "1218",
         "20-£28"
        ],
        [
         "1265",
         "55-£110"
        ],
        [
         "1296",
         "30-£38"
        ],
        [
         "1320",
         "54-£92"
        ],
        [
         "1333",
         "60-£80"
        ],
        [
         "1359",
         "168-£196"
        ],
        [
         "1375",
         "31-£40"
        ],
        [
         "1385",
         "25-£38"
        ],
        [
         "1393",
         "94-£115"
        ],
        [
         "1397",
         "27-£39"
        ],
        [
         "1432",
         "35-£41"
        ],
        [
         "1461",
         "39-£45"
        ],
        [
         "1466",
         "24-£32"
        ],
        [
         "48",
         null
        ]
       ],
       "shape": {
        "columns": 1,
        "rows": 51
       }
      },
      "text/plain": [
       "291      55-£110\n",
       "294       30-£38\n",
       "299       54-£92\n",
       "302     168-£196\n",
       "305       31-£40\n",
       "307      94-£115\n",
       "311       35-£41\n",
       "313       32-£39\n",
       "318       24-£32\n",
       "48           NaN\n",
       "49           NaN\n",
       "48           NaN\n",
       "49           NaN\n",
       "3237      42-£60\n",
       "3279      20-£28\n",
       "3328     55-£110\n",
       "3330      62-£79\n",
       "3360      30-£38\n",
       "3378      54-£92\n",
       "3396      60-£80\n",
       "3435    168-£196\n",
       "3448      31-£40\n",
       "3454      25-£38\n",
       "3471     94-£115\n",
       "3475      27-£39\n",
       "3513      35-£41\n",
       "3536      32-£39\n",
       "3546      39-£45\n",
       "3562      24-£32\n",
       "48           NaN\n",
       "49           NaN\n",
       "24           NaN\n",
       "48           NaN\n",
       "49           NaN\n",
       "76        62-£79\n",
       "1193      42-£60\n",
       "1218      20-£28\n",
       "1265     55-£110\n",
       "1296      30-£38\n",
       "1320      54-£92\n",
       "1333      60-£80\n",
       "1359    168-£196\n",
       "1375      31-£40\n",
       "1385      25-£38\n",
       "1393     94-£115\n",
       "1397      27-£39\n",
       "1432      35-£41\n",
       "1461      39-£45\n",
       "1466      24-£32\n",
       "48           NaN\n",
       "49           NaN\n",
       "Name: item-price, dtype: object"
      ]
     },
     "execution_count": 57,
     "metadata": {},
     "output_type": "execute_result"
    }
   ],
   "source": [
    "# Examining our missing values\n",
    "\n",
    "df['item-price'][pd.to_numeric(df['item-price'], errors='coerce').isna()]"
   ]
  },
  {
   "cell_type": "markdown",
   "id": "c9906dd4",
   "metadata": {},
   "source": [
    "At this point need to think about what to do with ranges, but can ignore them for now."
   ]
  },
  {
   "cell_type": "code",
   "execution_count": 58,
   "id": "96eb18c4",
   "metadata": {},
   "outputs": [],
   "source": [
    "df['item-price'] = pd.to_numeric(df['item-price'], errors='coerce')"
   ]
  }
 ],
 "metadata": {
  "kernelspec": {
   "display_name": "base",
   "language": "python",
   "name": "python3"
  },
  "language_info": {
   "codemirror_mode": {
    "name": "ipython",
    "version": 3
   },
   "file_extension": ".py",
   "mimetype": "text/x-python",
   "name": "python",
   "nbconvert_exporter": "python",
   "pygments_lexer": "ipython3",
   "version": "3.12.4"
  }
 },
 "nbformat": 4,
 "nbformat_minor": 5
}

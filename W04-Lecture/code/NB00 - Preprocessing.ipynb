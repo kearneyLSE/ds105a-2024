{
 "cells": [
  {
   "cell_type": "markdown",
   "id": "77964641",
   "metadata": {},
   "source": [
    "# Cleaning Up the Price Data"
   ]
  },
  {
   "cell_type": "markdown",
   "id": "b6c8faa2",
   "metadata": {},
   "source": [
    "Goals:\n",
    "\n",
    "1.  Working with original `CSV` files\n",
    "2.  Convert the `item-price` column from a string to a float\n",
    "3.  Plot to confirm pre-processing worked"
   ]
  },
  {
   "cell_type": "code",
   "execution_count": 2,
   "id": "260fcadf",
   "metadata": {},
   "outputs": [],
   "source": [
    "import pandas as pd\n",
    "import os"
   ]
  },
  {
   "cell_type": "markdown",
   "id": "add2eb4d",
   "metadata": {},
   "source": [
    "## Read All CSV Files Into A Dataframe"
   ]
  },
  {
   "cell_type": "code",
   "execution_count": 3,
   "id": "3b0f42ab",
   "metadata": {},
   "outputs": [],
   "source": [
    "data_folder = os.path.join('..', 'data', 'waitrose-2024-07')"
   ]
  },
  {
   "cell_type": "code",
   "execution_count": null,
   "id": "7e4f8a24",
   "metadata": {},
   "outputs": [],
   "source": [
    "# Use list comprehension to collect all the files in the folder and create their folder path\n",
    "all_files = [\n",
    "    os.path.join(data_folder, file) for file in os.listdir(data_folder)\n",
    "    if file.endswith('.csv')\n",
    "\n",
    "]"
   ]
  },
  {
   "cell_type": "code",
   "execution_count": 9,
   "id": "ef5613ad",
   "metadata": {},
   "outputs": [
    {
     "name": "stdout",
     "output_type": "stream",
     "text": [
      "..\\data\\waitrose-2024-07\\baby-child-and-parent.csv\n",
      "..\\data\\waitrose-2024-07\\bakery.csv\n",
      "..\\data\\waitrose-2024-07\\beer-wine-and-spirits.csv\n",
      "..\\data\\waitrose-2024-07\\best-of-british.csv\n",
      "..\\data\\waitrose-2024-07\\dietary-and-lifestyle.csv\n",
      "..\\data\\waitrose-2024-07\\everyday-value.csv\n",
      "..\\data\\waitrose-2024-07\\food-cupboard.csv\n",
      "..\\data\\waitrose-2024-07\\fresh-and-chilled.csv\n",
      "..\\data\\waitrose-2024-07\\frozen.csv\n",
      "..\\data\\waitrose-2024-07\\home.csv\n",
      "..\\data\\waitrose-2024-07\\household.csv\n",
      "..\\data\\waitrose-2024-07\\new.csv\n",
      "..\\data\\waitrose-2024-07\\organic-shop.csv\n",
      "..\\data\\waitrose-2024-07\\pet.csv\n",
      "..\\data\\waitrose-2024-07\\summer.csv\n",
      "..\\data\\waitrose-2024-07\\tea-coffee-and-soft-drinks.csv\n",
      "..\\data\\waitrose-2024-07\\toiletries-health-and-beauty.csv\n",
      "..\\data\\waitrose-2024-07\\waitrose-brands.csv\n"
     ]
    }
   ],
   "source": [
    "for file in all_files:\n",
    "    print(file)"
   ]
  },
  {
   "cell_type": "code",
   "execution_count": null,
   "id": "b391db98",
   "metadata": {},
   "outputs": [],
   "source": [
    "# Read every single file as a DataFrame"
   ]
  }
 ],
 "metadata": {
  "kernelspec": {
   "display_name": "base",
   "language": "python",
   "name": "python3"
  },
  "language_info": {
   "codemirror_mode": {
    "name": "ipython",
    "version": 3
   },
   "file_extension": ".py",
   "mimetype": "text/x-python",
   "name": "python",
   "nbconvert_exporter": "python",
   "pygments_lexer": "ipython3",
   "version": "3.12.4"
  }
 },
 "nbformat": 4,
 "nbformat_minor": 5
}
